{
 "cells": [
  {
   "cell_type": "code",
   "execution_count": 8,
   "id": "c7301ac2",
   "metadata": {},
   "outputs": [
    {
     "name": "stdout",
     "output_type": "stream",
     "text": [
      "Requirement already satisfied: tensorflow in c:\\users\\admin\\desktop\\주예성\\10_핀테크_대체데이터분석(자연어처리)\\source\\.venv\\lib\\site-packages (2.19.0)\n",
      "Requirement already satisfied: absl-py>=1.0.0 in c:\\users\\admin\\desktop\\주예성\\10_핀테크_대체데이터분석(자연어처리)\\source\\.venv\\lib\\site-packages (from tensorflow) (2.3.1)\n",
      "Requirement already satisfied: astunparse>=1.6.0 in c:\\users\\admin\\desktop\\주예성\\10_핀테크_대체데이터분석(자연어처리)\\source\\.venv\\lib\\site-packages (from tensorflow) (1.6.3)\n",
      "Requirement already satisfied: flatbuffers>=24.3.25 in c:\\users\\admin\\desktop\\주예성\\10_핀테크_대체데이터분석(자연어처리)\\source\\.venv\\lib\\site-packages (from tensorflow) (25.2.10)\n",
      "Requirement already satisfied: gast!=0.5.0,!=0.5.1,!=0.5.2,>=0.2.1 in c:\\users\\admin\\desktop\\주예성\\10_핀테크_대체데이터분석(자연어처리)\\source\\.venv\\lib\\site-packages (from tensorflow) (0.6.0)\n",
      "Requirement already satisfied: google-pasta>=0.1.1 in c:\\users\\admin\\desktop\\주예성\\10_핀테크_대체데이터분석(자연어처리)\\source\\.venv\\lib\\site-packages (from tensorflow) (0.2.0)\n",
      "Requirement already satisfied: libclang>=13.0.0 in c:\\users\\admin\\desktop\\주예성\\10_핀테크_대체데이터분석(자연어처리)\\source\\.venv\\lib\\site-packages (from tensorflow) (18.1.1)\n",
      "Requirement already satisfied: opt-einsum>=2.3.2 in c:\\users\\admin\\desktop\\주예성\\10_핀테크_대체데이터분석(자연어처리)\\source\\.venv\\lib\\site-packages (from tensorflow) (3.4.0)\n",
      "Requirement already satisfied: packaging in c:\\users\\admin\\desktop\\주예성\\10_핀테크_대체데이터분석(자연어처리)\\source\\.venv\\lib\\site-packages (from tensorflow) (25.0)\n",
      "Requirement already satisfied: protobuf!=4.21.0,!=4.21.1,!=4.21.2,!=4.21.3,!=4.21.4,!=4.21.5,<6.0.0dev,>=3.20.3 in c:\\users\\admin\\desktop\\주예성\\10_핀테크_대체데이터분석(자연어처리)\\source\\.venv\\lib\\site-packages (from tensorflow) (5.29.5)\n",
      "Requirement already satisfied: requests<3,>=2.21.0 in c:\\users\\admin\\desktop\\주예성\\10_핀테크_대체데이터분석(자연어처리)\\source\\.venv\\lib\\site-packages (from tensorflow) (2.32.4)\n",
      "Requirement already satisfied: setuptools in c:\\users\\admin\\desktop\\주예성\\10_핀테크_대체데이터분석(자연어처리)\\source\\.venv\\lib\\site-packages (from tensorflow) (80.9.0)\n",
      "Requirement already satisfied: six>=1.12.0 in c:\\users\\admin\\desktop\\주예성\\10_핀테크_대체데이터분석(자연어처리)\\source\\.venv\\lib\\site-packages (from tensorflow) (1.17.0)\n",
      "Requirement already satisfied: termcolor>=1.1.0 in c:\\users\\admin\\desktop\\주예성\\10_핀테크_대체데이터분석(자연어처리)\\source\\.venv\\lib\\site-packages (from tensorflow) (3.1.0)\n",
      "Requirement already satisfied: typing-extensions>=3.6.6 in c:\\users\\admin\\desktop\\주예성\\10_핀테크_대체데이터분석(자연어처리)\\source\\.venv\\lib\\site-packages (from tensorflow) (4.14.1)\n",
      "Requirement already satisfied: wrapt>=1.11.0 in c:\\users\\admin\\desktop\\주예성\\10_핀테크_대체데이터분석(자연어처리)\\source\\.venv\\lib\\site-packages (from tensorflow) (1.17.2)\n",
      "Requirement already satisfied: grpcio<2.0,>=1.24.3 in c:\\users\\admin\\desktop\\주예성\\10_핀테크_대체데이터분석(자연어처리)\\source\\.venv\\lib\\site-packages (from tensorflow) (1.73.1)\n",
      "Requirement already satisfied: tensorboard~=2.19.0 in c:\\users\\admin\\desktop\\주예성\\10_핀테크_대체데이터분석(자연어처리)\\source\\.venv\\lib\\site-packages (from tensorflow) (2.19.0)\n",
      "Requirement already satisfied: keras>=3.5.0 in c:\\users\\admin\\desktop\\주예성\\10_핀테크_대체데이터분석(자연어처리)\\source\\.venv\\lib\\site-packages (from tensorflow) (3.10.0)\n",
      "Requirement already satisfied: numpy<2.2.0,>=1.26.0 in c:\\users\\admin\\desktop\\주예성\\10_핀테크_대체데이터분석(자연어처리)\\source\\.venv\\lib\\site-packages (from tensorflow) (2.1.3)\n",
      "Requirement already satisfied: h5py>=3.11.0 in c:\\users\\admin\\desktop\\주예성\\10_핀테크_대체데이터분석(자연어처리)\\source\\.venv\\lib\\site-packages (from tensorflow) (3.14.0)\n",
      "Requirement already satisfied: ml-dtypes<1.0.0,>=0.5.1 in c:\\users\\admin\\desktop\\주예성\\10_핀테크_대체데이터분석(자연어처리)\\source\\.venv\\lib\\site-packages (from tensorflow) (0.5.1)\n",
      "Requirement already satisfied: charset_normalizer<4,>=2 in c:\\users\\admin\\desktop\\주예성\\10_핀테크_대체데이터분석(자연어처리)\\source\\.venv\\lib\\site-packages (from requests<3,>=2.21.0->tensorflow) (3.4.2)\n",
      "Requirement already satisfied: idna<4,>=2.5 in c:\\users\\admin\\desktop\\주예성\\10_핀테크_대체데이터분석(자연어처리)\\source\\.venv\\lib\\site-packages (from requests<3,>=2.21.0->tensorflow) (3.10)\n",
      "Requirement already satisfied: urllib3<3,>=1.21.1 in c:\\users\\admin\\desktop\\주예성\\10_핀테크_대체데이터분석(자연어처리)\\source\\.venv\\lib\\site-packages (from requests<3,>=2.21.0->tensorflow) (2.5.0)\n",
      "Requirement already satisfied: certifi>=2017.4.17 in c:\\users\\admin\\desktop\\주예성\\10_핀테크_대체데이터분석(자연어처리)\\source\\.venv\\lib\\site-packages (from requests<3,>=2.21.0->tensorflow) (2025.6.15)\n",
      "Requirement already satisfied: markdown>=2.6.8 in c:\\users\\admin\\desktop\\주예성\\10_핀테크_대체데이터분석(자연어처리)\\source\\.venv\\lib\\site-packages (from tensorboard~=2.19.0->tensorflow) (3.8.2)\n",
      "Requirement already satisfied: tensorboard-data-server<0.8.0,>=0.7.0 in c:\\users\\admin\\desktop\\주예성\\10_핀테크_대체데이터분석(자연어처리)\\source\\.venv\\lib\\site-packages (from tensorboard~=2.19.0->tensorflow) (0.7.2)\n",
      "Requirement already satisfied: werkzeug>=1.0.1 in c:\\users\\admin\\desktop\\주예성\\10_핀테크_대체데이터분석(자연어처리)\\source\\.venv\\lib\\site-packages (from tensorboard~=2.19.0->tensorflow) (3.1.3)\n",
      "Requirement already satisfied: wheel<1.0,>=0.23.0 in c:\\users\\admin\\desktop\\주예성\\10_핀테크_대체데이터분석(자연어처리)\\source\\.venv\\lib\\site-packages (from astunparse>=1.6.0->tensorflow) (0.45.1)\n",
      "Requirement already satisfied: rich in c:\\users\\admin\\desktop\\주예성\\10_핀테크_대체데이터분석(자연어처리)\\source\\.venv\\lib\\site-packages (from keras>=3.5.0->tensorflow) (14.0.0)\n",
      "Requirement already satisfied: namex in c:\\users\\admin\\desktop\\주예성\\10_핀테크_대체데이터분석(자연어처리)\\source\\.venv\\lib\\site-packages (from keras>=3.5.0->tensorflow) (0.1.0)\n",
      "Requirement already satisfied: optree in c:\\users\\admin\\desktop\\주예성\\10_핀테크_대체데이터분석(자연어처리)\\source\\.venv\\lib\\site-packages (from keras>=3.5.0->tensorflow) (0.16.0)\n",
      "Requirement already satisfied: MarkupSafe>=2.1.1 in c:\\users\\admin\\desktop\\주예성\\10_핀테크_대체데이터분석(자연어처리)\\source\\.venv\\lib\\site-packages (from werkzeug>=1.0.1->tensorboard~=2.19.0->tensorflow) (3.0.2)\n",
      "Requirement already satisfied: markdown-it-py>=2.2.0 in c:\\users\\admin\\desktop\\주예성\\10_핀테크_대체데이터분석(자연어처리)\\source\\.venv\\lib\\site-packages (from rich->keras>=3.5.0->tensorflow) (3.0.0)\n",
      "Requirement already satisfied: pygments<3.0.0,>=2.13.0 in c:\\users\\admin\\desktop\\주예성\\10_핀테크_대체데이터분석(자연어처리)\\source\\.venv\\lib\\site-packages (from rich->keras>=3.5.0->tensorflow) (2.19.2)\n",
      "Requirement already satisfied: mdurl~=0.1 in c:\\users\\admin\\desktop\\주예성\\10_핀테크_대체데이터분석(자연어처리)\\source\\.venv\\lib\\site-packages (from markdown-it-py>=2.2.0->rich->keras>=3.5.0->tensorflow) (0.1.2)\n"
     ]
    }
   ],
   "source": [
    "!pip install tensorflow"
   ]
  },
  {
   "cell_type": "code",
   "execution_count": 9,
   "id": "6dc27d60",
   "metadata": {},
   "outputs": [
    {
     "name": "stdout",
     "output_type": "stream",
     "text": [
      "Requirement already satisfied: scikit-learn in c:\\users\\admin\\desktop\\주예성\\10_핀테크_대체데이터분석(자연어처리)\\source\\.venv\\lib\\site-packages (1.7.0)\n",
      "Requirement already satisfied: numpy>=1.22.0 in c:\\users\\admin\\desktop\\주예성\\10_핀테크_대체데이터분석(자연어처리)\\source\\.venv\\lib\\site-packages (from scikit-learn) (2.1.3)\n",
      "Requirement already satisfied: scipy>=1.8.0 in c:\\users\\admin\\desktop\\주예성\\10_핀테크_대체데이터분석(자연어처리)\\source\\.venv\\lib\\site-packages (from scikit-learn) (1.16.0)\n",
      "Requirement already satisfied: joblib>=1.2.0 in c:\\users\\admin\\desktop\\주예성\\10_핀테크_대체데이터분석(자연어처리)\\source\\.venv\\lib\\site-packages (from scikit-learn) (1.5.1)\n",
      "Requirement already satisfied: threadpoolctl>=3.1.0 in c:\\users\\admin\\desktop\\주예성\\10_핀테크_대체데이터분석(자연어처리)\\source\\.venv\\lib\\site-packages (from scikit-learn) (3.6.0)\n"
     ]
    }
   ],
   "source": [
    "!pip install scikit-learn"
   ]
  },
  {
   "cell_type": "code",
   "execution_count": 10,
   "id": "ea09e838",
   "metadata": {},
   "outputs": [
    {
     "name": "stdout",
     "output_type": "stream",
     "text": [
      "Requirement already satisfied: torch in c:\\users\\admin\\desktop\\주예성\\10_핀테크_대체데이터분석(자연어처리)\\source\\.venv\\lib\\site-packages (2.7.1)\n",
      "Requirement already satisfied: filelock in c:\\users\\admin\\desktop\\주예성\\10_핀테크_대체데이터분석(자연어처리)\\source\\.venv\\lib\\site-packages (from torch) (3.18.0)\n",
      "Requirement already satisfied: typing-extensions>=4.10.0 in c:\\users\\admin\\desktop\\주예성\\10_핀테크_대체데이터분석(자연어처리)\\source\\.venv\\lib\\site-packages (from torch) (4.14.1)\n",
      "Requirement already satisfied: sympy>=1.13.3 in c:\\users\\admin\\desktop\\주예성\\10_핀테크_대체데이터분석(자연어처리)\\source\\.venv\\lib\\site-packages (from torch) (1.14.0)\n",
      "Requirement already satisfied: networkx in c:\\users\\admin\\desktop\\주예성\\10_핀테크_대체데이터분석(자연어처리)\\source\\.venv\\lib\\site-packages (from torch) (3.5)\n",
      "Requirement already satisfied: jinja2 in c:\\users\\admin\\desktop\\주예성\\10_핀테크_대체데이터분석(자연어처리)\\source\\.venv\\lib\\site-packages (from torch) (3.1.6)\n",
      "Requirement already satisfied: fsspec in c:\\users\\admin\\desktop\\주예성\\10_핀테크_대체데이터분석(자연어처리)\\source\\.venv\\lib\\site-packages (from torch) (2025.5.1)\n",
      "Requirement already satisfied: setuptools in c:\\users\\admin\\desktop\\주예성\\10_핀테크_대체데이터분석(자연어처리)\\source\\.venv\\lib\\site-packages (from torch) (80.9.0)\n",
      "Requirement already satisfied: mpmath<1.4,>=1.1.0 in c:\\users\\admin\\desktop\\주예성\\10_핀테크_대체데이터분석(자연어처리)\\source\\.venv\\lib\\site-packages (from sympy>=1.13.3->torch) (1.3.0)\n",
      "Requirement already satisfied: MarkupSafe>=2.0 in c:\\users\\admin\\desktop\\주예성\\10_핀테크_대체데이터분석(자연어처리)\\source\\.venv\\lib\\site-packages (from jinja2->torch) (3.0.2)\n"
     ]
    }
   ],
   "source": [
    "!pip install torch"
   ]
  },
  {
   "cell_type": "code",
   "execution_count": 11,
   "id": "4466ae81",
   "metadata": {},
   "outputs": [
    {
     "name": "stdout",
     "output_type": "stream",
     "text": [
      "Requirement already satisfied: torchvision in c:\\users\\admin\\desktop\\주예성\\10_핀테크_대체데이터분석(자연어처리)\\source\\.venv\\lib\\site-packages (0.22.1)\n",
      "Requirement already satisfied: numpy in c:\\users\\admin\\desktop\\주예성\\10_핀테크_대체데이터분석(자연어처리)\\source\\.venv\\lib\\site-packages (from torchvision) (2.1.3)\n",
      "Requirement already satisfied: torch==2.7.1 in c:\\users\\admin\\desktop\\주예성\\10_핀테크_대체데이터분석(자연어처리)\\source\\.venv\\lib\\site-packages (from torchvision) (2.7.1)\n",
      "Requirement already satisfied: pillow!=8.3.*,>=5.3.0 in c:\\users\\admin\\desktop\\주예성\\10_핀테크_대체데이터분석(자연어처리)\\source\\.venv\\lib\\site-packages (from torchvision) (11.3.0)\n",
      "Requirement already satisfied: filelock in c:\\users\\admin\\desktop\\주예성\\10_핀테크_대체데이터분석(자연어처리)\\source\\.venv\\lib\\site-packages (from torch==2.7.1->torchvision) (3.18.0)\n",
      "Requirement already satisfied: typing-extensions>=4.10.0 in c:\\users\\admin\\desktop\\주예성\\10_핀테크_대체데이터분석(자연어처리)\\source\\.venv\\lib\\site-packages (from torch==2.7.1->torchvision) (4.14.1)\n",
      "Requirement already satisfied: sympy>=1.13.3 in c:\\users\\admin\\desktop\\주예성\\10_핀테크_대체데이터분석(자연어처리)\\source\\.venv\\lib\\site-packages (from torch==2.7.1->torchvision) (1.14.0)\n",
      "Requirement already satisfied: networkx in c:\\users\\admin\\desktop\\주예성\\10_핀테크_대체데이터분석(자연어처리)\\source\\.venv\\lib\\site-packages (from torch==2.7.1->torchvision) (3.5)\n",
      "Requirement already satisfied: jinja2 in c:\\users\\admin\\desktop\\주예성\\10_핀테크_대체데이터분석(자연어처리)\\source\\.venv\\lib\\site-packages (from torch==2.7.1->torchvision) (3.1.6)\n",
      "Requirement already satisfied: fsspec in c:\\users\\admin\\desktop\\주예성\\10_핀테크_대체데이터분석(자연어처리)\\source\\.venv\\lib\\site-packages (from torch==2.7.1->torchvision) (2025.5.1)\n",
      "Requirement already satisfied: setuptools in c:\\users\\admin\\desktop\\주예성\\10_핀테크_대체데이터분석(자연어처리)\\source\\.venv\\lib\\site-packages (from torch==2.7.1->torchvision) (80.9.0)\n",
      "Requirement already satisfied: mpmath<1.4,>=1.1.0 in c:\\users\\admin\\desktop\\주예성\\10_핀테크_대체데이터분석(자연어처리)\\source\\.venv\\lib\\site-packages (from sympy>=1.13.3->torch==2.7.1->torchvision) (1.3.0)\n",
      "Requirement already satisfied: MarkupSafe>=2.0 in c:\\users\\admin\\desktop\\주예성\\10_핀테크_대체데이터분석(자연어처리)\\source\\.venv\\lib\\site-packages (from jinja2->torch==2.7.1->torchvision) (3.0.2)\n"
     ]
    }
   ],
   "source": [
    "!pip install torchvision"
   ]
  },
  {
   "cell_type": "code",
   "execution_count": 12,
   "id": "10cd606d",
   "metadata": {},
   "outputs": [
    {
     "name": "stdout",
     "output_type": "stream",
     "text": [
      "Requirement already satisfied: matplotlib in c:\\users\\admin\\desktop\\주예성\\10_핀테크_대체데이터분석(자연어처리)\\source\\.venv\\lib\\site-packages (3.10.3)\n",
      "Requirement already satisfied: contourpy>=1.0.1 in c:\\users\\admin\\desktop\\주예성\\10_핀테크_대체데이터분석(자연어처리)\\source\\.venv\\lib\\site-packages (from matplotlib) (1.3.2)\n",
      "Requirement already satisfied: cycler>=0.10 in c:\\users\\admin\\desktop\\주예성\\10_핀테크_대체데이터분석(자연어처리)\\source\\.venv\\lib\\site-packages (from matplotlib) (0.12.1)\n",
      "Requirement already satisfied: fonttools>=4.22.0 in c:\\users\\admin\\desktop\\주예성\\10_핀테크_대체데이터분석(자연어처리)\\source\\.venv\\lib\\site-packages (from matplotlib) (4.58.5)\n",
      "Requirement already satisfied: kiwisolver>=1.3.1 in c:\\users\\admin\\desktop\\주예성\\10_핀테크_대체데이터분석(자연어처리)\\source\\.venv\\lib\\site-packages (from matplotlib) (1.4.8)\n",
      "Requirement already satisfied: numpy>=1.23 in c:\\users\\admin\\desktop\\주예성\\10_핀테크_대체데이터분석(자연어처리)\\source\\.venv\\lib\\site-packages (from matplotlib) (2.1.3)\n",
      "Requirement already satisfied: packaging>=20.0 in c:\\users\\admin\\desktop\\주예성\\10_핀테크_대체데이터분석(자연어처리)\\source\\.venv\\lib\\site-packages (from matplotlib) (25.0)\n",
      "Requirement already satisfied: pillow>=8 in c:\\users\\admin\\desktop\\주예성\\10_핀테크_대체데이터분석(자연어처리)\\source\\.venv\\lib\\site-packages (from matplotlib) (11.3.0)\n",
      "Requirement already satisfied: pyparsing>=2.3.1 in c:\\users\\admin\\desktop\\주예성\\10_핀테크_대체데이터분석(자연어처리)\\source\\.venv\\lib\\site-packages (from matplotlib) (3.2.3)\n",
      "Requirement already satisfied: python-dateutil>=2.7 in c:\\users\\admin\\desktop\\주예성\\10_핀테크_대체데이터분석(자연어처리)\\source\\.venv\\lib\\site-packages (from matplotlib) (2.9.0.post0)\n",
      "Requirement already satisfied: six>=1.5 in c:\\users\\admin\\desktop\\주예성\\10_핀테크_대체데이터분석(자연어처리)\\source\\.venv\\lib\\site-packages (from python-dateutil>=2.7->matplotlib) (1.17.0)\n"
     ]
    }
   ],
   "source": [
    "!pip install matplotlib"
   ]
  },
  {
   "cell_type": "code",
   "execution_count": 13,
   "id": "742d02e6",
   "metadata": {},
   "outputs": [
    {
     "name": "stdout",
     "output_type": "stream",
     "text": [
      "Collecting torchinfo\n",
      "  Using cached torchinfo-1.8.0-py3-none-any.whl.metadata (21 kB)\n",
      "Using cached torchinfo-1.8.0-py3-none-any.whl (23 kB)\n",
      "Installing collected packages: torchinfo\n",
      "Successfully installed torchinfo-1.8.0\n"
     ]
    }
   ],
   "source": [
    "!pip install torchinfo"
   ]
  },
  {
   "cell_type": "code",
   "execution_count": 15,
   "id": "2fc18a90",
   "metadata": {},
   "outputs": [],
   "source": [
    "!pip freeze > requirement.txt"
   ]
  },
  {
   "cell_type": "code",
   "execution_count": null,
   "id": "9f9d2481",
   "metadata": {},
   "outputs": [],
   "source": []
  }
 ],
 "metadata": {
  "kernelspec": {
   "display_name": ".venv",
   "language": "python",
   "name": "python3"
  },
  "language_info": {
   "codemirror_mode": {
    "name": "ipython",
    "version": 3
   },
   "file_extension": ".py",
   "mimetype": "text/x-python",
   "name": "python",
   "nbconvert_exporter": "python",
   "pygments_lexer": "ipython3",
   "version": "3.12.10"
  }
 },
 "nbformat": 4,
 "nbformat_minor": 5
}
