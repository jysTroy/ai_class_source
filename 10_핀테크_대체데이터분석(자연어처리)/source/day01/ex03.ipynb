{
 "cells": [
  {
   "cell_type": "code",
   "execution_count": 47,
   "id": "7f9d31ee",
   "metadata": {},
   "outputs": [],
   "source": [
    "import torch\n",
    "import keras\n",
    "from sklearn.model_selection import train_test_split\n",
    "\n",
    "# IMDB 데이터셋 \n",
    "(train_input, train_target), (test_input, test_target) =\\\n",
    "     keras.datasets.imdb.load_data(num_words=500)\n",
    "\n",
    "# 훈련세트, 검증세트\n",
    "train_input, val_input, train_target, val_target = train_test_split(\n",
    "    train_input, train_target, test_size=0.2, random_state=42\n",
    ")"
   ]
  },
  {
   "cell_type": "code",
   "execution_count": 48,
   "id": "a34190c9",
   "metadata": {},
   "outputs": [],
   "source": [
    "# 패딩 처리\n",
    "from keras.preprocessing.sequence import pad_sequences\n",
    "\n",
    "train_seq = pad_sequences(train_input, maxlen=100)\n",
    "val_seq = pad_sequences(val_input, maxlen=100)"
   ]
  },
  {
   "cell_type": "code",
   "execution_count": 49,
   "id": "4e500583",
   "metadata": {},
   "outputs": [
    {
     "name": "stdout",
     "output_type": "stream",
     "text": [
      "(20000, 100) (20000,)\n"
     ]
    }
   ],
   "source": [
    "print(train_seq.shape, train_target.shape)"
   ]
  },
  {
   "cell_type": "code",
   "execution_count": 50,
   "id": "f24660bb",
   "metadata": {},
   "outputs": [],
   "source": [
    "# 파이토치 torch.tensor 자료형으로 변환\n",
    "train_seq = torch.tensor(train_seq)\n",
    "val_seq = torch.tensor(val_seq)"
   ]
  },
  {
   "cell_type": "code",
   "execution_count": 51,
   "id": "5491de54",
   "metadata": {},
   "outputs": [
    {
     "data": {
      "text/plain": [
       "dtype('int64')"
      ]
     },
     "execution_count": 51,
     "metadata": {},
     "output_type": "execute_result"
    }
   ],
   "source": [
    "train_target.dtype"
   ]
  },
  {
   "cell_type": "code",
   "execution_count": 52,
   "id": "67f96c96",
   "metadata": {},
   "outputs": [],
   "source": [
    "train_target = torch.tensor(train_target, dtype=torch.float32)\n",
    "val_target = torch.tensor(val_target, dtype=torch.float32)"
   ]
  },
  {
   "cell_type": "code",
   "execution_count": 53,
   "id": "98a0c27f",
   "metadata": {},
   "outputs": [
    {
     "data": {
      "text/plain": [
       "torch.float32"
      ]
     },
     "execution_count": 53,
     "metadata": {},
     "output_type": "execute_result"
    }
   ],
   "source": [
    "train_target.dtype"
   ]
  },
  {
   "cell_type": "code",
   "execution_count": 54,
   "id": "b69ee021",
   "metadata": {},
   "outputs": [],
   "source": [
    "#  TensorDataset, DataLoader \n",
    "from torch.utils.data import TensorDataset, DataLoader\n",
    "\n",
    "train_dataset = TensorDataset(train_seq, train_target)\n",
    "val_dataset = TensorDataset(val_seq, val_target)\n",
    "\n",
    "# 32개의 배치로 섞어서 나눠준다.\n",
    "train_loader = DataLoader(train_dataset, batch_size=32, shuffle=True)\n",
    "val_loader = DataLoader(val_dataset, batch_size=32, shuffle=False)"
   ]
  },
  {
   "cell_type": "code",
   "execution_count": 55,
   "id": "57e65fda",
   "metadata": {},
   "outputs": [],
   "source": [
    "# 층 구성 - nn.Module 클래스 상속을 통한 층 구성\n",
    "import torch.nn as nn\n",
    "\n",
    "class IMDBRnn(nn.Module):\n",
    "    def __init__(self):\n",
    "        super().__init__() \n",
    "        self.embedding = nn.Embedding(500, 16)\n",
    "        self.rnn = nn.RNN(16, 8, batch_first=True) # (시퀀스 길이, 배치크기, 임베딩크기) \n",
    "                                # (배치크기, 시퀀스 길이, 임베딩크기)\n",
    "        self.dense = nn.Linear(8, 1)\n",
    "        self.sigmoid = nn.Sigmoid()\n",
    "\n",
    "    def forward(self, x):\n",
    "        x = self.embedding(x)\n",
    "        _, hidden = self.rnn(x)\n",
    "        outputs = self.dense(hidden[-1])\n",
    "        return self.sigmoid(outputs)"
   ]
  },
  {
   "cell_type": "code",
   "execution_count": 56,
   "id": "a7584288",
   "metadata": {},
   "outputs": [
    {
     "data": {
      "text/plain": [
       "=================================================================\n",
       "Layer (type:depth-idx)                   Param #\n",
       "=================================================================\n",
       "IMDBRnn                                  --\n",
       "├─Embedding: 1-1                         8,000\n",
       "├─RNN: 1-2                               208\n",
       "├─Linear: 1-3                            9\n",
       "├─Sigmoid: 1-4                           --\n",
       "=================================================================\n",
       "Total params: 8,217\n",
       "Trainable params: 8,217\n",
       "Non-trainable params: 0\n",
       "================================================================="
      ]
     },
     "execution_count": 56,
     "metadata": {},
     "output_type": "execute_result"
    }
   ],
   "source": [
    "from torchinfo import summary\n",
    "model = IMDBRnn()\n",
    "\n",
    "summary(model)"
   ]
  },
  {
   "cell_type": "code",
   "execution_count": 57,
   "id": "9d3e1752",
   "metadata": {},
   "outputs": [
    {
     "data": {
      "text/plain": [
       "IMDBRnn(\n",
       "  (embedding): Embedding(500, 16)\n",
       "  (rnn): RNN(16, 8, batch_first=True)\n",
       "  (dense): Linear(in_features=8, out_features=1, bias=True)\n",
       "  (sigmoid): Sigmoid()\n",
       ")"
      ]
     },
     "execution_count": 57,
     "metadata": {},
     "output_type": "execute_result"
    }
   ],
   "source": [
    "device = torch.device(\"cuda\" if torch.cuda.is_available() else \"cpu\")\n",
    "model.to(device)"
   ]
  },
  {
   "cell_type": "code",
   "execution_count": 58,
   "id": "c5133b88",
   "metadata": {},
   "outputs": [],
   "source": [
    "# 옵티마이저, 손실함수\n",
    "import torch.optim as optim\n",
    "\n",
    "criterion = nn.BCELoss() \n",
    "optimizer = optim.Adam(model.parameters())"
   ]
  },
  {
   "cell_type": "code",
   "execution_count": 63,
   "id": "c2b4938b",
   "metadata": {},
   "outputs": [
    {
     "name": "stdout",
     "output_type": "stream",
     "text": [
      "에포크:1, 훈련손실: 0.5463, 검증손실: 0.5755\n",
      "에포크:2, 훈련손실: 0.6072, 검증손실: 0.5683\n",
      "에포크:3, 훈련손실: 0.5391, 검증손실: 0.5935\n",
      "에포크:4, 훈련손실: 0.5579, 검증손실: 0.5912\n",
      "에포크:5, 훈련손실: 0.5767, 검증손실: 0.6156\n",
      "5에서 조기 종료..\n"
     ]
    }
   ],
   "source": [
    "train_hist = []\n",
    "val_hist = []\n",
    "patience = 3\n",
    "best_loss = -1\n",
    "early_stopping_counter = 0\n",
    "\n",
    "epochs = 100\n",
    "for epoch in range(epochs):\n",
    "    model.train()\n",
    "    train_loss = 0\n",
    "    for inputs, targets in train_loader:\n",
    "        inputs, targets = inputs.to(device), targets.to(device)\n",
    "        optimizer.zero_grad()\n",
    "        outputs = model(inputs)\n",
    "        loss = criterion(outputs.squeeze(), targets) # outputs.squeeze(): 2 차원배열 -> 1차원 배열\n",
    "        loss.backward()\n",
    "        optimizer.step()\n",
    "\n",
    "        train_loss += loss.item()\n",
    "\n",
    "    model.eval()\n",
    "    val_loss = 0\n",
    "    with torch.no_grad():\n",
    "        for inputs, targets in val_loader:\n",
    "            inputs, targets = inputs.to(device), targets.to(device)\n",
    "            outputs = model(inputs)\n",
    "            loss = criterion(outputs.squeeze(), targets)\n",
    "            val_loss += loss.item()  \n",
    "    \n",
    "    train_loss = train_loss / len(train_loader) # 1에포크 평균 훈련 손실값\n",
    "    val_loss = val_loss / len(val_loader) \n",
    "    train_hist.append(train_loss)\n",
    "    val_hist.append(val_loss)\n",
    "    print(f\"에포크:{epoch+1}, 훈련손실: {train_loss:.4f}, 검증손실: {val_loss:.4f}\")\n",
    "\n",
    "    if best_loss == -1 or val_loss < best_loss:\n",
    "        best_loss = val_loss\n",
    "        early_stopping_counter = 0\n",
    "        torch.save(model.state_dict(), 'best_rnn_model.pt')\n",
    "    else:\n",
    "        early_stopping_counter += 1\n",
    "        if early_stopping_counter >= patience:\n",
    "            print(f\"{epoch+1}에서 조기 종료..\")\n",
    "            break"
   ]
  },
  {
   "cell_type": "code",
   "execution_count": 60,
   "id": "c5707350",
   "metadata": {},
   "outputs": [
    {
     "data": {
      "image/png": "[encoded data removed]",
      "text/plain": [
       "<Figure size 640x480 with 1 Axes>"
      ]
     },
     "metadata": {},
     "output_type": "display_data"
    }
   ],
   "source": [
    "import matplotlib.pyplot as plt\n",
    "\n",
    "plt.plot(train_hist, label='train')\n",
    "plt.plot(val_hist, label='val')\n",
    "plt.xlabel('epoch')\n",
    "plt.ylabel('loss')\n",
    "plt.legend()\n",
    "plt.show()"
   ]
  },
  {
   "cell_type": "code",
   "execution_count": 65,
   "id": "35573c20",
   "metadata": {},
   "outputs": [
    {
     "data": {
      "text/plain": [
       "<All keys matched successfully>"
      ]
     },
     "execution_count": 65,
     "metadata": {},
     "output_type": "execute_result"
    }
   ],
   "source": [
    "model.load_state_dict(torch.load('best_rnn_model.pt', weights_only=True))"
   ]
  },
  {
   "cell_type": "code",
   "execution_count": 66,
   "id": "bfd358e8",
   "metadata": {},
   "outputs": [
    {
     "name": "stdout",
     "output_type": "stream",
     "text": [
      "검증 정확도: 0.7242\n"
     ]
    }
   ],
   "source": [
    "model.eval()\n",
    "corrects = 0\n",
    "with torch.no_grad():\n",
    "    for inputs, targets in val_loader:\n",
    "        inputs, targets = inputs.to(device), targets.to(device)\n",
    "        outputs = model(inputs)\n",
    "        predicts = outputs.squeeze() > 0.5\n",
    "        corrects += (predicts == targets).sum().item()\n",
    "\n",
    "accuracy = corrects / len(val_dataset)\n",
    "print(f\"검증 정확도: {accuracy:.4f}\")"
   ]
  }
 ],
 "metadata": {
  "kernelspec": {
   "display_name": ".venv",
   "language": "python",
   "name": "python3"
  },
  "language_info": {
   "codemirror_mode": {
    "name": "ipython",
    "version": 3
   },
   "file_extension": ".py",
   "mimetype": "text/x-python",
   "name": "python",
   "nbconvert_exporter": "python",
   "pygments_lexer": "ipython3",
   "version": "3.12.10"
  }
 },
 "nbformat": 4,
 "nbformat_minor": 5
}
