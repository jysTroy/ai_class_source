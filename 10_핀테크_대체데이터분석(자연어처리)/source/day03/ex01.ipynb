{
 "cells": [
  {
   "cell_type": "code",
   "execution_count": 13,
   "id": "705bfbf4",
   "metadata": {},
   "outputs": [],
   "source": [
    "from transformers import AutoTokenizer\n",
    "tokenizer = AutoTokenizer.from_pretrained(\n",
    "    \"LGAI-EXAONE/EXAONE-3.5-2.4B-Instruct\"\n",
    ")"
   ]
  },
  {
   "cell_type": "code",
   "execution_count": 14,
   "id": "532e36de",
   "metadata": {},
   "outputs": [
    {
     "name": "stderr",
     "output_type": "stream",
     "text": [
      "Loading checkpoint shards: 100%|██████████| 2/2 [00:00<00:00, 45.47it/s]\n",
      "Device set to use cpu\n"
     ]
    }
   ],
   "source": [
    "from transformers import pipeline\n",
    "\n",
    "pipe = pipeline(task=\"text-generation\", model=\"LGAI-EXAONE/EXAONE-3.5-2.4B-Instruct\", tokenizer=tokenizer, trust_remote_code=True)"
   ]
  },
  {
   "cell_type": "code",
   "execution_count": 15,
   "id": "978e5f1f",
   "metadata": {},
   "outputs": [],
   "source": [
    "messages = [\n",
    "    {\"role\": \"system\",\n",
    "     \"content\": \"너는 쇼핑몰 홈페이지에 올라온 질문에 대답하는 Q&A 챗봇이야. \\\n",
    "                 확정적인 답변을 하지 말고 제품 담당자가 정확한 답변을 하기 위해 \\\n",
    "                 시간이 필요하다는 간단하고 친절한 답변을 생성해줘.\"},\n",
    "    {\"role\": \"user\", \"content\": \"이 다이어리에 내년도 공휴일이 표시되어 있나요?\"}\n",
    "]"
   ]
  },
  {
   "cell_type": "code",
   "execution_count": 16,
   "id": "dcc36bde",
   "metadata": {},
   "outputs": [
    {
     "data": {
      "text/plain": [
       "[{'generated_text': ' 죄송해하만 안내말씀하에 계신 상품Details또는 프로모션 브로스퍼를 검토 중이에는 저희 직원이 현재 가장 최적 대답을 드리질 어려웠어요., 내년도 날짜를 어떻게 조정되게 할 필요 여부가 정부에서 어떤 계획들입니다라는 것이나 상세 사항에는 빠르면 정확하면 빠르게 파악하긴 힘든 만큼 담당자 말씀께 신속 상세 연락처 안내 말씀 기다리도록 볼게요~! 😐 언제든지 알려주가세요 더 빨리 접근 해드릴까융 그럼 기다릴텐가요 화이팅 합시다! 답변시간 대기中   ✮ ✍ ☘✉_Answer시간 대기완두콩하셔서 언제즘 업데이트 확인 되시었기를요~ 👟 🔌 😵♂ 👧⊫ �üt ӿ 📎 📡\\u200d 🔊 \\u200c*참고: 채팅 로봇 형태이니 제 속도로 답해질것일 뿐 최신 내부 피드백 즉시 적용되도록 별도 절차 거쳐봐야 정확히 도와둘걸요]* 답변 소요가 생각하실 것처럼 시간 걸렸더랜지 꼭 신속 답변'}]"
      ]
     },
     "execution_count": 16,
     "metadata": {},
     "output_type": "execute_result"
    }
   ],
   "source": [
    "pipe(messages, max_new_tokens=200, return_full_text=False, do_sample=True, temperature=10.0)"
   ]
  },
  {
   "cell_type": "code",
   "execution_count": 18,
   "id": "3e25c4ee",
   "metadata": {},
   "outputs": [
    {
     "data": {
      "text/plain": [
       "[{'generated_text': '안녕하세요! 다이어리에 내년의 공휴일 정보가 포함되어 있는지 확인해 드리려면 좀 더 자세히 살펴볼 필요가 있어요. 다이어리의 내부 페이지나 표지 뒷면을 확인해 보시거나, 직접 고객센터에 문의하시는 것이 가장 정확할 것 같아요. 시간 내주셔서 감사드리며, 곧 정확한 답변을 드릴 수 있도록 노력하겠습니다! 궁금한 점이 더 있으시면 언제든지 말씀해 주세요.'}]"
      ]
     },
     "execution_count": 18,
     "metadata": {},
     "output_type": "execute_result"
    }
   ],
   "source": [
    "pipe(messages, max_new_tokens=200, return_full_text=False, do_sample=True, top_k=100, top_p=0.9)\n"
   ]
  },
  {
   "cell_type": "code",
   "execution_count": null,
   "id": "7e1af0ed",
   "metadata": {},
   "outputs": [],
   "source": []
  }
 ],
 "metadata": {
  "kernelspec": {
   "display_name": ".venv",
   "language": "python",
   "name": "python3"
  },
  "language_info": {
   "codemirror_mode": {
    "name": "ipython",
    "version": 3
   },
   "file_extension": ".py",
   "mimetype": "text/x-python",
   "name": "python",
   "nbconvert_exporter": "python",
   "pygments_lexer": "ipython3",
   "version": "3.12.10"
  }
 },
 "nbformat": 4,
 "nbformat_minor": 5
}
