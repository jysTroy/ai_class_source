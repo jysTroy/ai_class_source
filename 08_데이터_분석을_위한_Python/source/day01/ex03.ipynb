{
 "cells": [
  {
   "cell_type": "markdown",
   "id": "a0959798",
   "metadata": {},
   "source": [
    "# 문자형\n",
    "- \", ' 로 감싼 값\n",
    "- \\+ 연산자로 문자열 결합\n",
    "- \"\"\" 또는 ''' 로 문자열을 감싸면 자유롭게 줄개행을 통해서 작성 가능\n",
    "- \"\"\", '''로 여러줄 주석을 대체"
   ]
  },
  {
   "cell_type": "code",
   "execution_count": 79,
   "id": "ca72b7e3",
   "metadata": {},
   "outputs": [
    {
     "data": {
      "text/plain": [
       "str"
      ]
     },
     "execution_count": 79,
     "metadata": {},
     "output_type": "execute_result"
    }
   ],
   "source": [
    "a = \"안녕하세요,\"\n",
    "type(a)"
   ]
  },
  {
   "cell_type": "code",
   "execution_count": 80,
   "id": "dce2cb86",
   "metadata": {},
   "outputs": [
    {
     "data": {
      "text/plain": [
       "str"
      ]
     },
     "execution_count": 80,
     "metadata": {},
     "output_type": "execute_result"
    }
   ],
   "source": [
    "b = \"반갑습니다.\"\n",
    "type(b)"
   ]
  },
  {
   "cell_type": "code",
   "execution_count": 81,
   "id": "c4c63678",
   "metadata": {},
   "outputs": [
    {
     "data": {
      "text/plain": [
       "'안녕하세요,반갑습니다.'"
      ]
     },
     "execution_count": 81,
     "metadata": {},
     "output_type": "execute_result"
    }
   ],
   "source": [
    "c = a + b\n",
    "c"
   ]
  },
  {
   "cell_type": "code",
   "execution_count": 82,
   "id": "c78a7417",
   "metadata": {},
   "outputs": [
    {
     "name": "stdout",
     "output_type": "stream",
     "text": [
      "안녕하세요.\n",
      "반갑습니다.\n"
     ]
    }
   ],
   "source": [
    "d = \"안녕하세요.\\n반갑습니다.\"\n",
    "print(d)"
   ]
  },
  {
   "cell_type": "code",
   "execution_count": 83,
   "id": "40d1c3a5",
   "metadata": {},
   "outputs": [
    {
     "name": "stdout",
     "output_type": "stream",
     "text": [
      "안녕하세요,\n",
      "반갑습니다.\n",
      "오늘 점심은 뭘 먹을까요?\n",
      "\n"
     ]
    }
   ],
   "source": [
    "'''\n",
    "설명1\n",
    "설명2\n",
    "'''\n",
    "\n",
    "\n",
    "e = \"\"\"안녕하세요,\n",
    "반갑습니다.\n",
    "오늘 점심은 뭘 먹을까요?\n",
    "\"\"\"\n",
    "print(e)"
   ]
  },
  {
   "cell_type": "code",
   "execution_count": 84,
   "id": "c77a6e97",
   "metadata": {},
   "outputs": [
    {
     "name": "stdout",
     "output_type": "stream",
     "text": [
      "I love \"Python\" and \"Java\" \n"
     ]
    }
   ],
   "source": [
    "a = \"I love \\\"Python\\\" and \\\"Java\\\" \"\n",
    "print(a)"
   ]
  },
  {
   "cell_type": "markdown",
   "id": "4f0195e1",
   "metadata": {},
   "source": [
    "### 문자열 연산\n",
    "- \\+ 문자열 결합\n",
    "- \\* 문자열 반복"
   ]
  },
  {
   "cell_type": "code",
   "execution_count": 85,
   "id": "c61a0c5f",
   "metadata": {},
   "outputs": [
    {
     "data": {
      "text/plain": [
       "'ABCABCABC'"
      ]
     },
     "execution_count": 85,
     "metadata": {},
     "output_type": "execute_result"
    }
   ],
   "source": [
    "\"ABC\" * 3"
   ]
  },
  {
   "cell_type": "code",
   "execution_count": 86,
   "id": "af30a50b",
   "metadata": {},
   "outputs": [
    {
     "name": "stdout",
     "output_type": "stream",
     "text": [
      "------------------------------\n",
      "메뉴 선택:\n",
      "------------------------------\n"
     ]
    }
   ],
   "source": [
    "print('-' * 30)\n",
    "print(\"메뉴 선택:\")\n",
    "print('-' * 30)"
   ]
  },
  {
   "cell_type": "code",
   "execution_count": 87,
   "id": "2ff854aa",
   "metadata": {},
   "outputs": [
    {
     "data": {
      "text/plain": [
       "27"
      ]
     },
     "execution_count": 87,
     "metadata": {},
     "output_type": "execute_result"
    }
   ],
   "source": [
    "len(a)"
   ]
  },
  {
   "cell_type": "markdown",
   "id": "66527cc5",
   "metadata": {},
   "source": [
    "## 문자열 인덱싱\n",
    "- 각 문자 접근은 인덱스 연산자 \\[\\]를 통해서 접근\n",
    "### 문자열 슬라이싱\n",
    "- a\\[시작번호:] -> 시작번호 \\<= a \\< 종료번호\n",
    "- a\\[시작번호:] -> 시작번호 부터 끝까지\n",
    "- a\\[:종료번호] -> 종료번호 미만 문자열을 모두 추출\n",
    "- 인덱스 번호가 음수, 오른쪽 부터 위치를 계산\n",
    "    - \\-1 오른쪽 첫 번째 문자\n",
    "- a\\[:] -> 전체 문자열 복사\n",
    "\n",
    "> id\\(...\\) : 자원의 주소값을 확인"
   ]
  },
  {
   "cell_type": "code",
   "execution_count": 88,
   "id": "258bdac5",
   "metadata": {},
   "outputs": [],
   "source": [
    "b = \"One Little, Two Little, Three Little Indians\""
   ]
  },
  {
   "cell_type": "code",
   "execution_count": 89,
   "id": "57ee70ba",
   "metadata": {},
   "outputs": [
    {
     "data": {
      "text/plain": [
       "'I l'"
      ]
     },
     "execution_count": 89,
     "metadata": {},
     "output_type": "execute_result"
    }
   ],
   "source": [
    "a[0] + a[1] + a[2]"
   ]
  },
  {
   "cell_type": "code",
   "execution_count": 90,
   "id": "e62fe072",
   "metadata": {},
   "outputs": [
    {
     "data": {
      "text/plain": [
       "'I l'"
      ]
     },
     "execution_count": 90,
     "metadata": {},
     "output_type": "execute_result"
    }
   ],
   "source": [
    "a[0:3] # 0, 1, 2"
   ]
  },
  {
   "cell_type": "code",
   "execution_count": 91,
   "id": "6ce9f114",
   "metadata": {},
   "outputs": [
    {
     "data": {
      "text/plain": [
       "'ve \"Python\" and \"Java\" '"
      ]
     },
     "execution_count": 91,
     "metadata": {},
     "output_type": "execute_result"
    }
   ],
   "source": [
    "a[4:]"
   ]
  },
  {
   "cell_type": "code",
   "execution_count": 92,
   "id": "6fb697e7",
   "metadata": {},
   "outputs": [
    {
     "data": {
      "text/plain": [
       "27"
      ]
     },
     "execution_count": 92,
     "metadata": {},
     "output_type": "execute_result"
    }
   ],
   "source": [
    "len(a)"
   ]
  },
  {
   "cell_type": "code",
   "execution_count": 93,
   "id": "bc1f60b3",
   "metadata": {},
   "outputs": [
    {
     "data": {
      "text/plain": [
       "''"
      ]
     },
     "execution_count": 93,
     "metadata": {},
     "output_type": "execute_result"
    }
   ],
   "source": [
    "a[37:]"
   ]
  },
  {
   "cell_type": "code",
   "execution_count": 94,
   "id": "da7376e5",
   "metadata": {},
   "outputs": [
    {
     "data": {
      "text/plain": [
       "'\"Java\" '"
      ]
     },
     "execution_count": 94,
     "metadata": {},
     "output_type": "execute_result"
    }
   ],
   "source": [
    "a[-7:]"
   ]
  },
  {
   "cell_type": "code",
   "execution_count": 95,
   "id": "b531e312",
   "metadata": {},
   "outputs": [
    {
     "data": {
      "text/plain": [
       "'I love \"Python\" and'"
      ]
     },
     "execution_count": 95,
     "metadata": {},
     "output_type": "execute_result"
    }
   ],
   "source": [
    "a[:-8]"
   ]
  },
  {
   "cell_type": "code",
   "execution_count": 96,
   "id": "94f3a97e",
   "metadata": {},
   "outputs": [
    {
     "name": "stdout",
     "output_type": "stream",
     "text": [
      "a의 주소: 2245143654160\n",
      "b의 주소: 2245143618800\n"
     ]
    }
   ],
   "source": [
    "b = a[:-8]\n",
    "print(\"a의 주소:\", id(a))\n",
    "print(\"b의 주소:\", id(b))"
   ]
  },
  {
   "cell_type": "code",
   "execution_count": 97,
   "id": "0c515477",
   "metadata": {},
   "outputs": [
    {
     "name": "stdout",
     "output_type": "stream",
     "text": [
      "주소: 140728158212912\n",
      "주소: 2245149336624\n"
     ]
    }
   ],
   "source": [
    "b = \"ABC\"\n",
    "print(\"주소:\", id(b))\n",
    "\n",
    "b += \"DEF\"\n",
    "print(\"주소:\", id(b))"
   ]
  },
  {
   "cell_type": "code",
   "execution_count": 98,
   "id": "02c341b4",
   "metadata": {},
   "outputs": [
    {
     "ename": "TypeError",
     "evalue": "'str' object does not support item assignment",
     "output_type": "error",
     "traceback": [
      "\u001b[31m---------------------------------------------------------------------------\u001b[39m",
      "\u001b[31mTypeError\u001b[39m                                 Traceback (most recent call last)",
      "\u001b[36mCell\u001b[39m\u001b[36m \u001b[39m\u001b[32mIn[98]\u001b[39m\u001b[32m, line 1\u001b[39m\n\u001b[32m----> \u001b[39m\u001b[32m1\u001b[39m \u001b[43ma\u001b[49m\u001b[43m[\u001b[49m\u001b[32;43m0\u001b[39;49m\u001b[43m]\u001b[49m =\u001b[33m'\u001b[39m\u001b[33mb\u001b[39m\u001b[33m'\u001b[39m \u001b[38;5;66;03m# 문자열은 불변하기 떄문에 변경 불가\u001b[39;00m\n",
      "\u001b[31mTypeError\u001b[39m: 'str' object does not support item assignment"
     ]
    }
   ],
   "source": [
    "a[0] ='b' # 문자열은 불변하기 떄문에 변경 불가"
   ]
  },
  {
   "cell_type": "code",
   "execution_count": 99,
   "id": "c35ffc66",
   "metadata": {},
   "outputs": [
    {
     "name": "stdout",
     "output_type": "stream",
     "text": [
      "I love \"Python\" and \"Java\"  a의 주소: 2245143654160\n",
      "I love \"Python\" and \"Java\"  b의 주소: 2245143654160\n",
      "I love \"Python\" and \"Java\"  c의 주소: 2245143654160\n"
     ]
    }
   ],
   "source": [
    "b = a[:] # b에 a의 문자열을 복사\n",
    "c = a # c에 a의 문자열 객체의 주소 복사\n",
    "\n",
    "print(a, \"a의 주소:\", id(a))\n",
    "print(b, \"b의 주소:\", id(b))\n",
    "print(c, \"c의 주소:\", id(c))"
   ]
  },
  {
   "cell_type": "markdown",
   "id": "76dd8abb",
   "metadata": {},
   "source": [
    "## 문자열 형식화\n",
    "\n",
    "- %d : 정수\n",
    "- %f : 실수\n",
    "    - %10.4f -> 전체 자리수는 10자(정수 부분 + 소수점자리)에서 소수점은 4자까지만 출력\n",
    "    - %.4f -> 소수점 자리수만 4자리로 한정 (자바 x)\n",
    "    - %0.4f (자바 O)\n",
    "- %s : 문자\n",
    "    - %10s -> 왼쪽부터 최소 10자, 10자가 안되는 경우 왼쪽부터 공백으로 채워준다.\n",
    "    - %-10s -> 오른쪽부터 최소 10자, 10자가 안되는 경우 오른쪽부터 공백으로 채워준다.\n",
    "\n",
    "### 적용 방법\n",
    "- \"형식화된 문자열\" % 대체될 값\n",
    "- \"형식화된 문자열(대체될 부분이 여러개 인 경우)\" % (값1, 값2, ...)\n",
    "- 형식화 할 때 %를 문자열로 사용하는 경우 %%로 대체\n",
    "- 문자열 객체의 함수 중에서 format 함수 사용\n",
    "    - 형식화할 때 치환될 부분을 {0}, {1}로 순서 번호 형태로 지정\n",
    "    - 형식화할 때 치환될 부분을 직접 이름형태로 지정할 수도 있음 {number}, {day}\n",
    "    - 숫자와 이름을 혼용해서 형식화 문자열을 작성\n",
    "    - {0:\\<10} : 최소 10자리, 남는 자리수를 오른쪽부터 공백\n",
    "        - {0:\\_<10} : 최소 10자리, 남는 자리수를 오른쪽부터 _로 채워 넣는다.\n",
    "\n",
    "    - {0:\\>10} : 최소 10자리, 남는 자리수를 왼쪽부터 공백\n",
    "        - {0:\\!>10} : 최소 10자리, 남는 자리수를 왼쪽부터 !로 채워 넣는다.\n",
    "\n",
    "    - {0:^10} : 최소 10자리, 남는 자리수는 좌우 균등하게 공백\n",
    "        - {0:\\0^10} : 최소 10자리, 남는 자리수는 좌우 균등하게 0으로 채워넣는다.\n",
    "\n",
    "    - {0:10.4f} : 최소 10자리(정수부 + 소수점)를 유지, 소수점은 4자리로 한정\n",
    "        - {0:.4f} : 소수점만 4자리로 한정\n",
    "\n",
    "- 문자열 앞에 \"f\", 파이썬 3.6부터 추가, 변수 그 자체를 문자열에 추가"
   ]
  },
  {
   "cell_type": "code",
   "execution_count": null,
   "id": "74d72407",
   "metadata": {},
   "outputs": [
    {
     "data": {
      "text/plain": [
       "'I drink 10 cup of coffee and 3 piece of cake'"
      ]
     },
     "execution_count": 47,
     "metadata": {},
     "output_type": "execute_result"
    }
   ],
   "source": [
    "\"I drink %d cup of coffee and %d piece of cake\" % (10, 3)"
   ]
  },
  {
   "cell_type": "code",
   "execution_count": null,
   "id": "7c42aba2",
   "metadata": {},
   "outputs": [
    {
     "data": {
      "text/plain": [
       "'I drink ten cup of coffee and three piece of cake'"
      ]
     },
     "execution_count": 48,
     "metadata": {},
     "output_type": "execute_result"
    }
   ],
   "source": [
    "\"I drink %s cup of coffee and %s piece of cake\" % ('ten', 'three')"
   ]
  },
  {
   "cell_type": "code",
   "execution_count": null,
   "id": "01393135",
   "metadata": {},
   "outputs": [
    {
     "data": {
      "text/plain": [
       "'     Apple,'"
      ]
     },
     "execution_count": 49,
     "metadata": {},
     "output_type": "execute_result"
    }
   ],
   "source": [
    "\"%10s,\" % \"Apple\""
   ]
  },
  {
   "cell_type": "code",
   "execution_count": null,
   "id": "3689e567",
   "metadata": {},
   "outputs": [
    {
     "data": {
      "text/plain": [
       "'Apple     , '"
      ]
     },
     "execution_count": 50,
     "metadata": {},
     "output_type": "execute_result"
    }
   ],
   "source": [
    "\"%-10s, \" %\"Apple\""
   ]
  },
  {
   "cell_type": "code",
   "execution_count": null,
   "id": "dc01c1ef",
   "metadata": {},
   "outputs": [
    {
     "name": "stdout",
     "output_type": "stream",
     "text": [
      "숫자: 100.123457\n",
      "숫자:   100.1235\n",
      "숫자: 100.1235\n"
     ]
    }
   ],
   "source": [
    "a = 100.12345678\n",
    "print(\"숫자: %f\" % a)\n",
    "print(\"숫자: %10.4f\" % a)\n",
    "print(\"숫자: %.4f\" % a)"
   ]
  },
  {
   "cell_type": "code",
   "execution_count": null,
   "id": "24a4e8d9",
   "metadata": {},
   "outputs": [
    {
     "data": {
      "text/plain": [
       "'완료까지 85% 입니다.'"
      ]
     },
     "execution_count": 53,
     "metadata": {},
     "output_type": "execute_result"
    }
   ],
   "source": [
    "\"완료까지 %d%% 입니다.\" % 85"
   ]
  },
  {
   "cell_type": "code",
   "execution_count": null,
   "id": "1ac8b722",
   "metadata": {},
   "outputs": [
    {
     "data": {
      "text/plain": [
       "'I drink 5 cup of coffee and 3 piece of cake'"
      ]
     },
     "execution_count": 55,
     "metadata": {},
     "output_type": "execute_result"
    }
   ],
   "source": [
    "\"I drink {0} cup of coffee and {1} piece of cake\".format(5, 3)"
   ]
  },
  {
   "cell_type": "code",
   "execution_count": null,
   "id": "d56e7575",
   "metadata": {},
   "outputs": [
    {
     "data": {
      "text/plain": [
       "'I drink 10 cup of coffee and 3 piece of cake'"
      ]
     },
     "execution_count": 57,
     "metadata": {},
     "output_type": "execute_result"
    }
   ],
   "source": [
    "\"I drink {number1} cup of coffee and {number2} piece of cake\".format(number1 = 10, number2 = 3)"
   ]
  },
  {
   "cell_type": "code",
   "execution_count": null,
   "id": "996c2c98",
   "metadata": {},
   "outputs": [
    {
     "data": {
      "text/plain": [
       "'I drink 5 cup of coffee and 3 piece of cake'"
      ]
     },
     "execution_count": 58,
     "metadata": {},
     "output_type": "execute_result"
    }
   ],
   "source": [
    "\"I drink {0} cup of coffee and {number} piece of cake\".format(5, number = 3)"
   ]
  },
  {
   "cell_type": "code",
   "execution_count": null,
   "id": "67440e11",
   "metadata": {},
   "outputs": [
    {
     "data": {
      "text/plain": [
       "'I drink 5 cup of coffee and 3 piece of cake'"
      ]
     },
     "execution_count": 59,
     "metadata": {},
     "output_type": "execute_result"
    }
   ],
   "source": [
    "coffee = 5\n",
    "cake = 3\n",
    "f\"I drink {coffee} cup of coffee and {cake} piece of cake\""
   ]
  },
  {
   "cell_type": "code",
   "execution_count": null,
   "id": "ee3c89cc",
   "metadata": {},
   "outputs": [
    {
     "data": {
      "text/plain": [
       "'***Apple     ,      Apple,   Apple   ***'"
      ]
     },
     "execution_count": 64,
     "metadata": {},
     "output_type": "execute_result"
    }
   ],
   "source": [
    "\"***{0:<10}, {1:>10}, {2:^10}***\".format(\"Apple\", \"Apple\", \"Apple\")"
   ]
  },
  {
   "cell_type": "code",
   "execution_count": null,
   "id": "40b4a855",
   "metadata": {},
   "outputs": [
    {
     "data": {
      "text/plain": [
       "'***Apple_____, *****Apple, 00Apple000***'"
      ]
     },
     "execution_count": 66,
     "metadata": {},
     "output_type": "execute_result"
    }
   ],
   "source": [
    "\"***{0:_<10}, {1:*>10}, {2:0^10}***\".format(\"Apple\", \"Apple\", \"Apple\")"
   ]
  },
  {
   "cell_type": "code",
   "execution_count": null,
   "id": "8c0f7d25",
   "metadata": {},
   "outputs": [
    {
     "name": "stdout",
     "output_type": "stream",
     "text": [
      "  100.1235\n",
      "100.1235\n"
     ]
    }
   ],
   "source": [
    "print(\"{0:10.4f}\".format(100.12345678))\n",
    "print(\"{0:.4f}\".format(100.12345678))"
   ]
  },
  {
   "cell_type": "markdown",
   "id": "b42710a3",
   "metadata": {},
   "source": [
    "### f 형식화\n",
    "- 문자열 앞에 f를 붙이면 된다.\n",
    "- 변수를 직접 형식화 문자열에 출력\n",
    "- 간단한 연산, 함수 호출도 가능\n",
    "- {값:\\<10} -> 최소 10자리, 남은 자리수는 오른쪽 공백\n",
    "    - {값:!\\<10} -> 최소 10자리, 남은 자리수는 오른쪽 !로 채워 넣는다.\n",
    "\n",
    "- {값:\\>10} -> 최소 10자리, 남은 자리수는 왼쪽 공백\n",
    "- {값:^10} -> 최소 10자리, 남은 자리수는 좌우 균등하게 공백\n",
    "- {실수:10.4f} -> 정수 + 소수점 자리가 최소 10자리, 소수점은 4자리로 한정\n",
    "- { }를 문자 그대로 사용하는 경우{{...}}"
   ]
  },
  {
   "cell_type": "code",
   "execution_count": null,
   "id": "f8bea5d1",
   "metadata": {},
   "outputs": [],
   "source": [
    "name = \"이이름\"\n",
    "age = 40\n",
    "num = 10"
   ]
  },
  {
   "cell_type": "code",
   "execution_count": null,
   "id": "9f039deb",
   "metadata": {},
   "outputs": [
    {
     "data": {
      "text/plain": [
       "'이름 : 이이름, 나이: 40, 숫자: 10'"
      ]
     },
     "execution_count": 70,
     "metadata": {},
     "output_type": "execute_result"
    }
   ],
   "source": [
    "f\"이름 : {name}, 나이: {age}, 숫자: {num}\""
   ]
  },
  {
   "cell_type": "code",
   "execution_count": null,
   "id": "9cc686e3",
   "metadata": {},
   "outputs": [
    {
     "data": {
      "text/plain": [
       "'이름 : 이이름       , 나이:         40, 숫자:     10    '"
      ]
     },
     "execution_count": 71,
     "metadata": {},
     "output_type": "execute_result"
    }
   ],
   "source": [
    "f\"이름 : {name:<10}, 나이: {age:>10}, 숫자: {num:^10}\""
   ]
  },
  {
   "cell_type": "code",
   "execution_count": null,
   "id": "969fcea1",
   "metadata": {},
   "outputs": [
    {
     "data": {
      "text/plain": [
       "'이름 : 이이름!!!!!!!, 나이: ********40, 숫자: ====10===='"
      ]
     },
     "execution_count": 72,
     "metadata": {},
     "output_type": "execute_result"
    }
   ],
   "source": [
    "f\"이름 : {name:!<10}, 나이: {age:*>10}, 숫자: {num:=^10}\""
   ]
  },
  {
   "cell_type": "code",
   "execution_count": null,
   "id": "4ccb4327",
   "metadata": {},
   "outputs": [
    {
     "data": {
      "text/plain": [
       "' 1000.1235'"
      ]
     },
     "execution_count": 73,
     "metadata": {},
     "output_type": "execute_result"
    }
   ],
   "source": [
    "num = 1000.12345678\n",
    "f\"{num:10.4f}\""
   ]
  },
  {
   "cell_type": "code",
   "execution_count": null,
   "id": "4c022031",
   "metadata": {},
   "outputs": [
    {
     "data": {
      "text/plain": [
       "'1100.1235'"
      ]
     },
     "execution_count": 74,
     "metadata": {},
     "output_type": "execute_result"
    }
   ],
   "source": [
    "f\"{num + 100:.4f}\""
   ]
  },
  {
   "cell_type": "code",
   "execution_count": null,
   "id": "c6a04a7c",
   "metadata": {},
   "outputs": [
    {
     "data": {
      "text/plain": [
       "'{값}'"
      ]
     },
     "execution_count": 75,
     "metadata": {},
     "output_type": "execute_result"
    }
   ],
   "source": [
    "f\"{{값}}\""
   ]
  },
  {
   "cell_type": "markdown",
   "id": "b8ce7fbf",
   "metadata": {},
   "source": [
    "### 문자열 관련 함수들\n",
    "- 문자 개수 세기 - count\n",
    "\t- 문장에서 특정 문자가 몇 번 등장하는지\n",
    "\n",
    "- 위치 알려 주기 1 - find\n",
    "\t- 지정된 문자를 못찾은 경우 값을 반환\n",
    "\n",
    "- 위치 알려 주기 2 - index\n",
    "\t- 지정된 문자를 못찾은 경우 예외가 발생\n",
    "\t\n",
    "- 특정 문자열로 결합하여 문자열 생성 - join\n",
    "    - 문자열 외에 list, tuple 사용 가능\n",
    "- 소문자 -> 대문자 - upper\n",
    "- 대문자 -> 소문자 - lower\n",
    "- 공백 제거 - strip / 좌, 우 공백 제거\n",
    "\t- lstrip - 왼쪽 여백 제거\n",
    "\t- rstrip - 오른쪽 여백 제거\n",
    "- 문자열 치환 - replace \n",
    "- 문자열 나누기 - split\n",
    "\t- 문자열 분리 구분문자를 지정하지 않으면 공백 기준에서 분리"
   ]
  },
  {
   "cell_type": "code",
   "execution_count": 100,
   "id": "549dbb17",
   "metadata": {},
   "outputs": [],
   "source": [
    "a = \"One Little Two Little, Three Little Indians\""
   ]
  },
  {
   "cell_type": "code",
   "execution_count": 101,
   "id": "e01ac501",
   "metadata": {},
   "outputs": [
    {
     "data": {
      "text/plain": [
       "3"
      ]
     },
     "execution_count": 101,
     "metadata": {},
     "output_type": "execute_result"
    }
   ],
   "source": [
    "a.count('Little')"
   ]
  },
  {
   "cell_type": "code",
   "execution_count": null,
   "id": "eb060c97",
   "metadata": {},
   "outputs": [
    {
     "data": {
      "text/plain": [
       "-1"
      ]
     },
     "execution_count": 104,
     "metadata": {},
     "output_type": "execute_result"
    }
   ],
   "source": [
    "print(a.find('Little'))\n",
    "print(a.find('Big'))"
   ]
  },
  {
   "cell_type": "code",
   "execution_count": 105,
   "id": "8faaca7e",
   "metadata": {},
   "outputs": [
    {
     "name": "stdout",
     "output_type": "stream",
     "text": [
      "4\n"
     ]
    },
    {
     "ename": "ValueError",
     "evalue": "substring not found",
     "output_type": "error",
     "traceback": [
      "\u001b[31m---------------------------------------------------------------------------\u001b[39m",
      "\u001b[31mValueError\u001b[39m                                Traceback (most recent call last)",
      "\u001b[36mCell\u001b[39m\u001b[36m \u001b[39m\u001b[32mIn[105]\u001b[39m\u001b[32m, line 2\u001b[39m\n\u001b[32m      1\u001b[39m \u001b[38;5;28mprint\u001b[39m(a.index(\u001b[33m'\u001b[39m\u001b[33mLittle\u001b[39m\u001b[33m'\u001b[39m))\n\u001b[32m----> \u001b[39m\u001b[32m2\u001b[39m \u001b[38;5;28mprint\u001b[39m(\u001b[43ma\u001b[49m\u001b[43m.\u001b[49m\u001b[43mindex\u001b[49m\u001b[43m(\u001b[49m\u001b[33;43m'\u001b[39;49m\u001b[33;43mBig\u001b[39;49m\u001b[33;43m'\u001b[39;49m\u001b[43m)\u001b[49m)\n",
      "\u001b[31mValueError\u001b[39m: substring not found"
     ]
    }
   ],
   "source": [
    "print(a.index('Little'))\n",
    "print(a.index('Big'))"
   ]
  },
  {
   "cell_type": "code",
   "execution_count": 108,
   "id": "aaa7bd7c",
   "metadata": {},
   "outputs": [
    {
     "data": {
      "text/plain": [
       "'a#b#c#d'"
      ]
     },
     "execution_count": 108,
     "metadata": {},
     "output_type": "execute_result"
    }
   ],
   "source": [
    "a = 'abcd'\n",
    "'#'.join(a)"
   ]
  },
  {
   "cell_type": "code",
   "execution_count": 109,
   "id": "a33b5a49",
   "metadata": {},
   "outputs": [
    {
     "data": {
      "text/plain": [
       "'apple,orange,banana,melon,mango'"
      ]
     },
     "execution_count": 109,
     "metadata": {},
     "output_type": "execute_result"
    }
   ],
   "source": [
    "fruits = ['apple', 'orange', 'banana', 'melon', 'mango']\n",
    "','.join(fruits)"
   ]
  },
  {
   "cell_type": "code",
   "execution_count": 110,
   "id": "d00f81aa",
   "metadata": {},
   "outputs": [],
   "source": [
    "a = \"                       ABC                  \""
   ]
  },
  {
   "cell_type": "code",
   "execution_count": 111,
   "id": "04c88a66",
   "metadata": {},
   "outputs": [
    {
     "data": {
      "text/plain": [
       "'                       ABC                  DEF'"
      ]
     },
     "execution_count": 111,
     "metadata": {},
     "output_type": "execute_result"
    }
   ],
   "source": [
    "a + \"DEF\""
   ]
  },
  {
   "cell_type": "code",
   "execution_count": 112,
   "id": "0adeabe1",
   "metadata": {},
   "outputs": [
    {
     "data": {
      "text/plain": [
       "'ABCDEF'"
      ]
     },
     "execution_count": 112,
     "metadata": {},
     "output_type": "execute_result"
    }
   ],
   "source": [
    "a.strip() + \"DEF\""
   ]
  },
  {
   "cell_type": "code",
   "execution_count": 113,
   "id": "5cf216a2",
   "metadata": {},
   "outputs": [
    {
     "data": {
      "text/plain": [
       "'ABC                  DEF'"
      ]
     },
     "execution_count": 113,
     "metadata": {},
     "output_type": "execute_result"
    }
   ],
   "source": [
    "a.lstrip() + \"DEF\""
   ]
  },
  {
   "cell_type": "code",
   "execution_count": 114,
   "id": "aef958b3",
   "metadata": {},
   "outputs": [
    {
     "data": {
      "text/plain": [
       "'                       ABCDEF'"
      ]
     },
     "execution_count": 114,
     "metadata": {},
     "output_type": "execute_result"
    }
   ],
   "source": [
    "a.rstrip() + \"DEF\""
   ]
  },
  {
   "cell_type": "code",
   "execution_count": 116,
   "id": "5798381a",
   "metadata": {},
   "outputs": [
    {
     "data": {
      "text/plain": [
       "'One Big Two Big, Three Big Indians'"
      ]
     },
     "execution_count": 116,
     "metadata": {},
     "output_type": "execute_result"
    }
   ],
   "source": [
    "a = \"One Little Two Little, Three Little Indians\"\n",
    "a.replace('Little', 'Big')"
   ]
  },
  {
   "cell_type": "code",
   "execution_count": 117,
   "id": "3402f485",
   "metadata": {},
   "outputs": [
    {
     "data": {
      "text/plain": [
       "['Apple', 'Orange', 'Melon', 'Mango']"
      ]
     },
     "execution_count": 117,
     "metadata": {},
     "output_type": "execute_result"
    }
   ],
   "source": [
    "a = \"Apple Orange Melon Mango\"\n",
    "a.split() # 공백을 기준으로 문자열을 분리리"
   ]
  },
  {
   "cell_type": "code",
   "execution_count": 118,
   "id": "5e545998",
   "metadata": {},
   "outputs": [
    {
     "data": {
      "text/plain": [
       "['Apple', ' Orange', ' Melon', ' Mango']"
      ]
     },
     "execution_count": 118,
     "metadata": {},
     "output_type": "execute_result"
    }
   ],
   "source": [
    "a = \"Apple, Orange, Melon, Mango\"\n",
    "a.split(',')"
   ]
  }
 ],
 "metadata": {
  "kernelspec": {
   "display_name": "basic",
   "language": "python",
   "name": "python3"
  },
  "language_info": {
   "codemirror_mode": {
    "name": "ipython",
    "version": 3
   },
   "file_extension": ".py",
   "mimetype": "text/x-python",
   "name": "python",
   "nbconvert_exporter": "python",
   "pygments_lexer": "ipython3",
   "version": "3.12.10"
  }
 },
 "nbformat": 4,
 "nbformat_minor": 5
}
