{
 "cells": [
  {
   "cell_type": "code",
   "execution_count": 1,
   "id": "6ca147e9",
   "metadata": {},
   "outputs": [],
   "source": [
    "fruits = ['Apple', 'Orange', 'Banana', 'Melon', 'Mango']"
   ]
  },
  {
   "cell_type": "code",
   "execution_count": 4,
   "id": "e693e9de",
   "metadata": {},
   "outputs": [
    {
     "name": "stdout",
     "output_type": "stream",
     "text": [
      "0 Apple\n",
      "1 Orange\n",
      "2 Banana\n",
      "3 Melon\n",
      "4 Mango\n"
     ]
    }
   ],
   "source": [
    "i = 0\n",
    "for item in fruits:\n",
    "    print(i, item)\n",
    "    i += 1"
   ]
  },
  {
   "cell_type": "code",
   "execution_count": 6,
   "id": "7633e5cf",
   "metadata": {},
   "outputs": [
    {
     "name": "stdout",
     "output_type": "stream",
     "text": [
      "(0, 'Apple')\n",
      "(1, 'Orange')\n",
      "(2, 'Banana')\n",
      "(3, 'Melon')\n",
      "(4, 'Mango')\n"
     ]
    }
   ],
   "source": [
    "for item in enumerate(fruits):\n",
    "    print(item)"
   ]
  },
  {
   "cell_type": "code",
   "execution_count": 7,
   "id": "30bcf6ca",
   "metadata": {},
   "outputs": [
    {
     "data": {
      "text/plain": [
       "str"
      ]
     },
     "execution_count": 7,
     "metadata": {},
     "output_type": "execute_result"
    }
   ],
   "source": [
    "data = \"[1, 2, 3, 4]\"\n",
    "type(data)"
   ]
  },
  {
   "cell_type": "code",
   "execution_count": 8,
   "id": "98285c90",
   "metadata": {},
   "outputs": [
    {
     "name": "stdout",
     "output_type": "stream",
     "text": [
      "[1, 2, 3, 4]\n"
     ]
    },
    {
     "data": {
      "text/plain": [
       "list"
      ]
     },
     "execution_count": 8,
     "metadata": {},
     "output_type": "execute_result"
    }
   ],
   "source": [
    "data2 = eval(data)\n",
    "print(data2)\n",
    "type(data2)"
   ]
  },
  {
   "cell_type": "code",
   "execution_count": 26,
   "id": "a0eff4c2",
   "metadata": {},
   "outputs": [
    {
     "data": {
      "text/plain": [
       "[0, 1, 2, 3, 4, 5, 6, 7, 8, 9]"
      ]
     },
     "execution_count": 26,
     "metadata": {},
     "output_type": "execute_result"
    }
   ],
   "source": [
    "nums = list(range(0,101))\n",
    "nums[:10]"
   ]
  },
  {
   "cell_type": "code",
   "execution_count": 27,
   "id": "8393fbf9",
   "metadata": {},
   "outputs": [
    {
     "data": {
      "text/plain": [
       "<filter at 0x26f49860d60>"
      ]
     },
     "execution_count": 27,
     "metadata": {},
     "output_type": "execute_result"
    }
   ],
   "source": [
    "def predicate(x):\n",
    "    return x % 2 == 1\n",
    "\n",
    "filter (predicate, nums)"
   ]
  },
  {
   "cell_type": "code",
   "execution_count": 28,
   "id": "79cd1223",
   "metadata": {},
   "outputs": [
    {
     "data": {
      "text/plain": [
       "[1, 3, 5, 7, 9, 11, 13, 15, 17, 19, 21, 23, 25, 27, 29, 31, 33, 35, 37, 39]"
      ]
     },
     "execution_count": 28,
     "metadata": {},
     "output_type": "execute_result"
    }
   ],
   "source": [
    "odds = list(filter(lambda x: x % 2 == 1, nums))\n",
    "odds[:20]"
   ]
  },
  {
   "cell_type": "code",
   "execution_count": 13,
   "id": "244bfbb7",
   "metadata": {},
   "outputs": [],
   "source": [
    "a = IndexError()"
   ]
  },
  {
   "cell_type": "code",
   "execution_count": 14,
   "id": "84466830",
   "metadata": {},
   "outputs": [
    {
     "data": {
      "text/plain": [
       "True"
      ]
     },
     "execution_count": 14,
     "metadata": {},
     "output_type": "execute_result"
    }
   ],
   "source": [
    "isinstance(a, Exception)"
   ]
  },
  {
   "cell_type": "code",
   "execution_count": 15,
   "id": "354924c2",
   "metadata": {},
   "outputs": [
    {
     "data": {
      "text/plain": [
       "True"
      ]
     },
     "execution_count": 15,
     "metadata": {},
     "output_type": "execute_result"
    }
   ],
   "source": [
    "isinstance(a, IndexError)"
   ]
  },
  {
   "cell_type": "code",
   "execution_count": 16,
   "id": "e5044c50",
   "metadata": {},
   "outputs": [],
   "source": [
    "fruits = ['Apple', 'Orange', 'Banana', 'Melon', 'Mango']"
   ]
  },
  {
   "cell_type": "code",
   "execution_count": 18,
   "id": "8a03eed9",
   "metadata": {},
   "outputs": [
    {
     "data": {
      "text/plain": [
       "[5, 6, 6, 5, 5]"
      ]
     },
     "execution_count": 18,
     "metadata": {},
     "output_type": "execute_result"
    }
   ],
   "source": [
    "fruits_len = list(map(len, fruits))\n",
    "fruits_len"
   ]
  },
  {
   "cell_type": "code",
   "execution_count": 19,
   "id": "d048a8e0",
   "metadata": {},
   "outputs": [
    {
     "data": {
      "text/plain": [
       "['♥Apple♥', '♥Orange♥', '♥Banana♥', '♥Melon♥', '♥Mango♥']"
      ]
     },
     "execution_count": 19,
     "metadata": {},
     "output_type": "execute_result"
    }
   ],
   "source": [
    "fruits2 = list(map(lambda s: '♥' + s + '♥', fruits))\n",
    "fruits2"
   ]
  },
  {
   "cell_type": "code",
   "execution_count": 20,
   "id": "1a225802",
   "metadata": {},
   "outputs": [
    {
     "name": "stdout",
     "output_type": "stream",
     "text": [
      "8\n",
      "8\n"
     ]
    }
   ],
   "source": [
    "print(pow(2,3))\n",
    "print(2 ** 3)"
   ]
  },
  {
   "cell_type": "code",
   "execution_count": 23,
   "id": "7c2d76b9",
   "metadata": {},
   "outputs": [],
   "source": [
    "nums = [10, 20, 30, 40, 50, 60]\n",
    "alpha = ['A', 'B', 'C']"
   ]
  },
  {
   "cell_type": "code",
   "execution_count": 24,
   "id": "f2a92260",
   "metadata": {},
   "outputs": [
    {
     "data": {
      "text/plain": [
       "[(10, 'A'), (20, 'B'), (30, 'C')]"
      ]
     },
     "execution_count": 24,
     "metadata": {},
     "output_type": "execute_result"
    }
   ],
   "source": [
    "data = list(zip(nums, alpha))\n",
    "data"
   ]
  },
  {
   "cell_type": "code",
   "execution_count": null,
   "id": "c583750e",
   "metadata": {},
   "outputs": [],
   "source": []
  }
 ],
 "metadata": {
  "kernelspec": {
   "display_name": "basic",
   "language": "python",
   "name": "python3"
  },
  "language_info": {
   "codemirror_mode": {
    "name": "ipython",
    "version": 3
   },
   "file_extension": ".py",
   "mimetype": "text/x-python",
   "name": "python",
   "nbconvert_exporter": "python",
   "pygments_lexer": "ipython3",
   "version": "3.12.10"
  }
 },
 "nbformat": 4,
 "nbformat_minor": 5
}
