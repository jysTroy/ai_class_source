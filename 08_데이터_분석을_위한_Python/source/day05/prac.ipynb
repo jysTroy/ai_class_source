{
 "cells": [
  {
   "cell_type": "code",
   "execution_count": 1,
   "id": "eda4a6f4",
   "metadata": {},
   "outputs": [
    {
     "name": "stdout",
     "output_type": "stream",
     "text": [
      "5\n"
     ]
    }
   ],
   "source": [
    "# 1. abs\n",
    "print(abs(-5))"
   ]
  },
  {
   "cell_type": "code",
   "execution_count": 5,
   "id": "6481ee99",
   "metadata": {},
   "outputs": [
    {
     "name": "stdout",
     "output_type": "stream",
     "text": [
      "True\n",
      "False\n"
     ]
    }
   ],
   "source": [
    "# 2. all\n",
    "print(all([True, 1, 'a']))\n",
    "print(all([True, 0, 'a']))"
   ]
  },
  {
   "cell_type": "code",
   "execution_count": 7,
   "id": "7ee5f170",
   "metadata": {},
   "outputs": [
    {
     "name": "stdout",
     "output_type": "stream",
     "text": [
      "False\n",
      "True\n"
     ]
    }
   ],
   "source": [
    "# 3. any\n",
    "print(any([False, 0, None]))\n",
    "print(any([False, 0, 'yes']))"
   ]
  },
  {
   "cell_type": "code",
   "execution_count": 10,
   "id": "6c2cddfd",
   "metadata": {},
   "outputs": [
    {
     "name": "stdout",
     "output_type": "stream",
     "text": [
      "W\n"
     ]
    }
   ],
   "source": [
    "# 4. chr\n",
    "print(chr(87))"
   ]
  },
  {
   "cell_type": "code",
   "execution_count": 13,
   "id": "ae5d3688",
   "metadata": {},
   "outputs": [
    {
     "name": "stdout",
     "output_type": "stream",
     "text": [
      "['__add__', '__class__', '__class_getitem__', '__contains__', '__delattr__', '__delitem__', '__dir__', '__doc__', '__eq__', '__format__', '__ge__', '__getattribute__', '__getitem__', '__getstate__', '__gt__', '__hash__', '__iadd__', '__imul__', '__init__', '__init_subclass__', '__iter__', '__le__', '__len__', '__lt__', '__mul__', '__ne__', '__new__', '__reduce__', '__reduce_ex__', '__repr__', '__reversed__', '__rmul__', '__setattr__', '__setitem__', '__sizeof__', '__str__', '__subclasshook__', 'append', 'clear', 'copy', 'count', 'extend', 'index', 'insert', 'pop', 'remove', 'reverse', 'sort']\n"
     ]
    }
   ],
   "source": [
    "# 5. dir\n",
    "print(dir([]))"
   ]
  },
  {
   "cell_type": "code",
   "execution_count": 16,
   "id": "c6f7c6f3",
   "metadata": {},
   "outputs": [
    {
     "name": "stdout",
     "output_type": "stream",
     "text": [
      "(6, 2)\n"
     ]
    }
   ],
   "source": [
    "# 6. divmod\n",
    "print(divmod(20, 3))"
   ]
  },
  {
   "cell_type": "code",
   "execution_count": 22,
   "id": "6086fb29",
   "metadata": {},
   "outputs": [
    {
     "name": "stdout",
     "output_type": "stream",
     "text": [
      "0 A\n",
      "1 2\n",
      "2 3\n"
     ]
    }
   ],
   "source": [
    "# 7. enumerate\n",
    "for i, j in enumerate(['A', 2, 3]):\n",
    "    print(i, j)"
   ]
  },
  {
   "cell_type": "code",
   "execution_count": 23,
   "id": "18ed60d6",
   "metadata": {},
   "outputs": [
    {
     "name": "stdout",
     "output_type": "stream",
     "text": [
      "6\n"
     ]
    }
   ],
   "source": [
    "# 8. eval\n",
    "i = \"1 + 2 + 3\"\n",
    "print(eval(i))"
   ]
  },
  {
   "cell_type": "code",
   "execution_count": 29,
   "id": "25b4bc6d",
   "metadata": {},
   "outputs": [
    {
     "name": "stdout",
     "output_type": "stream",
     "text": [
      "[2, 4, 6, 8]\n"
     ]
    }
   ],
   "source": [
    "# 9. filter\n",
    "def nums(x):\n",
    "    return x % 2 == 0\n",
    "print(list(filter(nums, [1, 2, 3, 4, 5, 6, 7, 8, 9])))"
   ]
  },
  {
   "cell_type": "code",
   "execution_count": null,
   "id": "463a93fb",
   "metadata": {},
   "outputs": [
    {
     "name": "stdout",
     "output_type": "stream",
     "text": [
      "0x7b\n"
     ]
    }
   ],
   "source": [
    "# 10. hex\n",
    "print(hex(123))"
   ]
  },
  {
   "cell_type": "code",
   "execution_count": null,
   "id": "064aa039",
   "metadata": {},
   "outputs": [
    {
     "name": "stdout",
     "output_type": "stream",
     "text": [
      "2751658947504\n"
     ]
    }
   ],
   "source": [
    "# 11. id\n",
    "i = 1.123123\n",
    "print(id(i))"
   ]
  },
  {
   "cell_type": "code",
   "execution_count": 38,
   "id": "dacfbae6",
   "metadata": {},
   "outputs": [
    {
     "name": "stdout",
     "output_type": "stream",
     "text": [
      "ㅁㄴㅇ\n"
     ]
    }
   ],
   "source": [
    "# 12. input\n",
    "print(input())"
   ]
  },
  {
   "cell_type": "code",
   "execution_count": 42,
   "id": "640050a8",
   "metadata": {},
   "outputs": [
    {
     "name": "stdout",
     "output_type": "stream",
     "text": [
      "123123\n",
      "123123.345345\n"
     ]
    }
   ],
   "source": [
    "# 13. int\n",
    "print(int(\"123123\"))\n",
    "print(float(\"123123.345345\"))"
   ]
  },
  {
   "cell_type": "code",
   "execution_count": 45,
   "id": "bcbf6325",
   "metadata": {},
   "outputs": [
    {
     "name": "stdout",
     "output_type": "stream",
     "text": [
      "False\n",
      "True\n"
     ]
    }
   ],
   "source": [
    "# 14. isinstance\n",
    "print(isinstance(\"123\", int))\n",
    "print(isinstance(123, int))"
   ]
  },
  {
   "cell_type": "code",
   "execution_count": 47,
   "id": "a36aeb83",
   "metadata": {},
   "outputs": [
    {
     "name": "stdout",
     "output_type": "stream",
     "text": [
      "12\n"
     ]
    }
   ],
   "source": [
    "# 15. len\n",
    "print(len(\"3.1415926535\"))"
   ]
  },
  {
   "cell_type": "code",
   "execution_count": 52,
   "id": "8ddf495c",
   "metadata": {},
   "outputs": [
    {
     "name": "stdout",
     "output_type": "stream",
     "text": [
      "['나', '는', '인', '간']\n"
     ]
    }
   ],
   "source": [
    "# 16. list\n",
    "print(list((\"나는인간\")))"
   ]
  },
  {
   "cell_type": "code",
   "execution_count": null,
   "id": "1540e733",
   "metadata": {},
   "outputs": [],
   "source": []
  }
 ],
 "metadata": {
  "kernelspec": {
   "display_name": "basic",
   "language": "python",
   "name": "python3"
  },
  "language_info": {
   "codemirror_mode": {
    "name": "ipython",
    "version": 3
   },
   "file_extension": ".py",
   "mimetype": "text/x-python",
   "name": "python",
   "nbconvert_exporter": "python",
   "pygments_lexer": "ipython3",
   "version": "3.12.10"
  }
 },
 "nbformat": 4,
 "nbformat_minor": 5
}
