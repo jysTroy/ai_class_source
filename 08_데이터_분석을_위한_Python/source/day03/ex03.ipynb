{
 "cells": [
  {
   "cell_type": "markdown",
   "id": "c73a782f",
   "metadata": {},
   "source": [
    "## 파이썬 함수의 구조\n",
    "```python\n",
    "def 함수명(매개변수 정의):\n",
    "\t수행될 코드\n",
    "```"
   ]
  },
  {
   "cell_type": "code",
   "execution_count": 3,
   "id": "dd0662cc",
   "metadata": {},
   "outputs": [],
   "source": [
    "def add(num1, num2):\n",
    "    return num1 + num2"
   ]
  },
  {
   "cell_type": "code",
   "execution_count": 4,
   "id": "62fc11e6",
   "metadata": {},
   "outputs": [
    {
     "data": {
      "text/plain": [
       "30"
      ]
     },
     "execution_count": 4,
     "metadata": {},
     "output_type": "execute_result"
    }
   ],
   "source": [
    "result = add(10, 20)\n",
    "result "
   ]
  },
  {
   "cell_type": "code",
   "execution_count": 6,
   "id": "cbd533b7",
   "metadata": {},
   "outputs": [
    {
     "data": {
      "text/plain": [
       "30"
      ]
     },
     "execution_count": 6,
     "metadata": {},
     "output_type": "execute_result"
    }
   ],
   "source": [
    "add(num2=20, num1=10)"
   ]
  },
  {
   "cell_type": "markdown",
   "id": "ca09ac80",
   "metadata": {},
   "source": [
    "## 함수의 매개변수 기본값\n",
    "```python\n",
    "def add(num1, num2 = 10):\n",
    "    return num1 + num2\n",
    "```\n",
    "\n",
    "> 매개변수의 기본값은 끝에서부터 차례대로 설정"
   ]
  },
  {
   "cell_type": "code",
   "execution_count": 8,
   "id": "9d21094c",
   "metadata": {},
   "outputs": [],
   "source": [
    "def add(num1, num2 = 10):\n",
    "    return num1 + num2"
   ]
  },
  {
   "cell_type": "code",
   "execution_count": 9,
   "id": "f3998f35",
   "metadata": {},
   "outputs": [
    {
     "data": {
      "text/plain": [
       "30"
      ]
     },
     "execution_count": 9,
     "metadata": {},
     "output_type": "execute_result"
    }
   ],
   "source": [
    "add(20)"
   ]
  },
  {
   "cell_type": "markdown",
   "id": "447e7552",
   "metadata": {},
   "source": [
    "## 가변 매개변수\n",
    "- 매개변수에 *를 붙인다.\n",
    "    - 입력한 값은 튜플 담긴다.\n",
    "- 키워드 가변 매개변수\n",
    "    - 매개변수에 **를 붙인다.\n",
    "    - 딕셔너리 형태로 값이 담긴다."
   ]
  },
  {
   "cell_type": "code",
   "execution_count": 20,
   "id": "7b61fce0",
   "metadata": {},
   "outputs": [],
   "source": [
    "def calc(oper, *args):\n",
    "    result = 0\n",
    "    if oper == 'add':\n",
    "        for num in args: result += num\n",
    "    elif oper == 'mul':\n",
    "        result = 1\n",
    "        for num in args: result *= num\n",
    "\n",
    "    return result"
   ]
  },
  {
   "cell_type": "code",
   "execution_count": 15,
   "id": "edd108c1",
   "metadata": {},
   "outputs": [
    {
     "data": {
      "text/plain": [
       "100"
      ]
     },
     "execution_count": 15,
     "metadata": {},
     "output_type": "execute_result"
    }
   ],
   "source": [
    "calc(\"add\", 10, 20, 30, 40)"
   ]
  },
  {
   "cell_type": "code",
   "execution_count": 22,
   "id": "54b32a15",
   "metadata": {},
   "outputs": [
    {
     "data": {
      "text/plain": [
       "240000"
      ]
     },
     "execution_count": 22,
     "metadata": {},
     "output_type": "execute_result"
    }
   ],
   "source": [
    "calc('mul', 10, 20, 30, 40)"
   ]
  },
  {
   "cell_type": "code",
   "execution_count": 23,
   "id": "e007aec5",
   "metadata": {},
   "outputs": [],
   "source": [
    "# 파이썬 함수 이름 또는 변수의 이름을 짓는 경우 snake_case 형태로 사용 단어와 단어 사이 _로 붙인다.\n",
    "def print_value(**kwargs):\n",
    "    print(kwargs)"
   ]
  },
  {
   "cell_type": "code",
   "execution_count": 24,
   "id": "ee83f9e7",
   "metadata": {},
   "outputs": [
    {
     "name": "stdout",
     "output_type": "stream",
     "text": [
      "{'name': '이이름', 'age': 40}\n"
     ]
    }
   ],
   "source": [
    "print_value(name='이이름', age=40)"
   ]
  },
  {
   "cell_type": "code",
   "execution_count": 45,
   "id": "ec432de6",
   "metadata": {},
   "outputs": [
    {
     "name": "stdout",
     "output_type": "stream",
     "text": [
      "args (10, 20, 30)\n",
      "kwargs {'name': '이이름', 'age': 40}\n"
     ]
    }
   ],
   "source": [
    "print_value(10, 20, 30, name='이이름', age=40)"
   ]
  },
  {
   "cell_type": "code",
   "execution_count": 38,
   "id": "650a336a",
   "metadata": {},
   "outputs": [],
   "source": [
    "def print_value(*args, **kwargs):\n",
    "    print(\"args\", args)\n",
    "    print(\"kwargs\", kwargs)"
   ]
  },
  {
   "cell_type": "code",
   "execution_count": 40,
   "id": "6ea8d14a",
   "metadata": {},
   "outputs": [
    {
     "name": "stdout",
     "output_type": "stream",
     "text": [
      "args (10, 20, 30)\n",
      "kwargs {'name': '이이름', 'age': 40}\n"
     ]
    }
   ],
   "source": [
    "print_value(10, 20, 30, name='이이름', age=40)"
   ]
  },
  {
   "cell_type": "code",
   "execution_count": 42,
   "id": "aab8b14a",
   "metadata": {},
   "outputs": [],
   "source": [
    "def calc(num1, num2):\n",
    "    return num1 + num2, num1 - num2, num1 * num2, num1 / num2"
   ]
  },
  {
   "cell_type": "code",
   "execution_count": 46,
   "id": "40c4983c",
   "metadata": {},
   "outputs": [
    {
     "data": {
      "text/plain": [
       "(30, 10, 200, 2.0)"
      ]
     },
     "execution_count": 46,
     "metadata": {},
     "output_type": "execute_result"
    }
   ],
   "source": [
    "result = calc(20, 10)\n",
    "result"
   ]
  },
  {
   "cell_type": "code",
   "execution_count": 47,
   "id": "ac59774a",
   "metadata": {},
   "outputs": [
    {
     "name": "stdout",
     "output_type": "stream",
     "text": [
      "30 10 200 2.0\n"
     ]
    }
   ],
   "source": [
    "add_result, sub_result, mul_result, div_result = calc(20, 10)\n",
    "print(add_result, sub_result, mul_result, div_result)"
   ]
  },
  {
   "cell_type": "markdown",
   "id": "7fa8fb95",
   "metadata": {},
   "source": [
    "## 전역 변수, 지역 변수 \n",
    "\n",
    "> 순수함수 : 함수 내의 연산 결과가 전역 변수로 지정된 자원에 영향을 미치지 않는 함수 (부작용이 없는 함수)"
   ]
  },
  {
   "cell_type": "code",
   "execution_count": 50,
   "id": "8e2a3158",
   "metadata": {},
   "outputs": [],
   "source": [
    "a = 100 # 전역변수\n",
    "def calc():\n",
    "    global a # 전역변수를 지역내에서 접근할 때\n",
    "    \n",
    "    b = 200 # 지역변수\n",
    "    return a + b"
   ]
  },
  {
   "cell_type": "code",
   "execution_count": 51,
   "id": "b40314fb",
   "metadata": {},
   "outputs": [
    {
     "data": {
      "text/plain": [
       "300"
      ]
     },
     "execution_count": 51,
     "metadata": {},
     "output_type": "execute_result"
    }
   ],
   "source": [
    "calc()"
   ]
  },
  {
   "cell_type": "markdown",
   "id": "28397404",
   "metadata": {},
   "source": [
    "## 함수형 프로그래밍\n",
    "- 매개변수로 함수를 사용\n",
    "\t- 사용자 정의 기능\n",
    "- 반환값으로 함수를 사용\n",
    "\t- 팩토리 함수\n",
    "\t- 고차 함수\n",
    "\t- 함수 안에 함수를 정의할 수 있어야 함\n",
    "\n",
    "- 람다식\n",
    "```python\n",
    "\tlambda 매개변수 정의: 실행될 내용\n",
    "```"
   ]
  },
  {
   "cell_type": "code",
   "execution_count": 55,
   "id": "6415ed77",
   "metadata": {},
   "outputs": [],
   "source": [
    "def calc(callback):\n",
    "    num1 = 10\n",
    "    num2 = 20\n",
    "    result = callback(num1, num2)\n",
    "\n",
    "    return result * result"
   ]
  },
  {
   "cell_type": "code",
   "execution_count": 56,
   "id": "92549d37",
   "metadata": {},
   "outputs": [],
   "source": [
    "def add(num1, num2):\n",
    "    return num1 + num2"
   ]
  },
  {
   "cell_type": "code",
   "execution_count": 57,
   "id": "a169d6e4",
   "metadata": {},
   "outputs": [
    {
     "data": {
      "text/plain": [
       "900"
      ]
     },
     "execution_count": 57,
     "metadata": {},
     "output_type": "execute_result"
    }
   ],
   "source": [
    "calc(add)"
   ]
  },
  {
   "cell_type": "code",
   "execution_count": 58,
   "id": "c5d5501e",
   "metadata": {},
   "outputs": [],
   "source": [
    "add = lambda a, b: a + b"
   ]
  },
  {
   "cell_type": "code",
   "execution_count": 59,
   "id": "21f623c6",
   "metadata": {},
   "outputs": [
    {
     "data": {
      "text/plain": [
       "30"
      ]
     },
     "execution_count": 59,
     "metadata": {},
     "output_type": "execute_result"
    }
   ],
   "source": [
    "add(10, 20)"
   ]
  },
  {
   "cell_type": "code",
   "execution_count": 60,
   "id": "e548215b",
   "metadata": {},
   "outputs": [
    {
     "data": {
      "text/plain": [
       "40000"
      ]
     },
     "execution_count": 60,
     "metadata": {},
     "output_type": "execute_result"
    }
   ],
   "source": [
    "calc(lambda a, b: a * b)"
   ]
  },
  {
   "cell_type": "code",
   "execution_count": 61,
   "id": "a22101f7",
   "metadata": {},
   "outputs": [],
   "source": [
    "def add(num1):\n",
    "\n",
    "    def add2(num2):\n",
    "        return num1 + num2\n",
    "\n",
    "    return add2"
   ]
  },
  {
   "cell_type": "code",
   "execution_count": 62,
   "id": "08222896",
   "metadata": {},
   "outputs": [],
   "source": [
    "add10 = add(10)"
   ]
  },
  {
   "cell_type": "code",
   "execution_count": 63,
   "id": "6b2a3215",
   "metadata": {},
   "outputs": [
    {
     "data": {
      "text/plain": [
       "30"
      ]
     },
     "execution_count": 63,
     "metadata": {},
     "output_type": "execute_result"
    }
   ],
   "source": [
    "add10(20)"
   ]
  },
  {
   "cell_type": "code",
   "execution_count": 64,
   "id": "27bffab0",
   "metadata": {},
   "outputs": [
    {
     "data": {
      "text/plain": [
       "30"
      ]
     },
     "execution_count": 64,
     "metadata": {},
     "output_type": "execute_result"
    }
   ],
   "source": [
    "add(10)(20)"
   ]
  },
  {
   "cell_type": "markdown",
   "id": "08ea4526",
   "metadata": {},
   "source": [
    "# 함수 안에 함수를 정의하고 실행\n",
    "- 응용 사례 : 데코레이터"
   ]
  },
  {
   "cell_type": "code",
   "execution_count": 78,
   "id": "829766ed",
   "metadata": {},
   "outputs": [],
   "source": [
    "import time\n",
    "\n",
    "def time_lapse(func):\n",
    "    def wrapper(*args, **kwargs):\n",
    "        start = time.time() # 함수 실행 전 시간 측정\n",
    "\n",
    "        result = func(*args, **kwargs)\n",
    "\n",
    "        end = time.time() # 함수 실행 후 시간 측정\n",
    "        print(\"걸린시간 %d\" % (end - start))\n",
    "        return result\n",
    "\n",
    "    return wrapper"
   ]
  },
  {
   "cell_type": "code",
   "execution_count": 79,
   "id": "4c8f42a4",
   "metadata": {},
   "outputs": [],
   "source": [
    "@time_lapse\n",
    "def somefunc():\n",
    "    print(\"어떤 기능 실행\")"
   ]
  },
  {
   "cell_type": "code",
   "execution_count": 80,
   "id": "a5e8a39d",
   "metadata": {},
   "outputs": [
    {
     "name": "stdout",
     "output_type": "stream",
     "text": [
      "어떤 기능 실행\n",
      "걸린시간 0\n"
     ]
    }
   ],
   "source": [
    "somefunc()"
   ]
  },
  {
   "cell_type": "code",
   "execution_count": 81,
   "id": "76760c5d",
   "metadata": {},
   "outputs": [],
   "source": [
    "@time_lapse\n",
    "def factorial(num):\n",
    "    if num < 1:\n",
    "        return 1\n",
    "        \n",
    "    return num * factorial(num - 1)"
   ]
  },
  {
   "cell_type": "code",
   "execution_count": 82,
   "id": "bd90a625",
   "metadata": {},
   "outputs": [
    {
     "name": "stdout",
     "output_type": "stream",
     "text": [
      "걸린시간 0\n",
      "걸린시간 0\n",
      "걸린시간 0\n",
      "걸린시간 0\n",
      "걸린시간 0\n",
      "걸린시간 0\n",
      "걸린시간 0\n",
      "걸린시간 0\n",
      "걸린시간 0\n",
      "걸린시간 0\n",
      "걸린시간 0\n"
     ]
    },
    {
     "data": {
      "text/plain": [
       "3628800"
      ]
     },
     "execution_count": 82,
     "metadata": {},
     "output_type": "execute_result"
    }
   ],
   "source": [
    "factorial(10)"
   ]
  },
  {
   "cell_type": "code",
   "execution_count": 83,
   "id": "311eadee",
   "metadata": {},
   "outputs": [],
   "source": [
    "fact = time_lapse(factorial)"
   ]
  },
  {
   "cell_type": "code",
   "execution_count": 84,
   "id": "9743628f",
   "metadata": {},
   "outputs": [
    {
     "name": "stdout",
     "output_type": "stream",
     "text": [
      "걸린시간 0\n",
      "걸린시간 0\n",
      "걸린시간 0\n",
      "걸린시간 0\n",
      "걸린시간 0\n",
      "걸린시간 0\n",
      "걸린시간 0\n",
      "걸린시간 0\n",
      "걸린시간 0\n",
      "걸린시간 0\n",
      "걸린시간 0\n",
      "걸린시간 0\n"
     ]
    },
    {
     "data": {
      "text/plain": [
       "3628800"
      ]
     },
     "execution_count": 84,
     "metadata": {},
     "output_type": "execute_result"
    }
   ],
   "source": [
    "fact(10)"
   ]
  }
 ],
 "metadata": {
  "kernelspec": {
   "display_name": "basic",
   "language": "python",
   "name": "python3"
  },
  "language_info": {
   "codemirror_mode": {
    "name": "ipython",
    "version": 3
   },
   "file_extension": ".py",
   "mimetype": "text/x-python",
   "name": "python",
   "nbconvert_exporter": "python",
   "pygments_lexer": "ipython3",
   "version": "3.12.10"
  }
 },
 "nbformat": 4,
 "nbformat_minor": 5
}
