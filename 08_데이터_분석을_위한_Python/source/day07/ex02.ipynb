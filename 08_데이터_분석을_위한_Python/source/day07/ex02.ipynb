{
 "cells": [
  {
   "cell_type": "code",
   "execution_count": 2,
   "id": "f74a2670",
   "metadata": {},
   "outputs": [],
   "source": [
    "# import faker # faker.Faker\n",
    "from faker import Faker"
   ]
  },
  {
   "cell_type": "code",
   "execution_count": 139,
   "id": "7d01c00c",
   "metadata": {},
   "outputs": [],
   "source": [
    "faker = Faker(\"ko-KR\")"
   ]
  },
  {
   "cell_type": "code",
   "execution_count": 140,
   "id": "2fcbbe75",
   "metadata": {},
   "outputs": [
    {
     "data": {
      "text/plain": [
       "'김승현'"
      ]
     },
     "execution_count": 140,
     "metadata": {},
     "output_type": "execute_result"
    }
   ],
   "source": [
    "faker.name()"
   ]
  },
  {
   "cell_type": "code",
   "execution_count": 141,
   "id": "0de29ee7",
   "metadata": {},
   "outputs": [],
   "source": [
    "members = [(faker.name(), faker.address()) for _ in range(30)]"
   ]
  },
  {
   "cell_type": "code",
   "execution_count": 142,
   "id": "a8a58e07",
   "metadata": {},
   "outputs": [
    {
     "data": {
      "text/plain": [
       "[('이영길', '인천광역시 영등포구 서초대가 515-58'),\n",
       " ('강정숙', '인천광역시 광진구 강남대18거리 564-78 (영순이안리)'),\n",
       " ('송예원', '경상북도 용인시 처인구 압구정로 413-30 (영순이리)'),\n",
       " ('허준서', '전라남도 고양시 덕양구 압구정길 72'),\n",
       " ('류윤서', '대전광역시 동작구 서초대56거리 228-54'),\n",
       " ('김수민', '부산광역시 남구 영동대로 488-25'),\n",
       " ('배영일', '제주특별자치도 안양시 만안구 서초대044로 15-96 (정남김강마을)'),\n",
       " ('윤예원', '경상북도 인제군 도산대419가 169-59'),\n",
       " ('박명숙', '전라남도 청주시 서원구 가락62로 371 (종수배면)'),\n",
       " ('김민수', '경상남도 고양시 덕양구 언주로 16-20'),\n",
       " ('이은정', '제주특별자치도 고성군 서초중앙길 584-27'),\n",
       " ('이은지', '전라남도 김포시 백제고분2길 692 (서연김김마을)'),\n",
       " ('이영숙', '경상북도 이천시 논현6로 555-94 (수진이박동)'),\n",
       " ('윤선영', '경기도 계룡시 봉은사828길 571'),\n",
       " ('김은영', '서울특별시 강북구 강남대9가 749 (성훈서김마을)'),\n",
       " ('김민지', '광주광역시 강동구 역삼6길 901 (현주이동)'),\n",
       " ('김정수', '강원도 청주시 서원구 잠실2로 지하376'),\n",
       " ('서보람', '서울특별시 종로구 강남대길 805-63 (옥자강김리)'),\n",
       " ('이영환', '울산광역시 영등포구 서초중앙552로 103'),\n",
       " ('이은지', '경상남도 수원시 영통구 개포로 658'),\n",
       " ('김영식', '울산광역시 금천구 잠실1길 763-75 (민석안박면)'),\n",
       " ('장하윤', '전라남도 계룡시 봉은사로 362'),\n",
       " ('이진호', '전라남도 태백시 삼성1로 329-2'),\n",
       " ('김승현', '제주특별자치도 춘천시 오금거리 454-52'),\n",
       " ('강은지', '대구광역시 은평구 역삼97가 148 (민서김김읍)'),\n",
       " ('박서영', '세종특별자치시 서초구 봉은사8길 133-88'),\n",
       " ('이영진', '울산광역시 강남구 삼성279길 305'),\n",
       " ('이은정', '전라북도 고양시 덕양구 강남대691로 978 (현우차서마을)'),\n",
       " ('강영길', '대구광역시 서초구 역삼549거리 지하673 (선영양동)'),\n",
       " ('노준서', '전라남도 이천시 반포대거리 625 (상훈이마을)')]"
      ]
     },
     "execution_count": 142,
     "metadata": {},
     "output_type": "execute_result"
    }
   ],
   "source": [
    "members"
   ]
  },
  {
   "cell_type": "code",
   "execution_count": 146,
   "id": "f3cf5685",
   "metadata": {},
   "outputs": [
    {
     "data": {
      "text/plain": [
       "b'\\xc0\\xcc\\xc0\\xcc\\xb8\\xa7'"
      ]
     },
     "execution_count": 146,
     "metadata": {},
     "output_type": "execute_result"
    }
   ],
   "source": [
    "\"이이름\".encode(\"euc-kr\")"
   ]
  },
  {
   "cell_type": "code",
   "execution_count": null,
   "id": "89474e61",
   "metadata": {},
   "outputs": [],
   "source": []
  }
 ],
 "metadata": {
  "kernelspec": {
   "display_name": "basic",
   "language": "python",
   "name": "python3"
  },
  "language_info": {
   "codemirror_mode": {
    "name": "ipython",
    "version": 3
   },
   "file_extension": ".py",
   "mimetype": "text/x-python",
   "name": "python",
   "nbconvert_exporter": "python",
   "pygments_lexer": "ipython3",
   "version": "3.12.10"
  }
 },
 "nbformat": 4,
 "nbformat_minor": 5
}
