{
 "cells": [
  {
   "cell_type": "markdown",
   "id": "8311a418",
   "metadata": {},
   "source": [
    "# 정규표현식\n",
    "## \\[\\] 문자 클래스 : 문자 하나 하나\n",
    "```python\n",
    "[abc] : a, b, c\n",
    "```\n",
    "\n",
    "- 문자의 범위 - \n",
    "```python\n",
    "[a-z] # a ~ z\n",
    "[A-Z] # A ~ Z 알파벳 대문자\n",
    "[a-zA-z] # 대소문자 구분 없는 알파벳 문자 \n",
    "[ㄱ-ㅎ가-힣] # 한글 문자 1개\n",
    "[0-9] # 숫자 문자 1개\n",
    "[^0-9] # 0 ~ 9 숫자를 제외한 모든 문자 (^ ~를 제외한 문자)\n",
    "```"
   ]
  },
  {
   "cell_type": "code",
   "execution_count": 1,
   "id": "4a5a2bca",
   "metadata": {},
   "outputs": [],
   "source": [
    "import re"
   ]
  },
  {
   "cell_type": "code",
   "execution_count": 18,
   "id": "f1d76a5f",
   "metadata": {},
   "outputs": [],
   "source": [
    "# p = re.compile(\"[abc]\") # a 또는 b 또는 c라는 문자 한 개가 포함되어 있는지\n",
    "# p = re.compile(\"[a-z]\") # a ~ z\n",
    "# p = re.compile(\"[a-zA-z]\")\n",
    "# p = re.compile(\"[0-9]\") # 0 ~ 9\n",
    "# p = re.compile(\"\\\\d\") # 0 ~ 9\n",
    "# p = re.compile(\"[^0-9]\") # 숫자가 아닌 모든 문자\n",
    "p = re.compile(\"\\\\D\") # [^0-9] : 숫자가 아닌 모든 문자"
   ]
  },
  {
   "cell_type": "code",
   "execution_count": 19,
   "id": "2cf09764",
   "metadata": {},
   "outputs": [
    {
     "data": {
      "text/plain": [
       "<re.Match object; span=(0, 1), match='!'>"
      ]
     },
     "execution_count": 19,
     "metadata": {},
     "output_type": "execute_result"
    }
   ],
   "source": [
    "p.match(\"!01\")"
   ]
  },
  {
   "cell_type": "markdown",
   "id": "bcb95401",
   "metadata": {},
   "source": [
    "## 자주 사용하는 문자 클래스\n",
    "- `\\\\d` : \\[0-9\\] : 숫자\n",
    "- `\\\\D` : \\[^0-9\\] : 숫자가 아닌 패턴\n",
    "- `\\s` : 공백 문자 한 개(`' ', \\t - 탭 한칸, \\r, \\n, \\f`) - [\\s\\t\\r\\n\\f]\n",
    "- `\\S` : 공백이 아닌 모든 문자 - [^\\s\\t\\r\\n\\f]\n",
    "- `\\w` : \\[a-zA-z0-9_\\] : 단어 한 개 패턴, \n",
    "- 참고) 한글 단어 한 개 : `[a-zA-z0-9_ㄱ-ㅎ가-힣]`\n",
    "- `\\W` : \\[^a-zA-z0-9_\\] "
   ]
  },
  {
   "cell_type": "markdown",
   "id": "b8a69301",
   "metadata": {},
   "source": [
    "# . 문자 \n",
    "- `\\n`을 제외한 문자 1개(줄 개행 문자는 포함 X)"
   ]
  },
  {
   "cell_type": "code",
   "execution_count": 26,
   "id": "3fdab80a",
   "metadata": {},
   "outputs": [
    {
     "name": "stdout",
     "output_type": "stream",
     "text": [
      "a000b <re.Match object; span=(0, 5), match='a000b'>\n",
      "a111b <re.Match object; span=(0, 5), match='a111b'>\n",
      "a222b <re.Match object; span=(0, 5), match='a222b'>\n",
      "a!b None\n"
     ]
    }
   ],
   "source": [
    "# a0b, a1b, a2b, a!b\n",
    "words = ['a000b', 'a111b', 'a222b', 'a!b']\n",
    "p = re.compile(\"a...b\")\n",
    "\n",
    "for word in words:\n",
    "    print(word, p.match(word))"
   ]
  },
  {
   "cell_type": "markdown",
   "id": "21b14e16",
   "metadata": {},
   "source": [
    "# 패턴의 반복 횟수\n",
    "- 패턴{숫자} : 패턴이 숫자 만큼 반복\n",
    "- 패턴(시작번호, 종료번호) : 패턴이 시작번호 이상, 종료번호 이하 반복\n",
    "    - 패턴{1,3} : 패턴이 1번 이상 3번 이하\n",
    "    - 패턴{0,1} : 없어도 되지만 있을 떄는 1개가 있어야 한다. ?\n",
    "- 패턴{시작번호,} : 패턴이 시작번호 이상 반복\n",
    "    - 패턴{1,} : 패턴이 1번 이상 반복 / 패턴+\n",
    "    - 패턴{0,} : 패턴이 0번 이상 반복, 패턴에 해당하는 문자가 있어도되고 없어도 된다. / 패턴*\n",
    "    "
   ]
  },
  {
   "cell_type": "code",
   "execution_count": 37,
   "id": "19bcecac",
   "metadata": {},
   "outputs": [
    {
     "name": "stdout",
     "output_type": "stream",
     "text": [
      "a000b <re.Match object; span=(0, 5), match='a000b'>\n",
      "a111b <re.Match object; span=(0, 5), match='a111b'>\n",
      "a222b <re.Match object; span=(0, 5), match='a222b'>\n",
      "a33333b <re.Match object; span=(0, 7), match='a33333b'>\n",
      "a!b <re.Match object; span=(0, 3), match='a!b'>\n",
      "ab <re.Match object; span=(0, 2), match='ab'>\n"
     ]
    }
   ],
   "source": [
    "# a0b, a1b, a2b, a!b\n",
    "words = ['a000b', 'a111b', 'a222b', 'a33333b', 'a!b', 'ab']\n",
    "# p = re.compile(\"a.{3}b\")\n",
    "# p = re.compile(\"a.{1,3}b\")\n",
    "# p = re.compile(\"a.{1,}b\")\n",
    "# p = re.compile(\"a.{0,}b\")\n",
    "# p = re.compile(\"a.+b\") # (\"a.{1,}b\") / .이 1개 이상\n",
    "p = re.compile(\"a.*b\") # (\"a.{0,}b\") / .이 0개 이상\n",
    "for word in words:\n",
    "    print(word, p.match(word))"
   ]
  },
  {
   "cell_type": "code",
   "execution_count": 67,
   "id": "4ebf84ab",
   "metadata": {},
   "outputs": [],
   "source": [
    "# p = re.compile(\"python\")\n",
    "p = re.compile(\".*python.*\") # python 포함된 패턴"
   ]
  },
  {
   "cell_type": "code",
   "execution_count": 68,
   "id": "b4e145f0",
   "metadata": {},
   "outputs": [
    {
     "data": {
      "text/plain": [
       "<re.Match object; span=(0, 6), match='python'>"
      ]
     },
     "execution_count": 68,
     "metadata": {},
     "output_type": "execute_result"
    }
   ],
   "source": [
    "str = \"python\"\n",
    "p.match(str)"
   ]
  },
  {
   "cell_type": "code",
   "execution_count": 69,
   "id": "3a092253",
   "metadata": {},
   "outputs": [
    {
     "data": {
      "text/plain": [
       "<re.Match object; span=(0, 13), match='I love python'>"
      ]
     },
     "execution_count": 69,
     "metadata": {},
     "output_type": "execute_result"
    }
   ],
   "source": [
    "str = \"I love python\"\n",
    "p.match(str)"
   ]
  },
  {
   "cell_type": "code",
   "execution_count": 70,
   "id": "b770ef4b",
   "metadata": {},
   "outputs": [
    {
     "data": {
      "text/plain": [
       "<re.Match object; span=(0, 22), match='I love python and java'>"
      ]
     },
     "execution_count": 70,
     "metadata": {},
     "output_type": "execute_result"
    }
   ],
   "source": [
    "str = \"I love python and java\"\n",
    "p.match(str)"
   ]
  },
  {
   "cell_type": "code",
   "execution_count": 71,
   "id": "e4bb0f00",
   "metadata": {},
   "outputs": [
    {
     "data": {
      "text/plain": [
       "<re.Match object; span=(7, 13), match='python'>"
      ]
     },
     "execution_count": 71,
     "metadata": {},
     "output_type": "execute_result"
    }
   ],
   "source": [
    "p = re.compile(\"python\")\n",
    "p.search(str)"
   ]
  },
  {
   "cell_type": "markdown",
   "id": "a23b6ea1",
   "metadata": {},
   "source": [
    "# 휴대폰 번호 패턴\n",
    "- 010-1000-1000\n",
    "- 01010001000\n",
    "- 010.1000.1000"
   ]
  },
  {
   "cell_type": "code",
   "execution_count": 73,
   "id": "252b183e",
   "metadata": {},
   "outputs": [],
   "source": [
    "p = re.compile(\"010.?\\\\d{4}.?\\\\d{4}\")"
   ]
  },
  {
   "cell_type": "code",
   "execution_count": 74,
   "id": "99c42860",
   "metadata": {},
   "outputs": [
    {
     "data": {
      "text/plain": [
       "<re.Match object; span=(0, 13), match='010-1234-1345'>"
      ]
     },
     "execution_count": 74,
     "metadata": {},
     "output_type": "execute_result"
    }
   ],
   "source": [
    "p.search(\"010-1234-1345\")"
   ]
  },
  {
   "cell_type": "code",
   "execution_count": 75,
   "id": "f0e3e4ea",
   "metadata": {},
   "outputs": [
    {
     "data": {
      "text/plain": [
       "<re.Match object; span=(4, 17), match='010-1234-1234'>"
      ]
     },
     "execution_count": 75,
     "metadata": {},
     "output_type": "execute_result"
    }
   ],
   "source": [
    "p.search(\"1234010-1234-12341234\")"
   ]
  },
  {
   "cell_type": "markdown",
   "id": "ef45767c",
   "metadata": {},
   "source": [
    "### ^, $\n",
    "- ^패턴 : 패턴으로 시작하는 패턴\n",
    "- 패턴$ : 패턴으로 끝나는 패턴"
   ]
  },
  {
   "cell_type": "code",
   "execution_count": 79,
   "id": "a6c5a161",
   "metadata": {},
   "outputs": [],
   "source": [
    "p = re.compile(\"^010.?\\\\d{4}.?\\\\d{4}$\") # 010으로 시작하는 패턴, 4자리 숫자로 끝나는 패턴"
   ]
  },
  {
   "cell_type": "code",
   "execution_count": 88,
   "id": "ce430cd9",
   "metadata": {},
   "outputs": [],
   "source": [
    "p.search(\"1234010-1234-12341234\")"
   ]
  },
  {
   "cell_type": "code",
   "execution_count": 87,
   "id": "8dbe9884",
   "metadata": {},
   "outputs": [],
   "source": [
    "p.search(\"010-1234-12341234\")"
   ]
  },
  {
   "cell_type": "code",
   "execution_count": 86,
   "id": "48623fb3",
   "metadata": {},
   "outputs": [
    {
     "data": {
      "text/plain": [
       "<re.Match object; span=(0, 13), match='010-1234-1234'>"
      ]
     },
     "execution_count": 86,
     "metadata": {},
     "output_type": "execute_result"
    }
   ],
   "source": [
    "p.search(\"010-1234-1234\")"
   ]
  },
  {
   "cell_type": "markdown",
   "id": "861ebb4b",
   "metadata": {},
   "source": [
    "## 역슬래시를 2개씩 써야 하는 경우\n",
    "- 메타문자 \\d -> \\\\d\n",
    "- 안쓰고 문자 그대로 인식하게 하는 방법 r\"패턴\""
   ]
  },
  {
   "cell_type": "code",
   "execution_count": 91,
   "id": "dc921b6f",
   "metadata": {},
   "outputs": [],
   "source": [
    "p = re.compile(r\"^010\\D?\\d{4}\\D\\d{4}$\")\n",
    "m = p.search(\"010-1234-1234\")"
   ]
  },
  {
   "cell_type": "code",
   "execution_count": 92,
   "id": "f5ecbc5c",
   "metadata": {},
   "outputs": [
    {
     "name": "stdout",
     "output_type": "stream",
     "text": [
      "m.group():  010-1234-1234 m.start():  0 m.end():  13 m.span():  (0, 13)\n"
     ]
    }
   ],
   "source": [
    "print(\"m.group(): \", m.group(), \"m.start(): \", m.start(), \"m.end(): \", m.end(), \"m.span(): \", m.span())"
   ]
  },
  {
   "cell_type": "code",
   "execution_count": null,
   "id": "ed5987b9",
   "metadata": {},
   "outputs": [],
   "source": []
  }
 ],
 "metadata": {
  "kernelspec": {
   "display_name": "basic",
   "language": "python",
   "name": "python3"
  },
  "language_info": {
   "codemirror_mode": {
    "name": "ipython",
    "version": 3
   },
   "file_extension": ".py",
   "mimetype": "text/x-python",
   "name": "python",
   "nbconvert_exporter": "python",
   "pygments_lexer": "ipython3",
   "version": "3.12.10"
  }
 },
 "nbformat": 4,
 "nbformat_minor": 5
}
