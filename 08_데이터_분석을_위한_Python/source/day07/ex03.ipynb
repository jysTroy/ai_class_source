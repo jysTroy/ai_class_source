{
 "cells": [
  {
   "cell_type": "markdown",
   "id": "1c601a35",
   "metadata": {},
   "source": [
    "# 이터레이터\n",
    "## 이터레이터란?\n",
    "1) 반복자 패턴 구현 예\n",
    "2) 내부에서는 현재 요소의 위치가 있고, next()함수를 통해서 호출하면 \n",
    "\t다음 커서로 이동하고 요소를 반환\n",
    "3) 반복을 완료하면 더이상 반복 불가, StopIteration 예외 발생\n",
    "4) 리스트, 튜플, 문자열 등 반복 가능한 요소에 iter(..)로 감싸서 호출, \n",
    "\t이터레이터 객체\n",
    "5) 전체 목록을 반복하는 경우 for문을 사용하면 된다.\n",
    "\t\t\t\n",
    "## 이터레이터 만들기\n",
    "- 클래스에 `__iter__`, `__next__`를 정의하고 구현한다.\n",
    "- 커서가 존재, `__next__` 호출 될 때는 커서를 이동\n",
    "- `next()`"
   ]
  },
  {
   "cell_type": "code",
   "execution_count": 1,
   "id": "69f856ca",
   "metadata": {},
   "outputs": [
    {
     "data": {
      "text/plain": [
       "list"
      ]
     },
     "execution_count": 1,
     "metadata": {},
     "output_type": "execute_result"
    }
   ],
   "source": [
    "fruits = ['Apple', 'Orange', 'Melon', 'Banana', 'Mango']\n",
    "type(fruits)"
   ]
  },
  {
   "cell_type": "code",
   "execution_count": 2,
   "id": "3b9d830f",
   "metadata": {},
   "outputs": [
    {
     "data": {
      "text/plain": [
       "list_iterator"
      ]
     },
     "execution_count": 2,
     "metadata": {},
     "output_type": "execute_result"
    }
   ],
   "source": [
    "itr = iter(fruits)\n",
    "type(itr)"
   ]
  },
  {
   "cell_type": "code",
   "execution_count": 3,
   "id": "66ec6ce7",
   "metadata": {},
   "outputs": [
    {
     "data": {
      "text/plain": [
       "'Apple'"
      ]
     },
     "execution_count": 3,
     "metadata": {},
     "output_type": "execute_result"
    }
   ],
   "source": [
    "next(itr)"
   ]
  },
  {
   "cell_type": "code",
   "execution_count": 4,
   "id": "f26a927c",
   "metadata": {},
   "outputs": [
    {
     "name": "stdout",
     "output_type": "stream",
     "text": [
      "Apple\n",
      "Orange\n",
      "Melon\n",
      "Banana\n",
      "Mango\n"
     ]
    }
   ],
   "source": [
    "itr = iter(fruits)\n",
    "while True:\n",
    "    try:\n",
    "        print(next(itr))\n",
    "    except StopIteration:\n",
    "        break"
   ]
  },
  {
   "cell_type": "code",
   "execution_count": 5,
   "id": "0a062c02",
   "metadata": {},
   "outputs": [
    {
     "name": "stdout",
     "output_type": "stream",
     "text": [
      "Apple\n",
      "Orange\n",
      "Melon\n",
      "Banana\n",
      "Mango\n"
     ]
    }
   ],
   "source": [
    "itr = iter(fruits)\n",
    "for item in itr:\n",
    "    print(item)\n",
    "\n",
    "for item in itr:\n",
    "    print(item)"
   ]
  },
  {
   "cell_type": "code",
   "execution_count": 6,
   "id": "4f7cbc8c",
   "metadata": {},
   "outputs": [],
   "source": [
    "class MyIterator:\n",
    "    def __init__(self, items):\n",
    "        self.position = 0\n",
    "        self.items = items\n",
    "\n",
    "    def __iter__(self):\n",
    "        return self\n",
    "    \n",
    "    def __next__(self):\n",
    "        print(\"next() 호출\")\n",
    "        if  self.postion >= len(self.items): # 다 읽어온 경우라면 StopIteration 예외 발생\n",
    "            raise StopIteration\n",
    "\n",
    "        item = self.items[self.postion] # 현재 위치의 요소를 추출\n",
    "\n",
    "        self.postion += 1 # 다음 커서 위치로 이동\n",
    "\n",
    "        return item"
   ]
  },
  {
   "cell_type": "code",
   "execution_count": 7,
   "id": "f483af5e",
   "metadata": {},
   "outputs": [],
   "source": [
    "iter = MyIterator(fruits)"
   ]
  },
  {
   "cell_type": "code",
   "execution_count": 8,
   "id": "f95ad802",
   "metadata": {},
   "outputs": [
    {
     "ename": "StopIteration",
     "evalue": "",
     "output_type": "error",
     "traceback": [
      "\u001b[31m---------------------------------------------------------------------------\u001b[39m",
      "\u001b[31mStopIteration\u001b[39m                             Traceback (most recent call last)",
      "\u001b[36mCell\u001b[39m\u001b[36m \u001b[39m\u001b[32mIn[8]\u001b[39m\u001b[32m, line 1\u001b[39m\n\u001b[32m----> \u001b[39m\u001b[32m1\u001b[39m \u001b[38;5;28;43mnext\u001b[39;49m\u001b[43m(\u001b[49m\u001b[43mitr\u001b[49m\u001b[43m)\u001b[49m\n",
      "\u001b[31mStopIteration\u001b[39m: "
     ]
    }
   ],
   "source": [
    "next(itr)"
   ]
  },
  {
   "cell_type": "code",
   "execution_count": null,
   "id": "4684f5f2",
   "metadata": {},
   "outputs": [],
   "source": [
    "itr = MyIterator(fruits)"
   ]
  },
  {
   "cell_type": "markdown",
   "id": "52ec4cd2",
   "metadata": {},
   "source": [
    "## 제너레이터\n",
    "- 제너레이터란?\n",
    "    - 이터레이터로 만들어주는 함수\n",
    "    - 실행 및 반환값 지연, return 대신 yield 사용(여러개 사용 가능)\n",
    "\n",
    "- 제너레이터 표현식\n",
    "    - 튜플에다가 리스트 컴프리헨션과 비슷하게 구성하면, 제너레이터 객체"
   ]
  },
  {
   "cell_type": "code",
   "execution_count": null,
   "id": "f89603d4",
   "metadata": {},
   "outputs": [],
   "source": [
    "def mygen():\n",
    "    yield 'A'\n",
    "    yield 'B'\n",
    "    yield 'C'"
   ]
  },
  {
   "cell_type": "code",
   "execution_count": null,
   "id": "f3c58121",
   "metadata": {},
   "outputs": [
    {
     "data": {
      "text/plain": [
       "generator"
      ]
     },
     "execution_count": 98,
     "metadata": {},
     "output_type": "execute_result"
    }
   ],
   "source": [
    "gen = mygen()\n",
    "type(gen)"
   ]
  },
  {
   "cell_type": "code",
   "execution_count": 9,
   "id": "0a0838e8",
   "metadata": {},
   "outputs": [
    {
     "ename": "NameError",
     "evalue": "name 'gen' is not defined",
     "output_type": "error",
     "traceback": [
      "\u001b[31m---------------------------------------------------------------------------\u001b[39m",
      "\u001b[31mNameError\u001b[39m                                 Traceback (most recent call last)",
      "\u001b[36mCell\u001b[39m\u001b[36m \u001b[39m\u001b[32mIn[9]\u001b[39m\u001b[32m, line 1\u001b[39m\n\u001b[32m----> \u001b[39m\u001b[32m1\u001b[39m \u001b[38;5;28mnext\u001b[39m(\u001b[43mgen\u001b[49m)\n",
      "\u001b[31mNameError\u001b[39m: name 'gen' is not defined"
     ]
    }
   ],
   "source": [
    "next(gen)"
   ]
  },
  {
   "cell_type": "code",
   "execution_count": null,
   "id": "adb36562",
   "metadata": {},
   "outputs": [],
   "source": [
    "gen = (i * i for i in range(10000))"
   ]
  },
  {
   "cell_type": "code",
   "execution_count": 13,
   "id": "656974df",
   "metadata": {},
   "outputs": [
    {
     "data": {
      "text/plain": [
       "generator"
      ]
     },
     "execution_count": 13,
     "metadata": {},
     "output_type": "execute_result"
    }
   ],
   "source": [
    "type(gen)"
   ]
  },
  {
   "cell_type": "code",
   "execution_count": null,
   "id": "4f60ccb6",
   "metadata": {},
   "outputs": [],
   "source": [
    "next(gen)"
   ]
  },
  {
   "cell_type": "markdown",
   "id": "400923e8",
   "metadata": {},
   "source": [
    "## 타입 어노테이션\n",
    "- 강제 사항은 아니고, 타입 힌트만 제공\n",
    "- 강제하면서 체크 mypy라는 의존성을 설치하고 mypy 모듈을 통해서 파이썬 코드 실행\n",
    "- int, float, list, tuple, set, dict, str, 직접 정의한 클래스 등등"
   ]
  },
  {
   "cell_type": "code",
   "execution_count": 25,
   "id": "4e3067e3",
   "metadata": {},
   "outputs": [],
   "source": [
    "def add(num1: int, num2: int) -> int:\n",
    "    return num1 + num2"
   ]
  },
  {
   "cell_type": "code",
   "execution_count": 28,
   "id": "3ddfab2b",
   "metadata": {},
   "outputs": [
    {
     "data": {
      "text/plain": [
       "20.122999999999998"
      ]
     },
     "execution_count": 28,
     "metadata": {},
     "output_type": "execute_result"
    }
   ],
   "source": [
    "add(10, 10.123)"
   ]
  },
  {
   "cell_type": "code",
   "execution_count": null,
   "id": "4f5047b9",
   "metadata": {},
   "outputs": [],
   "source": []
  }
 ],
 "metadata": {
  "kernelspec": {
   "display_name": "basic",
   "language": "python",
   "name": "python3"
  },
  "language_info": {
   "codemirror_mode": {
    "name": "ipython",
    "version": 3
   },
   "file_extension": ".py",
   "mimetype": "text/x-python",
   "name": "python",
   "nbconvert_exporter": "python",
   "pygments_lexer": "ipython3",
   "version": "3.12.10"
  }
 },
 "nbformat": 4,
 "nbformat_minor": 5
}
