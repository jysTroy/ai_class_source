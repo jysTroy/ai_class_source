{
 "cells": [
  {
   "cell_type": "markdown",
   "id": "059e718c",
   "metadata": {},
   "source": [
    "## 클래스\n",
    "\n",
    "```python\n",
    "class ...\n",
    "    def __call__(self, 매개변수 ...):\n",
    "        ...\n",
    "```\n",
    "\n",
    "- 객체 참조 변수를 함수처럼 호출하면 `__call__` 함수가 호출"
   ]
  },
  {
   "cell_type": "code",
   "execution_count": 7,
   "id": "b0e33838",
   "metadata": {},
   "outputs": [],
   "source": [
    "class Accumulator:\n",
    "    def __init__(self):\n",
    "        self.num = 0\n",
    "    \n",
    "    def __call__(self, num):\n",
    "        self.num += num\n",
    "\n",
    "        return self.num"
   ]
  },
  {
   "cell_type": "code",
   "execution_count": 8,
   "id": "02fd1a59",
   "metadata": {},
   "outputs": [],
   "source": [
    "acc = Accumulator()"
   ]
  },
  {
   "cell_type": "code",
   "execution_count": 9,
   "id": "d0ca9a2e",
   "metadata": {},
   "outputs": [
    {
     "data": {
      "text/plain": [
       "10"
      ]
     },
     "execution_count": 9,
     "metadata": {},
     "output_type": "execute_result"
    }
   ],
   "source": [
    "acc(10)"
   ]
  },
  {
   "cell_type": "code",
   "execution_count": 10,
   "id": "907a4864",
   "metadata": {},
   "outputs": [
    {
     "data": {
      "text/plain": [
       "110"
      ]
     },
     "execution_count": 10,
     "metadata": {},
     "output_type": "execute_result"
    }
   ],
   "source": [
    "acc(100)"
   ]
  }
 ],
 "metadata": {
  "kernelspec": {
   "display_name": "basic",
   "language": "python",
   "name": "python3"
  },
  "language_info": {
   "codemirror_mode": {
    "name": "ipython",
    "version": 3
   },
   "file_extension": ".py",
   "mimetype": "text/x-python",
   "name": "python",
   "nbconvert_exporter": "python",
   "pygments_lexer": "ipython3",
   "version": "3.12.10"
  }
 },
 "nbformat": 4,
 "nbformat_minor": 5
}
