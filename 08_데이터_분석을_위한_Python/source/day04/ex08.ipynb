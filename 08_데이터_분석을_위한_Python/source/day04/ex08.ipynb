{
 "cells": [
  {
   "cell_type": "markdown",
   "id": "6eff119a",
   "metadata": {},
   "source": [
    "## 다른 디렉토리에 있는 모듈을 불러오는 방법\n",
    "- sys.path에 불러올 모듈 경로 추가\n",
    "- set PYTHONPATH=모듈경로/ 윈도우즈 기준\n",
    "- export PYTHONPATH=모듈경로 / 리눅스, 맥 기준"
   ]
  },
  {
   "cell_type": "code",
   "execution_count": 3,
   "id": "b6fc3520",
   "metadata": {},
   "outputs": [],
   "source": [
    "# import sys\n",
    "# sys.path.append(\"C:/my_module\")"
   ]
  },
  {
   "cell_type": "code",
   "execution_count": 5,
   "id": "5fe18ec3",
   "metadata": {},
   "outputs": [
    {
     "ename": "ModuleNotFoundError",
     "evalue": "No module named 'mod1'",
     "output_type": "error",
     "traceback": [
      "\u001b[31m---------------------------------------------------------------------------\u001b[39m",
      "\u001b[31mModuleNotFoundError\u001b[39m                       Traceback (most recent call last)",
      "\u001b[36mCell\u001b[39m\u001b[36m \u001b[39m\u001b[32mIn[5]\u001b[39m\u001b[32m, line 1\u001b[39m\n\u001b[32m----> \u001b[39m\u001b[32m1\u001b[39m \u001b[38;5;28;01mimport\u001b[39;00m\u001b[38;5;250m \u001b[39m\u001b[34;01mmod1\u001b[39;00m\n",
      "\u001b[31mModuleNotFoundError\u001b[39m: No module named 'mod1'"
     ]
    }
   ],
   "source": [
    "import mod1"
   ]
  },
  {
   "cell_type": "code",
   "execution_count": 6,
   "id": "5218f355",
   "metadata": {},
   "outputs": [
    {
     "ename": "NameError",
     "evalue": "name 'mod1' is not defined",
     "output_type": "error",
     "traceback": [
      "\u001b[31m---------------------------------------------------------------------------\u001b[39m",
      "\u001b[31mNameError\u001b[39m                                 Traceback (most recent call last)",
      "\u001b[36mCell\u001b[39m\u001b[36m \u001b[39m\u001b[32mIn[6]\u001b[39m\u001b[32m, line 1\u001b[39m\n\u001b[32m----> \u001b[39m\u001b[32m1\u001b[39m \u001b[43mmod1\u001b[49m.add(\u001b[32m10\u001b[39m, \u001b[32m20\u001b[39m)\n",
      "\u001b[31mNameError\u001b[39m: name 'mod1' is not defined"
     ]
    }
   ],
   "source": [
    "mod1.add(10, 20)"
   ]
  },
  {
   "cell_type": "code",
   "execution_count": null,
   "id": "536517ed",
   "metadata": {},
   "outputs": [],
   "source": []
  }
 ],
 "metadata": {
  "kernelspec": {
   "display_name": "basic",
   "language": "python",
   "name": "python3"
  },
  "language_info": {
   "codemirror_mode": {
    "name": "ipython",
    "version": 3
   },
   "file_extension": ".py",
   "mimetype": "text/x-python",
   "name": "python",
   "nbconvert_exporter": "python",
   "pygments_lexer": "ipython3",
   "version": "3.12.10"
  }
 },
 "nbformat": 4,
 "nbformat_minor": 5
}
