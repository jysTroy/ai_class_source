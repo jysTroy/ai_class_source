{
 "cells": [
  {
   "cell_type": "markdown",
   "id": "74fe4196",
   "metadata": {},
   "source": [
    "## 클래스 내에 변수를 정의하면?\n",
    "- 정적 변수\n",
    "- 객체를 생성하지 않아도 클래스명으로 직접 접근 가능\n",
    "- 클래스에 정의하지 않고 클래스명에 직접 대입해도 정적 변수"
   ]
  },
  {
   "cell_type": "code",
   "execution_count": 1,
   "id": "1119ad26",
   "metadata": {},
   "outputs": [],
   "source": [
    "class Person:\n",
    "    first_name = '이름'\n",
    "    last_name = '김'"
   ]
  },
  {
   "cell_type": "code",
   "execution_count": 11,
   "id": "458f0904",
   "metadata": {},
   "outputs": [],
   "source": [
    "p1 = Person()\n",
    "p2 = Person()"
   ]
  },
  {
   "cell_type": "code",
   "execution_count": 14,
   "id": "e52ce44b",
   "metadata": {},
   "outputs": [],
   "source": [
    "p1.last_name = \"최\" # 인스턴스 변수 last_name에 할당"
   ]
  },
  {
   "cell_type": "code",
   "execution_count": 15,
   "id": "4338703f",
   "metadata": {},
   "outputs": [
    {
     "name": "stdout",
     "output_type": "stream",
     "text": [
      "p1 이름 최 김\n",
      "p2 이름 김 김\n"
     ]
    }
   ],
   "source": [
    "print(\"p1\", p1.first_name, p1.last_name, Person.last_name)\n",
    "print(\"p2\", p2.first_name, p2.last_name, Person.last_name)"
   ]
  },
  {
   "cell_type": "code",
   "execution_count": 5,
   "id": "67e09268",
   "metadata": {},
   "outputs": [
    {
     "name": "stdout",
     "output_type": "stream",
     "text": [
      "이름 김\n"
     ]
    }
   ],
   "source": [
    "print(Person.first_name, Person.last_name)"
   ]
  },
  {
   "cell_type": "code",
   "execution_count": 7,
   "id": "20d7513e",
   "metadata": {},
   "outputs": [],
   "source": [
    "Person.address = '주소' # 정적 변수"
   ]
  },
  {
   "cell_type": "code",
   "execution_count": 8,
   "id": "a8a7079d",
   "metadata": {},
   "outputs": [
    {
     "data": {
      "text/plain": [
       "'주소'"
      ]
     },
     "execution_count": 8,
     "metadata": {},
     "output_type": "execute_result"
    }
   ],
   "source": [
    "p1.address"
   ]
  }
 ],
 "metadata": {
  "kernelspec": {
   "display_name": "basic",
   "language": "python",
   "name": "python3"
  },
  "language_info": {
   "codemirror_mode": {
    "name": "ipython",
    "version": 3
   },
   "file_extension": ".py",
   "mimetype": "text/x-python",
   "name": "python",
   "nbconvert_exporter": "python",
   "pygments_lexer": "ipython3",
   "version": "3.12.10"
  }
 },
 "nbformat": 4,
 "nbformat_minor": 5
}
