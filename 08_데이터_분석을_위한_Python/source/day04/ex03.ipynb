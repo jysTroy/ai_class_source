{
 "cells": [
  {
   "cell_type": "markdown",
   "id": "f941bd4d",
   "metadata": {},
   "source": [
    "## 클래스\n",
    "- 객체 생성시 new 연산자는 사용 x\n",
    "- 클래스명\\(\\) 호출하면 객체가 생성\n",
    "- 메서드의 첫 번째 매개변수 : 생성된 객체의 주소값을 가지는 지역변수\n",
    "    - 자바의 this와 동일한 역할\n",
    "\n",
    "### 생성자 메서드\n",
    "\n",
    "```python\n",
    "class ...\n",
    "    def __init__(self, 매개변수 정의...):\n",
    "        ...\n",
    "```\n",
    "- 인스턴스 변수의 초기화\n",
    "- 객체 생성시 초기화할 값을 직접 대입"
   ]
  },
  {
   "cell_type": "code",
   "execution_count": 18,
   "id": "870c67fd",
   "metadata": {},
   "outputs": [],
   "source": [
    "class Calculator:\n",
    "    def __init__(self, a, b):\n",
    "        self.a = a\n",
    "        self.b = b\n",
    "\n",
    "    def add(self):\n",
    "        return self.a + self.b"
   ]
  },
  {
   "cell_type": "code",
   "execution_count": 20,
   "id": "9d9d25d2",
   "metadata": {},
   "outputs": [],
   "source": [
    "cal1 = Calculator(100, 200)"
   ]
  },
  {
   "cell_type": "code",
   "execution_count": 21,
   "id": "0a826e19",
   "metadata": {},
   "outputs": [
    {
     "data": {
      "text/plain": [
       "300"
      ]
     },
     "execution_count": 21,
     "metadata": {},
     "output_type": "execute_result"
    }
   ],
   "source": [
    "# cal1.a = 100\n",
    "# cal1.b = 200\n",
    "# cal1.setData(100, 200)\n",
    "cal1.add()"
   ]
  },
  {
   "cell_type": "code",
   "execution_count": 22,
   "id": "52de904e",
   "metadata": {},
   "outputs": [
    {
     "data": {
      "text/plain": [
       "300"
      ]
     },
     "execution_count": 22,
     "metadata": {},
     "output_type": "execute_result"
    }
   ],
   "source": [
    "Calculator.add(cal1)"
   ]
  },
  {
   "cell_type": "code",
   "execution_count": 12,
   "id": "e97e3f46",
   "metadata": {},
   "outputs": [
    {
     "name": "stdout",
     "output_type": "stream",
     "text": [
      "100\n"
     ]
    }
   ],
   "source": [
    "Calculator.count = 100\n",
    "print(Calculator.count)"
   ]
  },
  {
   "cell_type": "code",
   "execution_count": 2,
   "id": "0c529d43",
   "metadata": {},
   "outputs": [],
   "source": [
    "cal1 = Calculator() # 객체 생성"
   ]
  },
  {
   "cell_type": "code",
   "execution_count": 3,
   "id": "7041e6fd",
   "metadata": {},
   "outputs": [],
   "source": [
    "cal2 = Calculator()"
   ]
  },
  {
   "cell_type": "code",
   "execution_count": 4,
   "id": "832885e1",
   "metadata": {},
   "outputs": [
    {
     "name": "stdout",
     "output_type": "stream",
     "text": [
      "cal1: 2374342911632 cal2: 2374314311024\n"
     ]
    }
   ],
   "source": [
    "cal1 is cal2\n",
    "print(\"cal1:\", id(cal1), \"cal2:\", id(cal2))"
   ]
  }
 ],
 "metadata": {
  "kernelspec": {
   "display_name": "basic",
   "language": "python",
   "name": "python3"
  },
  "language_info": {
   "codemirror_mode": {
    "name": "ipython",
    "version": 3
   },
   "file_extension": ".py",
   "mimetype": "text/x-python",
   "name": "python",
   "nbconvert_exporter": "python",
   "pygments_lexer": "ipython3",
   "version": "3.12.10"
  }
 },
 "nbformat": 4,
 "nbformat_minor": 5
}
