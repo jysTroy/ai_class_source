{
 "cells": [
  {
   "cell_type": "markdown",
   "id": "5a955258",
   "metadata": {},
   "source": [
    "## time 모듈"
   ]
  },
  {
   "cell_type": "code",
   "execution_count": 1,
   "id": "1c074788",
   "metadata": {},
   "outputs": [],
   "source": [
    "import time"
   ]
  },
  {
   "cell_type": "code",
   "execution_count": 2,
   "id": "b673b88e",
   "metadata": {},
   "outputs": [
    {
     "data": {
      "text/plain": [
       "1748567713.7519658"
      ]
     },
     "execution_count": 2,
     "metadata": {},
     "output_type": "execute_result"
    }
   ],
   "source": [
    "time.time()"
   ]
  },
  {
   "cell_type": "code",
   "execution_count": 3,
   "id": "8b716a9d",
   "metadata": {},
   "outputs": [
    {
     "data": {
      "text/plain": [
       "time.struct_time(tm_year=2025, tm_mon=5, tm_mday=30, tm_hour=10, tm_min=17, tm_sec=37, tm_wday=4, tm_yday=150, tm_isdst=0)"
      ]
     },
     "execution_count": 3,
     "metadata": {},
     "output_type": "execute_result"
    }
   ],
   "source": [
    "lt = time.localtime(time.time())\n",
    "lt"
   ]
  },
  {
   "cell_type": "code",
   "execution_count": 4,
   "id": "43140900",
   "metadata": {},
   "outputs": [
    {
     "name": "stdout",
     "output_type": "stream",
     "text": [
      "2025 5 30\n"
     ]
    }
   ],
   "source": [
    "print(lt.tm_year, lt.tm_mon, lt.tm_mday)"
   ]
  },
  {
   "cell_type": "code",
   "execution_count": 5,
   "id": "5784c48a",
   "metadata": {},
   "outputs": [
    {
     "data": {
      "text/plain": [
       "'Fri May 30 10:17:37 2025'"
      ]
     },
     "execution_count": 5,
     "metadata": {},
     "output_type": "execute_result"
    }
   ],
   "source": [
    "time.asctime(lt)"
   ]
  },
  {
   "cell_type": "code",
   "execution_count": 6,
   "id": "33c652d2",
   "metadata": {},
   "outputs": [
    {
     "data": {
      "text/plain": [
       "'Fri May 30 10:21:14 2025'"
      ]
     },
     "execution_count": 6,
     "metadata": {},
     "output_type": "execute_result"
    }
   ],
   "source": [
    "time.ctime()"
   ]
  },
  {
   "cell_type": "code",
   "execution_count": 7,
   "id": "82c50237",
   "metadata": {},
   "outputs": [
    {
     "data": {
      "text/plain": [
       "'2025.05.30 10:17'"
      ]
     },
     "execution_count": 7,
     "metadata": {},
     "output_type": "execute_result"
    }
   ],
   "source": [
    "strdate = time.strftime('%Y.%m.%d %H:%M', lt)\n",
    "strdate"
   ]
  },
  {
   "cell_type": "code",
   "execution_count": 8,
   "id": "be855962",
   "metadata": {},
   "outputs": [
    {
     "data": {
      "text/plain": [
       "'2025.05.30 10:42'"
      ]
     },
     "execution_count": 8,
     "metadata": {},
     "output_type": "execute_result"
    }
   ],
   "source": [
    "time.strftime('%Y.%m.%d %H:%M') # 현재 날짜 시간 기준"
   ]
  },
  {
   "cell_type": "code",
   "execution_count": 10,
   "id": "4108fbbc",
   "metadata": {},
   "outputs": [
    {
     "name": "stdout",
     "output_type": "stream",
     "text": [
      "1\n",
      "2\n",
      "3\n",
      "4\n",
      "5\n",
      "6\n",
      "7\n",
      "8\n",
      "9\n",
      "10\n"
     ]
    }
   ],
   "source": [
    "for i in range(1, 11):\n",
    "    print(i)\n",
    "    time.sleep(1) # 1초 지연"
   ]
  },
  {
   "cell_type": "code",
   "execution_count": 11,
   "id": "ebb95cb3",
   "metadata": {},
   "outputs": [],
   "source": [
    "# 사탕 60, 초콜릿 100, 젤리 80개 있는데 똑같은 묶음으로 최대 몇 묶음 나눌 수 있는지 구하시오\n",
    "import math"
   ]
  },
  {
   "cell_type": "code",
   "execution_count": 12,
   "id": "30239068",
   "metadata": {},
   "outputs": [
    {
     "data": {
      "text/plain": [
       "20"
      ]
     },
     "execution_count": 12,
     "metadata": {},
     "output_type": "execute_result"
    }
   ],
   "source": [
    "math.gcd(60, 100, 80)"
   ]
  },
  {
   "cell_type": "code",
   "execution_count": 13,
   "id": "83b771e1",
   "metadata": {},
   "outputs": [
    {
     "data": {
      "text/plain": [
       "75"
      ]
     },
     "execution_count": 13,
     "metadata": {},
     "output_type": "execute_result"
    }
   ],
   "source": [
    "# 시내버스가 15분마다 도착, 마을 버스는 25분 마다 도착, 서로 만나는 시간?\n",
    "math.lcm(15, 25)"
   ]
  },
  {
   "cell_type": "code",
   "execution_count": 14,
   "id": "da08bc75",
   "metadata": {},
   "outputs": [],
   "source": [
    "import random"
   ]
  },
  {
   "cell_type": "code",
   "execution_count": null,
   "id": "05b35295",
   "metadata": {},
   "outputs": [
    {
     "data": {
      "text/plain": [
       "1.5591701599402163"
      ]
     },
     "execution_count": 27,
     "metadata": {},
     "output_type": "execute_result"
    }
   ],
   "source": [
    "random.random() * 3 # 규칙 곱하는 수보다 작은 수가 정수부에서 반복 0 ~ 2"
   ]
  },
  {
   "cell_type": "code",
   "execution_count": 38,
   "id": "d3ef2d98",
   "metadata": {},
   "outputs": [
    {
     "data": {
      "text/plain": [
       "1"
      ]
     },
     "execution_count": 38,
     "metadata": {},
     "output_type": "execute_result"
    }
   ],
   "source": [
    "int(random.random() * 3)"
   ]
  },
  {
   "cell_type": "code",
   "execution_count": 39,
   "id": "29653289",
   "metadata": {},
   "outputs": [
    {
     "data": {
      "text/plain": [
       "7"
      ]
     },
     "execution_count": 39,
     "metadata": {},
     "output_type": "execute_result"
    }
   ],
   "source": [
    "random.randint(1, 10)"
   ]
  },
  {
   "cell_type": "code",
   "execution_count": 40,
   "id": "032c90e5",
   "metadata": {},
   "outputs": [],
   "source": [
    "fruits = ['Apple', 'Melon', 'Pear', 'Banana', 'Mango']"
   ]
  },
  {
   "cell_type": "code",
   "execution_count": 45,
   "id": "cc41ad17",
   "metadata": {},
   "outputs": [
    {
     "data": {
      "text/plain": [
       "'Pear'"
      ]
     },
     "execution_count": 45,
     "metadata": {},
     "output_type": "execute_result"
    }
   ],
   "source": [
    "random.choice(fruits)"
   ]
  },
  {
   "cell_type": "code",
   "execution_count": 46,
   "id": "5c14c974",
   "metadata": {},
   "outputs": [
    {
     "data": {
      "text/plain": [
       "['Banana', 'Mango', 'Pear']"
      ]
     },
     "execution_count": 46,
     "metadata": {},
     "output_type": "execute_result"
    }
   ],
   "source": [
    "random.sample(fruits, 3)"
   ]
  },
  {
   "cell_type": "code",
   "execution_count": 70,
   "id": "7a826647",
   "metadata": {},
   "outputs": [],
   "source": [
    "students = ['주용현', '안슬기', '김용준', '오다은', '최상준', '오경석']"
   ]
  },
  {
   "cell_type": "code",
   "execution_count": 81,
   "id": "4d7b886e",
   "metadata": {},
   "outputs": [
    {
     "data": {
      "text/plain": [
       "[('최상준', '123'),\n",
       " ('주용현', '456'),\n",
       " ('안슬기', '789'),\n",
       " ('김용준', '사탕'),\n",
       " ('오다은', '사탕'),\n",
       " ('오경석', '사탕')]"
      ]
     },
     "execution_count": 81,
     "metadata": {},
     "output_type": "execute_result"
    }
   ],
   "source": [
    "import itertools\n",
    "students2 = random.sample(students, len(students))\n",
    "# random.suffle(students) # 원본데이터가 변경\n",
    "gifts = ['123', '456', '789']\n",
    "# data = list(zip(students, gifts))\n",
    "# data\n",
    "data = list(itertools.zip_longest(students2, gifts, fillvalue='사탕'))\n",
    "data"
   ]
  },
  {
   "cell_type": "code",
   "execution_count": 82,
   "id": "695d2c4e",
   "metadata": {},
   "outputs": [],
   "source": [
    "nums = [1, 2, 3, 4]"
   ]
  },
  {
   "cell_type": "code",
   "execution_count": 83,
   "id": "a4daca7f",
   "metadata": {},
   "outputs": [],
   "source": [
    "import itertools"
   ]
  },
  {
   "cell_type": "code",
   "execution_count": 84,
   "id": "e8146f1f",
   "metadata": {},
   "outputs": [
    {
     "data": {
      "text/plain": [
       "[(1, 2),\n",
       " (1, 3),\n",
       " (1, 4),\n",
       " (2, 1),\n",
       " (2, 3),\n",
       " (2, 4),\n",
       " (3, 1),\n",
       " (3, 2),\n",
       " (3, 4),\n",
       " (4, 1),\n",
       " (4, 2),\n",
       " (4, 3)]"
      ]
     },
     "execution_count": 84,
     "metadata": {},
     "output_type": "execute_result"
    }
   ],
   "source": [
    "a = list(itertools.permutations(nums, 2))\n",
    "a"
   ]
  },
  {
   "cell_type": "code",
   "execution_count": 85,
   "id": "72887706",
   "metadata": {},
   "outputs": [
    {
     "data": {
      "text/plain": [
       "[(1, 2), (1, 3), (1, 4), (2, 3), (2, 4), (3, 4)]"
      ]
     },
     "execution_count": 85,
     "metadata": {},
     "output_type": "execute_result"
    }
   ],
   "source": [
    "b = list(itertools.combinations(nums, 2))\n",
    "b"
   ]
  },
  {
   "cell_type": "code",
   "execution_count": 86,
   "id": "214361cb",
   "metadata": {},
   "outputs": [
    {
     "data": {
      "text/plain": [
       "[(1, 1, 1),\n",
       " (1, 1, 2),\n",
       " (1, 1, 3),\n",
       " (1, 1, 4),\n",
       " (1, 2, 2),\n",
       " (1, 2, 3),\n",
       " (1, 2, 4),\n",
       " (1, 3, 3),\n",
       " (1, 3, 4),\n",
       " (1, 4, 4),\n",
       " (2, 2, 2),\n",
       " (2, 2, 3),\n",
       " (2, 2, 4),\n",
       " (2, 3, 3),\n",
       " (2, 3, 4),\n",
       " (2, 4, 4),\n",
       " (3, 3, 3),\n",
       " (3, 3, 4),\n",
       " (3, 4, 4),\n",
       " (4, 4, 4)]"
      ]
     },
     "execution_count": 86,
     "metadata": {},
     "output_type": "execute_result"
    }
   ],
   "source": [
    "c = list(itertools.combinations_with_replacement(nums, 3))\n",
    "c"
   ]
  },
  {
   "cell_type": "code",
   "execution_count": 87,
   "id": "c6657bfd",
   "metadata": {},
   "outputs": [],
   "source": [
    "import functools"
   ]
  },
  {
   "cell_type": "code",
   "execution_count": 88,
   "id": "a062b892",
   "metadata": {},
   "outputs": [
    {
     "data": {
      "text/plain": [
       "[1, 2, 3, 4, 5, 6, 7, 8, 9, 10]"
      ]
     },
     "execution_count": 88,
     "metadata": {},
     "output_type": "execute_result"
    }
   ],
   "source": [
    "nums = list(range(1, 101))\n",
    "nums[:10]"
   ]
  },
  {
   "cell_type": "code",
   "execution_count": 89,
   "id": "b68386f9",
   "metadata": {},
   "outputs": [],
   "source": [
    "def acc_sum(acc, num):\n",
    "    print(f\"acc:{acc}, num:{num}\")\n",
    "    acc += num\n",
    "    return acc"
   ]
  },
  {
   "cell_type": "code",
   "execution_count": 93,
   "id": "bfadcdcf",
   "metadata": {},
   "outputs": [
    {
     "name": "stdout",
     "output_type": "stream",
     "text": [
      "acc:1, num:2\n",
      "acc:3, num:3\n",
      "acc:6, num:4\n",
      "acc:10, num:5\n",
      "acc:15, num:6\n",
      "acc:21, num:7\n",
      "acc:28, num:8\n",
      "acc:36, num:9\n",
      "acc:45, num:10\n",
      "acc:55, num:11\n",
      "acc:66, num:12\n",
      "acc:78, num:13\n",
      "acc:91, num:14\n",
      "acc:105, num:15\n",
      "acc:120, num:16\n",
      "acc:136, num:17\n",
      "acc:153, num:18\n",
      "acc:171, num:19\n",
      "acc:190, num:20\n",
      "acc:210, num:21\n",
      "acc:231, num:22\n",
      "acc:253, num:23\n",
      "acc:276, num:24\n",
      "acc:300, num:25\n",
      "acc:325, num:26\n",
      "acc:351, num:27\n",
      "acc:378, num:28\n",
      "acc:406, num:29\n",
      "acc:435, num:30\n",
      "acc:465, num:31\n",
      "acc:496, num:32\n",
      "acc:528, num:33\n",
      "acc:561, num:34\n",
      "acc:595, num:35\n",
      "acc:630, num:36\n",
      "acc:666, num:37\n",
      "acc:703, num:38\n",
      "acc:741, num:39\n",
      "acc:780, num:40\n",
      "acc:820, num:41\n",
      "acc:861, num:42\n",
      "acc:903, num:43\n",
      "acc:946, num:44\n",
      "acc:990, num:45\n",
      "acc:1035, num:46\n",
      "acc:1081, num:47\n",
      "acc:1128, num:48\n",
      "acc:1176, num:49\n",
      "acc:1225, num:50\n",
      "acc:1275, num:51\n",
      "acc:1326, num:52\n",
      "acc:1378, num:53\n",
      "acc:1431, num:54\n",
      "acc:1485, num:55\n",
      "acc:1540, num:56\n",
      "acc:1596, num:57\n",
      "acc:1653, num:58\n",
      "acc:1711, num:59\n",
      "acc:1770, num:60\n",
      "acc:1830, num:61\n",
      "acc:1891, num:62\n",
      "acc:1953, num:63\n",
      "acc:2016, num:64\n",
      "acc:2080, num:65\n",
      "acc:2145, num:66\n",
      "acc:2211, num:67\n",
      "acc:2278, num:68\n",
      "acc:2346, num:69\n",
      "acc:2415, num:70\n",
      "acc:2485, num:71\n",
      "acc:2556, num:72\n",
      "acc:2628, num:73\n",
      "acc:2701, num:74\n",
      "acc:2775, num:75\n",
      "acc:2850, num:76\n",
      "acc:2926, num:77\n",
      "acc:3003, num:78\n",
      "acc:3081, num:79\n",
      "acc:3160, num:80\n",
      "acc:3240, num:81\n",
      "acc:3321, num:82\n",
      "acc:3403, num:83\n",
      "acc:3486, num:84\n",
      "acc:3570, num:85\n",
      "acc:3655, num:86\n",
      "acc:3741, num:87\n",
      "acc:3828, num:88\n",
      "acc:3916, num:89\n",
      "acc:4005, num:90\n",
      "acc:4095, num:91\n",
      "acc:4186, num:92\n",
      "acc:4278, num:93\n",
      "acc:4371, num:94\n",
      "acc:4465, num:95\n",
      "acc:4560, num:96\n",
      "acc:4656, num:97\n",
      "acc:4753, num:98\n",
      "acc:4851, num:99\n",
      "acc:4950, num:100\n",
      "5050\n"
     ]
    }
   ],
   "source": [
    "result = functools.reduce(acc_sum, nums)\n",
    "print(result)"
   ]
  },
  {
   "cell_type": "code",
   "execution_count": 152,
   "id": "3f45bdd6",
   "metadata": {},
   "outputs": [
    {
     "data": {
      "text/plain": [
       "5050"
      ]
     },
     "execution_count": 152,
     "metadata": {},
     "output_type": "execute_result"
    }
   ],
   "source": [
    "result = functools.reduce(lambda a, b: a + b, nums)\n",
    "result"
   ]
  },
  {
   "cell_type": "code",
   "execution_count": 149,
   "id": "410391f9",
   "metadata": {},
   "outputs": [
    {
     "data": {
      "text/plain": [
       "[70, 99, 53, 62, 89, 71, 68, 55, 55, 59]"
      ]
     },
     "execution_count": 149,
     "metadata": {},
     "output_type": "execute_result"
    }
   ],
   "source": [
    "scores = [random.randint(50, 100) for _ in range(10)]\n",
    "scores"
   ]
  },
  {
   "cell_type": "code",
   "execution_count": 150,
   "id": "d3bd4533",
   "metadata": {},
   "outputs": [
    {
     "name": "stdout",
     "output_type": "stream",
     "text": [
      "a:70, b:99\n",
      "a:70, b:53\n",
      "a:53, b:62\n",
      "a:53, b:89\n",
      "a:53, b:71\n",
      "a:53, b:68\n",
      "a:53, b:55\n",
      "a:53, b:55\n",
      "a:53, b:59\n"
     ]
    },
    {
     "data": {
      "text/plain": [
       "53"
      ]
     },
     "execution_count": 150,
     "metadata": {},
     "output_type": "execute_result"
    }
   ],
   "source": [
    "def min_score(a, b):\n",
    "    print(f\"a:{a}, b:{b}\")\n",
    "    score = a if a < b else b\n",
    "\n",
    "    return score\n",
    "\n",
    "min = functools.reduce(min_score, scores)\n",
    "min"
   ]
  },
  {
   "cell_type": "code",
   "execution_count": 151,
   "id": "bb4c74c2",
   "metadata": {},
   "outputs": [
    {
     "data": {
      "text/plain": [
       "99"
      ]
     },
     "execution_count": 151,
     "metadata": {},
     "output_type": "execute_result"
    }
   ],
   "source": [
    "max = functools.reduce(lambda a, b: a if a >= b else b, scores)\n",
    "max"
   ]
  },
  {
   "cell_type": "code",
   "execution_count": 153,
   "id": "69b95ff6",
   "metadata": {},
   "outputs": [],
   "source": [
    "students = [\n",
    "    ('이이름', 40, '컴퓨터과학'),\n",
    "    ('김이름', 20, '영어영문학'),\n",
    "    ('박이름', 24, '독어독문학')\n",
    "]"
   ]
  },
  {
   "cell_type": "code",
   "execution_count": 154,
   "id": "bdcb63c3",
   "metadata": {},
   "outputs": [],
   "source": [
    "import operator"
   ]
  },
  {
   "cell_type": "code",
   "execution_count": 155,
   "id": "c944814e",
   "metadata": {},
   "outputs": [
    {
     "data": {
      "text/plain": [
       "[('김이름', 20, '영어영문학'), ('박이름', 24, '독어독문학'), ('이이름', 40, '컴퓨터과학')]"
      ]
     },
     "execution_count": 155,
     "metadata": {},
     "output_type": "execute_result"
    }
   ],
   "source": [
    "students2 = sorted(students, key=operator.itemgetter(1))\n",
    "students2"
   ]
  },
  {
   "cell_type": "code",
   "execution_count": 158,
   "id": "6525cb64",
   "metadata": {},
   "outputs": [],
   "source": [
    "students = [\n",
    "    {'name': '이이름', 'age': 40, 'mager': '컴퓨터과학'},\n",
    "    {'name': '김이름', 'age': 20, 'mager': '영어영문학'},\n",
    "    {'name': '박이름', 'age': 24, 'mager': '독어독문학'}\n",
    "]"
   ]
  },
  {
   "cell_type": "code",
   "execution_count": 159,
   "id": "06b8c21e",
   "metadata": {},
   "outputs": [
    {
     "data": {
      "text/plain": [
       "[{'name': '김이름', 'age': 20, 'mager': '영어영문학'},\n",
       " {'name': '박이름', 'age': 24, 'mager': '독어독문학'},\n",
       " {'name': '이이름', 'age': 40, 'mager': '컴퓨터과학'}]"
      ]
     },
     "execution_count": 159,
     "metadata": {},
     "output_type": "execute_result"
    }
   ],
   "source": [
    "students2 = sorted(students, key=operator.itemgetter('name'))\n",
    "students2"
   ]
  },
  {
   "cell_type": "code",
   "execution_count": 167,
   "id": "f11da373",
   "metadata": {},
   "outputs": [],
   "source": [
    "class Student:\n",
    "    def __init__(self, name, age, major):\n",
    "        self.name = name\n",
    "        self.age = age\n",
    "        self.major = major\n",
    "\n",
    "    def __str__(self):\n",
    "        return f\"name: {self.name}, age: {self.age}, major: {self.major}\""
   ]
  },
  {
   "cell_type": "code",
   "execution_count": 168,
   "id": "670109e2",
   "metadata": {},
   "outputs": [],
   "source": [
    "students = [\n",
    "    Student('이이름', 40, '컴퓨터과학'),\n",
    "    Student('김이름', 20, '영어영문학'),\n",
    "    Student('박이름', 24, '독어독문학')\n",
    "]"
   ]
  },
  {
   "cell_type": "code",
   "execution_count": 169,
   "id": "70bee357",
   "metadata": {},
   "outputs": [
    {
     "name": "stdout",
     "output_type": "stream",
     "text": [
      "name: 박이름, age: 24, major: 독어독문학\n",
      "name: 김이름, age: 20, major: 영어영문학\n",
      "name: 이이름, age: 40, major: 컴퓨터과학\n"
     ]
    }
   ],
   "source": [
    "students2 = sorted(students, key=operator.attrgetter('major'))\n",
    "for item in students2:\n",
    "    print(item)"
   ]
  },
  {
   "cell_type": "code",
   "execution_count": 170,
   "id": "8e618ac4",
   "metadata": {},
   "outputs": [],
   "source": [
    "from glob import glob"
   ]
  },
  {
   "cell_type": "code",
   "execution_count": 172,
   "id": "29b127ac",
   "metadata": {},
   "outputs": [
    {
     "name": "stdout",
     "output_type": "stream",
     "text": [
      "C:/Program Files\n",
      "C:/Program Files (x86)\n",
      "C:/ProgramData\n"
     ]
    }
   ],
   "source": [
    "files = glob(\"C:/Program*\")\n",
    "for file in files:\n",
    "    print(file)"
   ]
  },
  {
   "cell_type": "code",
   "execution_count": 173,
   "id": "7b802c35",
   "metadata": {},
   "outputs": [],
   "source": [
    "import pickle"
   ]
  },
  {
   "cell_type": "code",
   "execution_count": 175,
   "id": "fd7a72f4",
   "metadata": {},
   "outputs": [],
   "source": [
    "with open(\"C:/python_data/students.txt\", 'wb') as f:\n",
    "    pickle.dump(students2, f)\n"
   ]
  },
  {
   "cell_type": "code",
   "execution_count": 176,
   "id": "ae1053f8",
   "metadata": {},
   "outputs": [
    {
     "name": "stdout",
     "output_type": "stream",
     "text": [
      "name: 박이름, age: 24, major: 독어독문학\n",
      "name: 김이름, age: 20, major: 영어영문학\n",
      "name: 이이름, age: 40, major: 컴퓨터과학\n"
     ]
    }
   ],
   "source": [
    "with open(\"C:/python_data/students.txt\", 'rb') as f:\n",
    "    students3 = pickle.load(f)\n",
    "    for item in students3:\n",
    "        print(item)"
   ]
  },
  {
   "cell_type": "code",
   "execution_count": 177,
   "id": "2124f0ce",
   "metadata": {},
   "outputs": [],
   "source": [
    "import os"
   ]
  },
  {
   "cell_type": "code",
   "execution_count": 178,
   "id": "b99d7aa9",
   "metadata": {},
   "outputs": [
    {
     "data": {
      "text/plain": [
       "0"
      ]
     },
     "execution_count": 178,
     "metadata": {},
     "output_type": "execute_result"
    }
   ],
   "source": [
    "os.system(\"dir\")"
   ]
  },
  {
   "cell_type": "code",
   "execution_count": 1,
   "id": "b446b7fd",
   "metadata": {},
   "outputs": [],
   "source": [
    "import json\n",
    "students = [\n",
    "    {'name': '이이름', 'age': 40, 'mager': '컴퓨터과학'},\n",
    "    {'name': '김이름', 'age': 20, 'mager': '영어영문학'},\n",
    "    {'name': '박이름', 'age': 24, 'mager': '독어독문학'}\n",
    "]\n",
    "with open(\"C:/python_data/students.json\", 'w') as f:\n",
    "    json.dump(students, f, ensure_ascii=False)"
   ]
  },
  {
   "cell_type": "code",
   "execution_count": 2,
   "id": "8ca5709a",
   "metadata": {},
   "outputs": [
    {
     "name": "stdout",
     "output_type": "stream",
     "text": [
      "[{'name': '이이름', 'age': 40, 'mager': '컴퓨터과학'}, {'name': '김이름', 'age': 20, 'mager': '영어영문학'}, {'name': '박이름', 'age': 24, 'mager': '독어독문학'}]\n"
     ]
    }
   ],
   "source": [
    "with open(\"C:/python_data/students.json\", 'r') as f:\n",
    "    students2 = json.load(f)\n",
    "    print(students2)"
   ]
  }
 ],
 "metadata": {
  "kernelspec": {
   "display_name": "basic",
   "language": "python",
   "name": "python3"
  },
  "language_info": {
   "codemirror_mode": {
    "name": "ipython",
    "version": 3
   },
   "file_extension": ".py",
   "mimetype": "text/x-python",
   "name": "python",
   "nbconvert_exporter": "python",
   "pygments_lexer": "ipython3",
   "version": "3.12.10"
  }
 },
 "nbformat": 4,
 "nbformat_minor": 5
}
