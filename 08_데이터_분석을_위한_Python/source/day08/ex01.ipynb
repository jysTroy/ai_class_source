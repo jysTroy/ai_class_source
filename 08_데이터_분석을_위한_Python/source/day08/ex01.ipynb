{
 "cells": [
  {
   "cell_type": "markdown",
   "id": "aae14b2a",
   "metadata": {},
   "source": [
    "## 컴파일 옵션\n",
    "```python\n",
    "\tp = re.compile(\"패턴\", re.옵션상수)\n",
    "```\n",
    "\t\n",
    "1) DOTALL, S\n",
    "- re.DOTALL\n",
    "- .는 기본동작으로 \\\\n을 제외한 모든 문자이지만, re.DOTALL 컴파일 옵션을 추가하면 \\\\n도 포함한 모든 문자 1개로 인식\n",
    "\n",
    "2) IGNORECASE, I \n",
    "- re.IGNORECASE : 대소문자 구분없는 패턴 / re.I\n",
    "\n",
    "3) MULTILINE, M\n",
    "- 일반 패턴은 한줄만 패턴을 체크\n",
    "- re.MULTILINE / re.M\n",
    "\n",
    "4) VERBOSE, X\n",
    "- 패턴의 해석에 대한 자세한 정보 re.VERBOSE | re.X\n",
    "\n",
    "5) 여러 개 컴파일 옵션을 사용하는 경우 | 연산자로 이어준다 예) re.M | re.I"
   ]
  },
  {
   "cell_type": "code",
   "execution_count": 2,
   "id": "395dc529",
   "metadata": {},
   "outputs": [],
   "source": [
    "import re"
   ]
  },
  {
   "cell_type": "code",
   "execution_count": 3,
   "id": "70409881",
   "metadata": {},
   "outputs": [],
   "source": [
    "words = [\"a11234b\", \"a     b\", \"a!b\", \"a\\nb\"]"
   ]
  },
  {
   "cell_type": "code",
   "execution_count": 6,
   "id": "89588d90",
   "metadata": {},
   "outputs": [
    {
     "name": "stdout",
     "output_type": "stream",
     "text": [
      "<re.Match object; span=(0, 7), match='a11234b'>\n",
      "<re.Match object; span=(0, 7), match='a     b'>\n",
      "<re.Match object; span=(0, 3), match='a!b'>\n",
      "<re.Match object; span=(0, 3), match='a\\nb'>\n"
     ]
    }
   ],
   "source": [
    "# p = re.compile(\"a.*b\")\n",
    "# p = re.compile(\"a.*b\", re.DOTALL) # 줄개행 문자 (\\n)을 포함한 모든 문자로 인식\n",
    "p = re.compile(\"a.*b\", re.S)\n",
    "for word in words:\n",
    "    m = p.match(word)\n",
    "    print(m)"
   ]
  },
  {
   "cell_type": "code",
   "execution_count": 14,
   "id": "f1f5e536",
   "metadata": {},
   "outputs": [],
   "source": [
    "# p = re.compile(\"python\", re.IGNORECASE)\n",
    "p = re.compile(\"python\", re.I)"
   ]
  },
  {
   "cell_type": "code",
   "execution_count": 15,
   "id": "f7306a86",
   "metadata": {},
   "outputs": [],
   "source": [
    "str = \"I love python, you love Python too\""
   ]
  },
  {
   "cell_type": "code",
   "execution_count": 16,
   "id": "2eaf6085",
   "metadata": {},
   "outputs": [
    {
     "data": {
      "text/plain": [
       "['python', 'Python']"
      ]
     },
     "execution_count": 16,
     "metadata": {},
     "output_type": "execute_result"
    }
   ],
   "source": [
    "search = p.findall(str)\n",
    "search"
   ]
  },
  {
   "cell_type": "code",
   "execution_count": null,
   "id": "8ea25051",
   "metadata": {},
   "outputs": [],
   "source": [
    "str = \"\"\"python one\n",
    "123\n",
    "python two\n",
    "456\n",
    "python three\n",
    "789\n",
    "\"\"\""
   ]
  },
  {
   "cell_type": "code",
   "execution_count": 21,
   "id": "342cbc0b",
   "metadata": {},
   "outputs": [],
   "source": [
    "# p = re.compile(r\"^python\\s\\w+\")\n",
    "p = re.compile(r\"^python\\s\\w+\", re.M)"
   ]
  },
  {
   "cell_type": "code",
   "execution_count": 22,
   "id": "fd3f4da0",
   "metadata": {},
   "outputs": [
    {
     "data": {
      "text/plain": [
       "['python one', 'python two', 'python three']"
      ]
     },
     "execution_count": 22,
     "metadata": {},
     "output_type": "execute_result"
    }
   ],
   "source": [
    "items = p.findall(str)\n",
    "items"
   ]
  },
  {
   "cell_type": "markdown",
   "id": "e34c6c3d",
   "metadata": {},
   "source": [
    "- ^패턴 : 패턴으로 시작, 패턴$ : 패턴으로 종료 / 한 라인\n",
    "- \\\\A패턴 : 여러 줄로 구성된 문장에서 패턴으로 시작\n",
    "- 패턴\\\\Z : 여러 줄로 구성된 문장에서 패턴으로 종료"
   ]
  },
  {
   "cell_type": "code",
   "execution_count": 26,
   "id": "f2958c21",
   "metadata": {},
   "outputs": [],
   "source": [
    "p = re.compile(r\"^python.+\\d$\")\n",
    "m = p.match(str)"
   ]
  },
  {
   "cell_type": "code",
   "execution_count": 27,
   "id": "f348ef83",
   "metadata": {},
   "outputs": [],
   "source": [
    "p = re.compile(r\"\\Apython.+\\d\\Z, re.M\")\n",
    "m = p.match(str)"
   ]
  }
 ],
 "metadata": {
  "kernelspec": {
   "display_name": "basic",
   "language": "python",
   "name": "python3"
  },
  "language_info": {
   "codemirror_mode": {
    "name": "ipython",
    "version": 3
   },
   "file_extension": ".py",
   "mimetype": "text/x-python",
   "name": "python",
   "nbconvert_exporter": "python",
   "pygments_lexer": "ipython3",
   "version": "3.12.10"
  }
 },
 "nbformat": 4,
 "nbformat_minor": 5
}
