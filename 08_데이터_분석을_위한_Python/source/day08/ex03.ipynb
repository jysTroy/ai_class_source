{
 "cells": [
  {
   "cell_type": "markdown",
   "id": "d7f9961c",
   "metadata": {},
   "source": [
    "## 그루핑\n",
    "1. () : 패턴을 그룹화\n",
    "\n",
    "2. group(인덱스)\n",
    "\n",
    "3. 그루핑된 문자열 재참조하기\n",
    "4. 그루핑된 문자열에 이름 붙이기"
   ]
  },
  {
   "cell_type": "code",
   "execution_count": 1,
   "id": "09d8bb62",
   "metadata": {},
   "outputs": [],
   "source": [
    "str = \"ABCABCABC\""
   ]
  },
  {
   "cell_type": "code",
   "execution_count": 2,
   "id": "ea525689",
   "metadata": {},
   "outputs": [],
   "source": [
    "import re"
   ]
  },
  {
   "cell_type": "code",
   "execution_count": 4,
   "id": "e8a6543c",
   "metadata": {},
   "outputs": [
    {
     "data": {
      "text/plain": [
       "<re.Match object; span=(0, 9), match='ABCABCABC'>"
      ]
     },
     "execution_count": 4,
     "metadata": {},
     "output_type": "execute_result"
    }
   ],
   "source": [
    "p = re.compile(r\"(ABC){1,3}\")\n",
    "m = p.search(str)\n",
    "m"
   ]
  },
  {
   "cell_type": "code",
   "execution_count": 13,
   "id": "64913980",
   "metadata": {},
   "outputs": [],
   "source": [
    "str = \"\"\"이이름 010-1000-1000\n",
    "김이름 010-2000-2000\n",
    "Rachel 010-3000-3000\n",
    "\"\"\""
   ]
  },
  {
   "cell_type": "code",
   "execution_count": 18,
   "id": "981ace20",
   "metadata": {},
   "outputs": [],
   "source": [
    "# p = re.compile(r\"^[a-zㄱ-ㅎ가-힣]+\\s+010\\D*\\d{4}\\D*\\d{4}$\", re.M | re.I)\n",
    "p = re.compile(r\"(^[a-zㄱ-ㅎ가-힣]+)\\s+(010\\D*\\d{4}\\D*\\d{4}$)\", re.M | re.I)"
   ]
  },
  {
   "cell_type": "code",
   "execution_count": 19,
   "id": "a8c71d7f",
   "metadata": {},
   "outputs": [
    {
     "data": {
      "text/plain": [
       "[('이이름', '010-1000-1000'),\n",
       " ('김이름', '010-2000-2000'),\n",
       " ('Rachel', '010-3000-3000')]"
      ]
     },
     "execution_count": 19,
     "metadata": {},
     "output_type": "execute_result"
    }
   ],
   "source": [
    "items = p.findall(str)\n",
    "items"
   ]
  },
  {
   "cell_type": "code",
   "execution_count": 20,
   "id": "997c0d5c",
   "metadata": {},
   "outputs": [
    {
     "name": "stdout",
     "output_type": "stream",
     "text": [
      "m.group(): 이이름 010-1000-1000\n",
      "m.group(1): 이이름\n",
      "m.group(2): 010-1000-1000\n",
      "m.group(): 김이름 010-2000-2000\n",
      "m.group(1): 김이름\n",
      "m.group(2): 010-2000-2000\n",
      "m.group(): Rachel 010-3000-3000\n",
      "m.group(1): Rachel\n",
      "m.group(2): 010-3000-3000\n"
     ]
    }
   ],
   "source": [
    "for m in p.finditer(str):\n",
    "    print(f\"m.group(): {m.group()}\")\n",
    "    print(f\"m.group(1): {m.group(1)}\")\n",
    "    print(f\"m.group(2): {m.group(2)}\")"
   ]
  },
  {
   "cell_type": "markdown",
   "id": "301ae078",
   "metadata": {},
   "source": [
    "## 문자열 바꾸기\n",
    "1. sub \n",
    "    - count : 지정하지 않으면 전체 문자열에서 모든 패턴을 치환, 숫자를 지정하면 지정된 숫자만큼의 패턴만 치환\n",
    "    - 첫 번째 매개변수에 함수가 올 수 있다. 패턴 문자열만 가지고 치환하기 어려운 경우, 함수 내에 로직을 작성\n",
    "    \n",
    "2. subn\n",
    "    - sub + count 기능 포함, 반환값은 튜플"
   ]
  },
  {
   "cell_type": "code",
   "execution_count": 21,
   "id": "23c99875",
   "metadata": {},
   "outputs": [],
   "source": [
    "str = \"\"\"이이름 010-1000-1000\n",
    "김이름 010-2000-2000\n",
    "Rachel 010-3000-3000\n",
    "\"\"\""
   ]
  },
  {
   "cell_type": "code",
   "execution_count": 22,
   "id": "576273f7",
   "metadata": {},
   "outputs": [],
   "source": [
    "p = re.compile(r\"(^[a-zㄱ-ㅎ가-힣]+)\\s+(010\\D*\\d{4}\\D*\\d{4}$)\", re.M | re.I)"
   ]
  },
  {
   "cell_type": "code",
   "execution_count": 23,
   "id": "f175575e",
   "metadata": {},
   "outputs": [
    {
     "name": "stdout",
     "output_type": "stream",
     "text": [
      "010-1000-1000 이이름\n",
      "010-2000-2000 김이름\n",
      "010-3000-3000 Rachel\n",
      "\n"
     ]
    }
   ],
   "source": [
    "str2 = p.sub(r\"\\g<2> \\g<1>\", str)\n",
    "print(str2)"
   ]
  },
  {
   "cell_type": "markdown",
   "id": "d6486717",
   "metadata": {},
   "source": [
    "- 그룹핑의 이름을 설정\n",
    "```\n",
    "(?p<이름>)\n",
    "```"
   ]
  },
  {
   "cell_type": "code",
   "execution_count": 24,
   "id": "d6533c4c",
   "metadata": {},
   "outputs": [],
   "source": [
    "p = re.compile(r\"(?P<name>^[a-zㄱ-ㅎ가-힣]+)\\s+(?P<mobile>010\\D*\\d{4}\\D*\\d{4}$)\", re.M | re.I)"
   ]
  },
  {
   "cell_type": "code",
   "execution_count": 25,
   "id": "54b89a79",
   "metadata": {},
   "outputs": [
    {
     "name": "stdout",
     "output_type": "stream",
     "text": [
      "010-1000-1000 이이름\n",
      "010-2000-2000 김이름\n",
      "010-3000-3000 Rachel\n",
      "\n"
     ]
    }
   ],
   "source": [
    "str2 = p.sub(r\"\\g<mobile> \\g<name>\", str)\n",
    "print(str2)"
   ]
  },
  {
   "cell_type": "markdown",
   "id": "b9b6bb73",
   "metadata": {},
   "source": [
    "- 그룹화된 패턴을 재활용"
   ]
  },
  {
   "cell_type": "code",
   "execution_count": 27,
   "id": "8c5ba3f6",
   "metadata": {},
   "outputs": [],
   "source": [
    "str = \"Paris in the the spring\""
   ]
  },
  {
   "cell_type": "code",
   "execution_count": 32,
   "id": "3d0a01e3",
   "metadata": {},
   "outputs": [],
   "source": [
    "# p = re.compile(r\"(\\w+)\\s\\1\")\n",
    "p = re.compile(r\"(?P<word>\\w+)\\s+(?P=word)\")"
   ]
  },
  {
   "cell_type": "code",
   "execution_count": 34,
   "id": "75014068",
   "metadata": {},
   "outputs": [
    {
     "data": {
      "text/plain": [
       "<re.Match object; span=(9, 16), match='the the'>"
      ]
     },
     "execution_count": 34,
     "metadata": {},
     "output_type": "execute_result"
    }
   ],
   "source": [
    "m = p.search(str)\n",
    "m"
   ]
  },
  {
   "cell_type": "code",
   "execution_count": 35,
   "id": "9f0a5748",
   "metadata": {},
   "outputs": [],
   "source": [
    "str = \"one little, two little, three little indians\""
   ]
  },
  {
   "cell_type": "code",
   "execution_count": 36,
   "id": "2e8ebd71",
   "metadata": {},
   "outputs": [],
   "source": [
    "p = re.compile(\"little\")"
   ]
  },
  {
   "cell_type": "code",
   "execution_count": 38,
   "id": "0f38c4c0",
   "metadata": {},
   "outputs": [
    {
     "data": {
      "text/plain": [
       "'one big, two big, three little indians'"
      ]
     },
     "execution_count": 38,
     "metadata": {},
     "output_type": "execute_result"
    }
   ],
   "source": [
    "# str2 = p.sub(\"big\", str)\n",
    "str2 = p.sub(\"big\", str, count=2) # 왼쪽부터 매칭되는 패턴 2개만 치환\n",
    "str2"
   ]
  },
  {
   "cell_type": "code",
   "execution_count": 39,
   "id": "070daa66",
   "metadata": {},
   "outputs": [
    {
     "data": {
      "text/plain": [
       "('one big, two big, three little indians', 2)"
      ]
     },
     "execution_count": 39,
     "metadata": {},
     "output_type": "execute_result"
    }
   ],
   "source": [
    "result = p.subn(\"big\", str, 2)\n",
    "result"
   ]
  },
  {
   "cell_type": "code",
   "execution_count": 41,
   "id": "a2777f7f",
   "metadata": {},
   "outputs": [
    {
     "data": {
      "text/plain": [
       "'one LITTLE, two LITTLE, three LITTLE indians'"
      ]
     },
     "execution_count": 41,
     "metadata": {},
     "output_type": "execute_result"
    }
   ],
   "source": [
    "str2 = p.sub(lambda s: s.group().upper(), str)\n",
    "str2"
   ]
  },
  {
   "cell_type": "markdown",
   "id": "4e0af7ca",
   "metadata": {},
   "source": [
    "### 전방 탐색\n",
    "1. 긍정형 전방 탐색\n",
    "- 특정 패턴의 앞쪽 패턴으로 한정\n",
    "```\n",
    "\n",
    "앞쪽 패턴(?=특정패턴)\n",
    "```\n",
    "\n",
    "2. 부정형 전방 탐색\n",
    "- 특정 패턴이 아닌 앞쪽 패턴으로 한정\n",
    "```\n",
    "앞쪽패턴(?!특정패턴)\n",
    "```"
   ]
  },
  {
   "cell_type": "code",
   "execution_count": 50,
   "id": "149d7381",
   "metadata": {},
   "outputs": [],
   "source": [
    "str = \"\"\"https://www.naver.com\n",
    "https://www.daum.net\n",
    "http://www.webnmobile.net\n",
    "\"\"\""
   ]
  },
  {
   "cell_type": "code",
   "execution_count": 51,
   "id": "933cd30b",
   "metadata": {},
   "outputs": [],
   "source": [
    "# p = re.compile(r\"http[s]?://\", re.M)\n",
    "p = re.compile(r\"http[s]?(?=://)\")"
   ]
  },
  {
   "cell_type": "code",
   "execution_count": 52,
   "id": "bf0e4171",
   "metadata": {},
   "outputs": [
    {
     "data": {
      "text/plain": [
       "['https', 'https', 'http']"
      ]
     },
     "execution_count": 52,
     "metadata": {},
     "output_type": "execute_result"
    }
   ],
   "source": [
    "items = p.findall(str)\n",
    "items"
   ]
  },
  {
   "cell_type": "code",
   "execution_count": null,
   "id": "47c375cd",
   "metadata": {},
   "outputs": [],
   "source": [
    "p = re.compile(r\"http[s]?://(www\\.)?([^.]+(?=\\.net$))\", re.M) # 전방 탐색"
   ]
  },
  {
   "cell_type": "code",
   "execution_count": 64,
   "id": "77afc8b8",
   "metadata": {},
   "outputs": [
    {
     "name": "stdout",
     "output_type": "stream",
     "text": [
      "daum\n",
      "webnmobile\n"
     ]
    }
   ],
   "source": [
    "for item in p.finditer(str):\n",
    "    print(item.group(2))"
   ]
  },
  {
   "cell_type": "code",
   "execution_count": 78,
   "id": "429e2902",
   "metadata": {},
   "outputs": [],
   "source": [
    "p = re.compile(r\"http[s]?://(www\\.)?(.+(?!\\.net$))\", re.M) # 전방 부정 탐색, .net으로 끝나지 않는 앞쪽 패턴 문자"
   ]
  },
  {
   "cell_type": "code",
   "execution_count": 80,
   "id": "8f2660b9",
   "metadata": {},
   "outputs": [
    {
     "name": "stdout",
     "output_type": "stream",
     "text": [
      "naver.com\n",
      "daum.net\n",
      "webnmobile.net\n"
     ]
    }
   ],
   "source": [
    "for item in p.finditer(str):\n",
    "    print(item.group(2))"
   ]
  },
  {
   "cell_type": "markdown",
   "id": "82f7359c",
   "metadata": {},
   "source": [
    "### greedy와 non-greedy\n",
    "- 패턴+, 패턴*, 패턴?, 패턴{n,m} : 최대 매칭(greedy)\n",
    "- 패턴+?, 패턴*?, 패턴??, 패턴{n,m}? : 최소 매칭(non-greedy)"
   ]
  },
  {
   "cell_type": "code",
   "execution_count": 81,
   "id": "47515070",
   "metadata": {},
   "outputs": [],
   "source": [
    "str = \"<html><head><title>사이트 제목</title></head><body></body></html>\""
   ]
  },
  {
   "cell_type": "code",
   "execution_count": 85,
   "id": "c8c012d3",
   "metadata": {},
   "outputs": [],
   "source": [
    "p = re.compile(r\"<.*>\") # greedy : 최대 매칭"
   ]
  },
  {
   "cell_type": "code",
   "execution_count": 86,
   "id": "00add4d9",
   "metadata": {},
   "outputs": [
    {
     "data": {
      "text/plain": [
       "'<html><head><title>사이트 제목</title></head><body></body></html>'"
      ]
     },
     "execution_count": 86,
     "metadata": {},
     "output_type": "execute_result"
    }
   ],
   "source": [
    "m = p.search(str)\n",
    "m.group()"
   ]
  },
  {
   "cell_type": "code",
   "execution_count": 87,
   "id": "08d21af6",
   "metadata": {},
   "outputs": [],
   "source": [
    "p = re.compile(r\"<.*?>\") # non-greedy : 최소 매칭"
   ]
  },
  {
   "cell_type": "code",
   "execution_count": 88,
   "id": "aa88aa4b",
   "metadata": {},
   "outputs": [
    {
     "data": {
      "text/plain": [
       "<re.Match object; span=(0, 6), match='<html>'>"
      ]
     },
     "execution_count": 88,
     "metadata": {},
     "output_type": "execute_result"
    }
   ],
   "source": [
    "m = p.search(str)\n",
    "m"
   ]
  },
  {
   "cell_type": "code",
   "execution_count": null,
   "id": "affc884d",
   "metadata": {},
   "outputs": [],
   "source": []
  }
 ],
 "metadata": {
  "kernelspec": {
   "display_name": "basic",
   "language": "python",
   "name": "python3"
  },
  "language_info": {
   "codemirror_mode": {
    "name": "ipython",
    "version": 3
   },
   "file_extension": ".py",
   "mimetype": "text/x-python",
   "name": "python",
   "nbconvert_exporter": "python",
   "pygments_lexer": "ipython3",
   "version": "3.12.10"
  }
 },
 "nbformat": 4,
 "nbformat_minor": 5
}
