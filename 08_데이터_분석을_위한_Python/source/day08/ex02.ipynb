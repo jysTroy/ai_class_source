{
 "cells": [
  {
   "cell_type": "markdown",
   "id": "5b0caaf9",
   "metadata": {},
   "source": [
    "## 문자열 소비가 없는 메타 문자\n",
    "1. |\n",
    "\t- or 연산자와 비슷\n",
    "```python\n",
    "\tone|two|three -> one 또는 two 또는 three\n",
    "```\n",
    "2. ^ : ^패턴 - 패턴으로 시작\n",
    "3. $ : 패턴$ - 패턴으로 종료\n",
    "4. \\A : 여러 줄 전체 문장에서 시작하는 패턴\n",
    "5. \\Z : 여러 줄 전체 문장에서 종료하는 패턴\n",
    "6. \\b \n",
    "\t- 문자 클래스 내에서 사용되면 \\[b\\] : 백스페이스 키를 한 번 누른 것(한 글자가 뒤에서부터 삭제)\n",
    "\t- 문자 클래스가 아닌 패턴으로 사용되는 경우 : 단어의 경계선을 의미한다.\n",
    "7. \\B \n",
    "\t- \\[^\\\\b\\]\n",
    "\t- 단어의 경계선이 아닌 문자\n"
   ]
  },
  {
   "cell_type": "code",
   "execution_count": 1,
   "id": "caa22fb9",
   "metadata": {},
   "outputs": [],
   "source": [
    "import re"
   ]
  },
  {
   "cell_type": "code",
   "execution_count": 6,
   "id": "205c9e4d",
   "metadata": {},
   "outputs": [],
   "source": [
    "str = \"\"\"I like an apple\n",
    "I like an orange\n",
    "I like a pear\n",
    "\"\"\""
   ]
  },
  {
   "cell_type": "code",
   "execution_count": 7,
   "id": "ca34e416",
   "metadata": {},
   "outputs": [
    {
     "data": {
      "text/plain": [
       "['apple', 'orange', 'pear']"
      ]
     },
     "execution_count": 7,
     "metadata": {},
     "output_type": "execute_result"
    }
   ],
   "source": [
    "p = re.compile(r\"apple|orange|pear\", re.M)\n",
    "items = p.findall(str)\n",
    "items"
   ]
  },
  {
   "cell_type": "code",
   "execution_count": 12,
   "id": "a7c667b1",
   "metadata": {},
   "outputs": [],
   "source": [
    "# str = \"our class is over at 6:30pm\"\n",
    "str = \"class is over at 6:30pm\"\n",
    "str2 = \"our class and subclass\""
   ]
  },
  {
   "cell_type": "code",
   "execution_count": 13,
   "id": "65f94ec8",
   "metadata": {},
   "outputs": [],
   "source": [
    "p = re.compile(r\"\\bclass\\b\")"
   ]
  },
  {
   "cell_type": "code",
   "execution_count": 23,
   "id": "16c375d9",
   "metadata": {},
   "outputs": [],
   "source": [
    "m = p.search(str)\n",
    "m"
   ]
  },
  {
   "cell_type": "code",
   "execution_count": 24,
   "id": "9f022b33",
   "metadata": {},
   "outputs": [
    {
     "data": {
      "text/plain": [
       "<re.Match object; span=(17, 22), match='class'>"
      ]
     },
     "execution_count": 24,
     "metadata": {},
     "output_type": "execute_result"
    }
   ],
   "source": [
    "m = p.search(str2)\n",
    "m"
   ]
  },
  {
   "cell_type": "code",
   "execution_count": 25,
   "id": "abe91f13",
   "metadata": {},
   "outputs": [
    {
     "data": {
      "text/plain": [
       "['class']"
      ]
     },
     "execution_count": 25,
     "metadata": {},
     "output_type": "execute_result"
    }
   ],
   "source": [
    "items = p.findall(str2)\n",
    "items"
   ]
  },
  {
   "cell_type": "code",
   "execution_count": 26,
   "id": "c2cf7079",
   "metadata": {},
   "outputs": [],
   "source": [
    "p = re.compile(r\"\\Bclass\\b\")"
   ]
  },
  {
   "cell_type": "code",
   "execution_count": 28,
   "id": "cb7e9827",
   "metadata": {},
   "outputs": [
    {
     "data": {
      "text/plain": [
       "<re.Match object; span=(17, 22), match='class'>"
      ]
     },
     "execution_count": 28,
     "metadata": {},
     "output_type": "execute_result"
    }
   ],
   "source": [
    "items = p.search(str2)\n",
    "items"
   ]
  },
  {
   "cell_type": "code",
   "execution_count": null,
   "id": "52ac93d9",
   "metadata": {},
   "outputs": [],
   "source": []
  }
 ],
 "metadata": {
  "kernelspec": {
   "display_name": "basic",
   "language": "python",
   "name": "python3"
  },
  "language_info": {
   "codemirror_mode": {
    "name": "ipython",
    "version": 3
   },
   "file_extension": ".py",
   "mimetype": "text/x-python",
   "name": "python",
   "nbconvert_exporter": "python",
   "pygments_lexer": "ipython3",
   "version": "3.12.10"
  }
 },
 "nbformat": 4,
 "nbformat_minor": 5
}
