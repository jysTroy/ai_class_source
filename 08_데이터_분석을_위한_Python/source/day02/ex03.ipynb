{
 "cells": [
  {
   "cell_type": "markdown",
   "id": "731e1816",
   "metadata": {},
   "source": [
    "## 딕셔너리 자료형\n",
    "- 딕셔너리란?\n",
    "키, 값의 쌍\n",
    "\t\n",
    "- 딕셔너리는 어떻게 만들까?\n",
    "```python\n",
    "    변수 = {키: 값, 키: 값, ...}\n",
    "    변수 = dict({키: 값, 키: 값, ...})\n",
    "    변수['키']\n",
    "```"
   ]
  },
  {
   "cell_type": "code",
   "execution_count": 7,
   "id": "c1a7dd16",
   "metadata": {},
   "outputs": [],
   "source": [
    "# person = {'name': '이이름', 'age' : 40}\n",
    "person = dict({'name': '이이름', 'age': 40})"
   ]
  },
  {
   "cell_type": "code",
   "execution_count": 8,
   "id": "89bcaadc",
   "metadata": {},
   "outputs": [
    {
     "name": "stdout",
     "output_type": "stream",
     "text": [
      "이이름 40\n"
     ]
    }
   ],
   "source": [
    "print(person['name'], person['age'])"
   ]
  },
  {
   "cell_type": "markdown",
   "id": "78e8d33a",
   "metadata": {},
   "source": [
    "## 추가, 수정, 삭제\n",
    "- 추가 : 없는 키 값에 추가하면 추가\n",
    "- 수정 : 동일한 키 값에 추가하면 수정\n",
    "- 삭제 : del 연산자"
   ]
  },
  {
   "cell_type": "code",
   "execution_count": 4,
   "id": "46bb7dde",
   "metadata": {},
   "outputs": [
    {
     "data": {
      "text/plain": [
       "{'name': '이이름', 'age': 40, 'address': '주소'}"
      ]
     },
     "execution_count": 4,
     "metadata": {},
     "output_type": "execute_result"
    }
   ],
   "source": [
    "person['address'] = '주소'\n",
    "person"
   ]
  },
  {
   "cell_type": "code",
   "execution_count": 5,
   "id": "50103e3b",
   "metadata": {},
   "outputs": [
    {
     "data": {
      "text/plain": [
       "{'name': '이이름', 'age': 40, 'address': '(수정)주소'}"
      ]
     },
     "execution_count": 5,
     "metadata": {},
     "output_type": "execute_result"
    }
   ],
   "source": [
    "person['address'] = '(수정)주소'\n",
    "person"
   ]
  },
  {
   "cell_type": "code",
   "execution_count": 6,
   "id": "140e0ab3",
   "metadata": {},
   "outputs": [
    {
     "data": {
      "text/plain": [
       "{'name': '이이름', 'age': 40}"
      ]
     },
     "execution_count": 6,
     "metadata": {},
     "output_type": "execute_result"
    }
   ],
   "source": [
    "del person['address']\n",
    "person"
   ]
  },
  {
   "cell_type": "markdown",
   "id": "3d733f8b",
   "metadata": {},
   "source": [
    "### 조회\n",
    "    - 변수명\\['키'\\]\n",
    "        - '키' 조회한 값이 존재하지 않으면 KeyError발생\n",
    "    - 변수명.get('키')\n",
    "        - '키' 조회한 값이 없으면 None\n",
    "        - 값이 없을 때 대체할 수 있는 기본값 설정\n",
    "            - 변수명.get('키', '기본값')\n",
    "\n",
    "> 참고 : None은 자바와 비교하면 null과 비슷"
   ]
  },
  {
   "cell_type": "code",
   "execution_count": 9,
   "id": "13f47f84",
   "metadata": {},
   "outputs": [
    {
     "ename": "KeyError",
     "evalue": "'address'",
     "output_type": "error",
     "traceback": [
      "\u001b[31m---------------------------------------------------------------------------\u001b[39m",
      "\u001b[31mKeyError\u001b[39m                                  Traceback (most recent call last)",
      "\u001b[36mCell\u001b[39m\u001b[36m \u001b[39m\u001b[32mIn[9]\u001b[39m\u001b[32m, line 1\u001b[39m\n\u001b[32m----> \u001b[39m\u001b[32m1\u001b[39m \u001b[43mperson\u001b[49m\u001b[43m[\u001b[49m\u001b[33;43m'\u001b[39;49m\u001b[33;43maddress\u001b[39;49m\u001b[33;43m'\u001b[39;49m\u001b[43m]\u001b[49m\n",
      "\u001b[31mKeyError\u001b[39m: 'address'"
     ]
    }
   ],
   "source": [
    "person['address']"
   ]
  },
  {
   "cell_type": "code",
   "execution_count": null,
   "id": "2682d149",
   "metadata": {},
   "outputs": [],
   "source": [
    "value = person.get('address')\n",
    "value # None"
   ]
  },
  {
   "cell_type": "code",
   "execution_count": 13,
   "id": "6158bf3f",
   "metadata": {},
   "outputs": [
    {
     "data": {
      "text/plain": [
       "'기본주소'"
      ]
     },
     "execution_count": 13,
     "metadata": {},
     "output_type": "execute_result"
    }
   ],
   "source": [
    "value = person.get('address', '기본주소')\n",
    "value"
   ]
  },
  {
   "cell_type": "markdown",
   "id": "a65cd530",
   "metadata": {},
   "source": [
    "# 딕셔너리 관련 함수\n",
    "1) Key 리스트 만들기 - keys\n",
    "\t- 딕셔너리의 키값 목록\n",
    "\t-\tdict_keys 자료형으로 반환\n",
    "\t참고) 자바의 Map:keySet()과 유사\n",
    "2) Value 리스트 만들기 - values\n",
    "\t- 딕셔너리의 값의 목록\n",
    "\t- dict_values 자료형으로 반환\n",
    "\t참고) 자바의 Map: values()와 유사\n",
    "3) Key, Value 쌍 얻기 - items\n",
    "\t- 키, 값의 쌍의 목록\n",
    "\t- dict_items 자료형으로 반환\n",
    "\t참고) 자바의 Map: entrySet()와 유사\n",
    "4) Key: Value 쌍 모두 지우기 - clear\n",
    "\t- 딕셔너리 비우기\n",
    "\n",
    "> dict_keys, dict_values, dict_items -> 보통은 리스트 자료형으로 변환 후 사용하는 경우가 많다.\n",
    "> list(...)로 감싸면 된다.\n",
    "> 튜플로 사용할거면 tuple(...)로 감싸면 된다."
   ]
  },
  {
   "cell_type": "code",
   "execution_count": 14,
   "id": "17a7cebc",
   "metadata": {},
   "outputs": [
    {
     "data": {
      "text/plain": [
       "dict_keys(['name', 'age'])"
      ]
     },
     "execution_count": 14,
     "metadata": {},
     "output_type": "execute_result"
    }
   ],
   "source": [
    "person.keys()"
   ]
  },
  {
   "cell_type": "code",
   "execution_count": 16,
   "id": "ba629246",
   "metadata": {},
   "outputs": [
    {
     "name": "stdout",
     "output_type": "stream",
     "text": [
      "['name', 'age']\n"
     ]
    }
   ],
   "source": [
    "keys = list(person.keys())\n",
    "print(keys)"
   ]
  },
  {
   "cell_type": "code",
   "execution_count": 17,
   "id": "e6b3d58c",
   "metadata": {},
   "outputs": [
    {
     "data": {
      "text/plain": [
       "dict_values(['이이름', 40])"
      ]
     },
     "execution_count": 17,
     "metadata": {},
     "output_type": "execute_result"
    }
   ],
   "source": [
    "person.values()"
   ]
  },
  {
   "cell_type": "code",
   "execution_count": 18,
   "id": "9bf18ef2",
   "metadata": {},
   "outputs": [
    {
     "data": {
      "text/plain": [
       "('이이름', 40)"
      ]
     },
     "execution_count": 18,
     "metadata": {},
     "output_type": "execute_result"
    }
   ],
   "source": [
    "values = tuple(person.values())\n",
    "values"
   ]
  },
  {
   "cell_type": "code",
   "execution_count": 19,
   "id": "e1a6a063",
   "metadata": {},
   "outputs": [
    {
     "data": {
      "text/plain": [
       "dict_items([('name', '이이름'), ('age', 40)])"
      ]
     },
     "execution_count": 19,
     "metadata": {},
     "output_type": "execute_result"
    }
   ],
   "source": [
    "person.items()"
   ]
  },
  {
   "cell_type": "code",
   "execution_count": 21,
   "id": "eef60fa4",
   "metadata": {},
   "outputs": [
    {
     "name": "stdout",
     "output_type": "stream",
     "text": [
      "('name', '이이름') <class 'tuple'>\n",
      "('age', 40) <class 'tuple'>\n"
     ]
    }
   ],
   "source": [
    "for item in person.items():\n",
    "    print(item, type(item))"
   ]
  },
  {
   "cell_type": "code",
   "execution_count": 22,
   "id": "8fff0297",
   "metadata": {},
   "outputs": [
    {
     "name": "stdout",
     "output_type": "stream",
     "text": [
      "key name value 이이름\n",
      "key age value 40\n"
     ]
    }
   ],
   "source": [
    "for (key, value) in person.items():\n",
    "    print(\"key\", key, \"value\", value)"
   ]
  },
  {
   "cell_type": "code",
   "execution_count": 24,
   "id": "0f8bed7a",
   "metadata": {},
   "outputs": [
    {
     "name": "stdout",
     "output_type": "stream",
     "text": [
      "key name value 이이름\n",
      "key age value 40\n"
     ]
    }
   ],
   "source": [
    "for key, value in person.items():\n",
    "    print(\"key\", key, \"value\", value)"
   ]
  },
  {
   "cell_type": "code",
   "execution_count": 25,
   "id": "70f064ab",
   "metadata": {},
   "outputs": [
    {
     "ename": "TypeError",
     "evalue": "unhashable type: 'list'",
     "output_type": "error",
     "traceback": [
      "\u001b[31m---------------------------------------------------------------------------\u001b[39m",
      "\u001b[31mTypeError\u001b[39m                                 Traceback (most recent call last)",
      "\u001b[36mCell\u001b[39m\u001b[36m \u001b[39m\u001b[32mIn[25]\u001b[39m\u001b[32m, line 1\u001b[39m\n\u001b[32m----> \u001b[39m\u001b[32m1\u001b[39m a = {[\u001b[32m1\u001b[39m, \u001b[32m2\u001b[39m, \u001b[32m3\u001b[39m]: \u001b[33m'\u001b[39m\u001b[33m값\u001b[39m\u001b[33m'\u001b[39m}\n",
      "\u001b[31mTypeError\u001b[39m: unhashable type: 'list'"
     ]
    }
   ],
   "source": [
    "a = {[1, 2, 3]: '값'}"
   ]
  },
  {
   "cell_type": "code",
   "execution_count": 26,
   "id": "7125b5a5",
   "metadata": {},
   "outputs": [],
   "source": [
    "a = {(1, 2, 3): '값'}"
   ]
  }
 ],
 "metadata": {
  "kernelspec": {
   "display_name": "basic",
   "language": "python",
   "name": "python3"
  },
  "language_info": {
   "codemirror_mode": {
    "name": "ipython",
    "version": 3
   },
   "file_extension": ".py",
   "mimetype": "text/x-python",
   "name": "python",
   "nbconvert_exporter": "python",
   "pygments_lexer": "ipython3",
   "version": "3.12.10"
  }
 },
 "nbformat": 4,
 "nbformat_minor": 5
}
