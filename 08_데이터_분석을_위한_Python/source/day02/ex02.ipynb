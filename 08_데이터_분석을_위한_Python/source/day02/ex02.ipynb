{
 "cells": [
  {
   "cell_type": "markdown",
   "id": "253f828b",
   "metadata": {},
   "source": [
    "## 튜플 자료형\n",
    "### 특징\n",
    "- 순차 자료구조\n",
    "- 수정 불가 리스트\n",
    "- 추가, 수정, 삭제가 불가\n",
    "> 자바의 unmodifiable List와 비슷"
   ]
  },
  {
   "cell_type": "code",
   "execution_count": 2,
   "id": "3c73fba8",
   "metadata": {},
   "outputs": [],
   "source": [
    "fruits = (\"사과\", \"오렌지\", \"바나나\", \"멜론\")"
   ]
  },
  {
   "cell_type": "code",
   "execution_count": 3,
   "id": "d160e2f2",
   "metadata": {},
   "outputs": [
    {
     "data": {
      "text/plain": [
       "'사과'"
      ]
     },
     "execution_count": 3,
     "metadata": {},
     "output_type": "execute_result"
    }
   ],
   "source": [
    "fruits[0]"
   ]
  },
  {
   "cell_type": "code",
   "execution_count": 5,
   "id": "f6f8e44b",
   "metadata": {},
   "outputs": [
    {
     "ename": "TypeError",
     "evalue": "'tuple' object does not support item assignment",
     "output_type": "error",
     "traceback": [
      "\u001b[31m---------------------------------------------------------------------------\u001b[39m",
      "\u001b[31mTypeError\u001b[39m                                 Traceback (most recent call last)",
      "\u001b[36mCell\u001b[39m\u001b[36m \u001b[39m\u001b[32mIn[5]\u001b[39m\u001b[32m, line 1\u001b[39m\n\u001b[32m----> \u001b[39m\u001b[32m1\u001b[39m \u001b[43mfruits\u001b[49m\u001b[43m[\u001b[49m\u001b[32;43m1\u001b[39;49m\u001b[43m]\u001b[49m = \u001b[33m\"\u001b[39m\u001b[33m(수정)오렌지\u001b[39m\u001b[33m\"\u001b[39m\n",
      "\u001b[31mTypeError\u001b[39m: 'tuple' object does not support item assignment"
     ]
    }
   ],
   "source": [
    "fruits[1] = \"(수정)오렌지\""
   ]
  },
  {
   "cell_type": "code",
   "execution_count": 6,
   "id": "03dfac53",
   "metadata": {},
   "outputs": [
    {
     "ename": "TypeError",
     "evalue": "'tuple' object doesn't support item deletion",
     "output_type": "error",
     "traceback": [
      "\u001b[31m---------------------------------------------------------------------------\u001b[39m",
      "\u001b[31mTypeError\u001b[39m                                 Traceback (most recent call last)",
      "\u001b[36mCell\u001b[39m\u001b[36m \u001b[39m\u001b[32mIn[6]\u001b[39m\u001b[32m, line 1\u001b[39m\n\u001b[32m----> \u001b[39m\u001b[32m1\u001b[39m \u001b[38;5;28;01mdel\u001b[39;00m \u001b[43mfruits\u001b[49m\u001b[43m[\u001b[49m\u001b[32;43m0\u001b[39;49m\u001b[43m]\u001b[49m\n",
      "\u001b[31mTypeError\u001b[39m: 'tuple' object doesn't support item deletion"
     ]
    }
   ],
   "source": [
    "del fruits[0]"
   ]
  },
  {
   "cell_type": "code",
   "execution_count": 7,
   "id": "04010a47",
   "metadata": {},
   "outputs": [
    {
     "data": {
      "text/plain": [
       "['사과', '오렌지', '바나나', '멜론']"
      ]
     },
     "execution_count": 7,
     "metadata": {},
     "output_type": "execute_result"
    }
   ],
   "source": [
    "fruits2 = list(fruits)\n",
    "fruits2"
   ]
  },
  {
   "cell_type": "code",
   "execution_count": 8,
   "id": "2a329f51",
   "metadata": {},
   "outputs": [
    {
     "data": {
      "text/plain": [
       "['사과', '(수정)오렌지', '바나나', '멜론']"
      ]
     },
     "execution_count": 8,
     "metadata": {},
     "output_type": "execute_result"
    }
   ],
   "source": [
    "fruits2[1] = \"(수정)오렌지\"\n",
    "fruits2"
   ]
  },
  {
   "cell_type": "code",
   "execution_count": 9,
   "id": "4e1ade34",
   "metadata": {},
   "outputs": [
    {
     "data": {
      "text/plain": [
       "tuple"
      ]
     },
     "execution_count": 9,
     "metadata": {},
     "output_type": "execute_result"
    }
   ],
   "source": [
    "type(fruits)"
   ]
  },
  {
   "cell_type": "code",
   "execution_count": 10,
   "id": "9608b1f9",
   "metadata": {},
   "outputs": [
    {
     "data": {
      "text/plain": [
       "int"
      ]
     },
     "execution_count": 10,
     "metadata": {},
     "output_type": "execute_result"
    }
   ],
   "source": [
    "a = (10)\n",
    "type(a)"
   ]
  },
  {
   "cell_type": "code",
   "execution_count": 11,
   "id": "724e79f1",
   "metadata": {},
   "outputs": [
    {
     "data": {
      "text/plain": [
       "10"
      ]
     },
     "execution_count": 11,
     "metadata": {},
     "output_type": "execute_result"
    }
   ],
   "source": [
    "a"
   ]
  },
  {
   "cell_type": "code",
   "execution_count": 12,
   "id": "8a874936",
   "metadata": {},
   "outputs": [
    {
     "name": "stdout",
     "output_type": "stream",
     "text": [
      "<class 'tuple'>\n",
      "(10,)\n"
     ]
    }
   ],
   "source": [
    "a = (10,)\n",
    "print(type(a))\n",
    "print(a)"
   ]
  },
  {
   "cell_type": "markdown",
   "id": "80ffdb5b",
   "metadata": {},
   "source": [
    "### 기타\n",
    "- 튜플에서 \\( \\)는 생략 가능\n",
    "- 변수에 튜플 값을 순서대로 할당"
   ]
  },
  {
   "cell_type": "code",
   "execution_count": 13,
   "id": "2d119c28",
   "metadata": {},
   "outputs": [
    {
     "name": "stdout",
     "output_type": "stream",
     "text": [
      "(10, 20, 30) <class 'tuple'>\n",
      "(10, 20, 30) <class 'tuple'>\n"
     ]
    }
   ],
   "source": [
    "a = (10, 20, 30)\n",
    "print(a,type(a))\n",
    "\n",
    "b = 10, 20, 30 #튜플\n",
    "print(b, type(b))"
   ]
  },
  {
   "cell_type": "code",
   "execution_count": 16,
   "id": "054f14bf",
   "metadata": {},
   "outputs": [],
   "source": [
    "# (c, d) = (10, 20)\n",
    "# c, d = (10, 20)\n",
    "c, d = 10, 20"
   ]
  },
  {
   "cell_type": "code",
   "execution_count": null,
   "id": "33c33136",
   "metadata": {},
   "outputs": [
    {
     "name": "stdout",
     "output_type": "stream",
     "text": [
      "10 20\n"
     ]
    }
   ],
   "source": [
    "print(c, d) "
   ]
  },
  {
   "cell_type": "code",
   "execution_count": null,
   "id": "580b1736",
   "metadata": {},
   "outputs": [],
   "source": [
    "a = 10\n",
    "b = 20    "
   ]
  },
  {
   "cell_type": "code",
   "execution_count": 21,
   "id": "398da2ad",
   "metadata": {},
   "outputs": [
    {
     "name": "stdout",
     "output_type": "stream",
     "text": [
      "10 20\n"
     ]
    }
   ],
   "source": [
    "tmp = a\n",
    "a = b\n",
    "b = tmp\n",
    "print(a, b)"
   ]
  },
  {
   "cell_type": "code",
   "execution_count": 23,
   "id": "aed7d883",
   "metadata": {},
   "outputs": [
    {
     "name": "stdout",
     "output_type": "stream",
     "text": [
      "10 20\n"
     ]
    }
   ],
   "source": [
    "b, a = a, b\n",
    "print(a, b)"
   ]
  }
 ],
 "metadata": {
  "kernelspec": {
   "display_name": "basic",
   "language": "python",
   "name": "python3"
  },
  "language_info": {
   "codemirror_mode": {
    "name": "ipython",
    "version": 3
   },
   "file_extension": ".py",
   "mimetype": "text/x-python",
   "name": "python",
   "nbconvert_exporter": "python",
   "pygments_lexer": "ipython3",
   "version": "3.12.10"
  }
 },
 "nbformat": 4,
 "nbformat_minor": 5
}
