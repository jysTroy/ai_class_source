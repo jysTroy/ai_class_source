{
 "cells": [
  {
   "cell_type": "markdown",
   "id": "18abd96c",
   "metadata": {},
   "source": [
    "## 자료형의 참과 거짓\n",
    "\t값을 가지고도 참 거짓 판별 가능\n",
    "\t\n",
    "\t거짓으로 판별하는 값(False)\n",
    "\t1) \"\" : 빈 문자열\n",
    "\t2) 0\n",
    "\t3) None\n",
    "\t4) [] : 비어있는 리스트\n",
    "\t5) () : 비어있는 튜플\n",
    "\n",
    "    -> 이외의 모든 값은 참으로 판별(True)"
   ]
  },
  {
   "cell_type": "code",
   "execution_count": 8,
   "id": "160b1b0d",
   "metadata": {},
   "outputs": [],
   "source": [
    "# result = True\n",
    "# result = None\n",
    "result = []"
   ]
  },
  {
   "cell_type": "code",
   "execution_count": 9,
   "id": "76205caa",
   "metadata": {},
   "outputs": [
    {
     "name": "stdout",
     "output_type": "stream",
     "text": [
      "거짓\n"
     ]
    }
   ],
   "source": [
    "if result:\n",
    "    print(\"참\")\n",
    "else:\n",
    "    print(\"거짓\")"
   ]
  },
  {
   "cell_type": "code",
   "execution_count": 11,
   "id": "9db155e2",
   "metadata": {},
   "outputs": [
    {
     "name": "stdout",
     "output_type": "stream",
     "text": [
      "<class 'list'>\n",
      "False <class 'bool'>\n"
     ]
    }
   ],
   "source": [
    "# bool(값) : 값을 논리형 자료형 값인 True, False로 변환\n",
    "print(type(result))\n",
    "\n",
    "result2 = bool(result)\n",
    "print(result2, type(result2))"
   ]
  },
  {
   "cell_type": "code",
   "execution_count": null,
   "id": "f9dc817f",
   "metadata": {},
   "outputs": [],
   "source": []
  }
 ],
 "metadata": {
  "kernelspec": {
   "display_name": "basic",
   "language": "python",
   "name": "python3"
  },
  "language_info": {
   "codemirror_mode": {
    "name": "ipython",
    "version": 3
   },
   "file_extension": ".py",
   "mimetype": "text/x-python",
   "name": "python",
   "nbconvert_exporter": "python",
   "pygments_lexer": "ipython3",
   "version": "3.12.10"
  }
 },
 "nbformat": 4,
 "nbformat_minor": 5
}
