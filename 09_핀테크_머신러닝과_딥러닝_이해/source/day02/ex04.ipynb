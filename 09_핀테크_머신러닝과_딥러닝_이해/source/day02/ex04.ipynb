{
 "cells": [
  {
   "cell_type": "code",
   "execution_count": 1,
   "id": "045a55d5",
   "metadata": {},
   "outputs": [],
   "source": [
    "# numpy 배열 브로드 캐스팅 기능\n",
    "import numpy as np"
   ]
  },
  {
   "cell_type": "code",
   "execution_count": 7,
   "id": "f24b7a18",
   "metadata": {},
   "outputs": [
    {
     "data": {
      "text/plain": [
       "array([22, 24, 26, 28, 30, 32, 34, 36, 38, 40])"
      ]
     },
     "execution_count": 7,
     "metadata": {},
     "output_type": "execute_result"
    }
   ],
   "source": [
    "# nums = np.array([1, 2, 3, 4, 5, 6, 7, 8, 9, 10])\n",
    "nums = np.arange(1, 11)\n",
    "\"\"\"\n",
    "    np.arange(10) : 0~9\n",
    "    np.arange(1 , 11) : 1 ~ 10\n",
    "    np.arange(1, 11, 2) : 1, 3, 5, 7, 9\n",
    "\"\"\"\n",
    "nums = nums + 10\n",
    "nums = nums * 2\n",
    "nums"
   ]
  },
  {
   "cell_type": "code",
   "execution_count": 8,
   "id": "8b89d1ab",
   "metadata": {},
   "outputs": [
    {
     "data": {
      "text/plain": [
       "array([[22, 24, 26, 28, 30],\n",
       "       [32, 34, 36, 38, 40]])"
      ]
     },
     "execution_count": 8,
     "metadata": {},
     "output_type": "execute_result"
    }
   ],
   "source": [
    "# 배열의 차원 변경, reshape\n",
    "nums2= nums.reshape(2, 5) # 2행 5열\n",
    "nums2"
   ]
  },
  {
   "cell_type": "code",
   "execution_count": 10,
   "id": "7fe6e3d0",
   "metadata": {},
   "outputs": [
    {
     "data": {
      "text/plain": [
       "array([[22, 24],\n",
       "       [26, 28],\n",
       "       [30, 32],\n",
       "       [34, 36],\n",
       "       [38, 40]])"
      ]
     },
     "execution_count": 10,
     "metadata": {},
     "output_type": "execute_result"
    }
   ],
   "source": [
    "nums3 = nums.reshape(5, 2) # 5행 2열\n",
    "nums3"
   ]
  },
  {
   "cell_type": "code",
   "execution_count": 11,
   "id": "dbfafb8e",
   "metadata": {},
   "outputs": [
    {
     "ename": "ValueError",
     "evalue": "cannot reshape array of size 10 into shape (3,3)",
     "output_type": "error",
     "traceback": [
      "\u001b[31m---------------------------------------------------------------------------\u001b[39m",
      "\u001b[31mValueError\u001b[39m                                Traceback (most recent call last)",
      "\u001b[36mCell\u001b[39m\u001b[36m \u001b[39m\u001b[32mIn[11]\u001b[39m\u001b[32m, line 1\u001b[39m\n\u001b[32m----> \u001b[39m\u001b[32m1\u001b[39m nums4 = \u001b[43mnums\u001b[49m\u001b[43m.\u001b[49m\u001b[43mreshape\u001b[49m\u001b[43m(\u001b[49m\u001b[32;43m3\u001b[39;49m\u001b[43m,\u001b[49m\u001b[43m \u001b[49m\u001b[32;43m3\u001b[39;49m\u001b[43m)\u001b[49m\n",
      "\u001b[31mValueError\u001b[39m: cannot reshape array of size 10 into shape (3,3)"
     ]
    }
   ],
   "source": [
    "nums4 = nums.reshape(3, 3)"
   ]
  },
  {
   "cell_type": "code",
   "execution_count": 14,
   "id": "a11d3d87",
   "metadata": {},
   "outputs": [
    {
     "data": {
      "text/plain": [
       "array([[22],\n",
       "       [24],\n",
       "       [26],\n",
       "       [28],\n",
       "       [30],\n",
       "       [32],\n",
       "       [34],\n",
       "       [36],\n",
       "       [38],\n",
       "       [40]])"
      ]
     },
     "execution_count": 14,
     "metadata": {},
     "output_type": "execute_result"
    }
   ],
   "source": [
    "# nums5 = nums.reshape(10, 1) \n",
    "nums5 = nums.reshape(-1, 1) # 전체 열을 전체 행의 갯수\n",
    "nums5"
   ]
  },
  {
   "cell_type": "code",
   "execution_count": 15,
   "id": "c152dbb6",
   "metadata": {},
   "outputs": [
    {
     "data": {
      "text/plain": [
       "array([22, 24, 26, 28, 30, 32, 34, 36, 38, 40])"
      ]
     },
     "execution_count": 15,
     "metadata": {},
     "output_type": "execute_result"
    }
   ],
   "source": [
    "nums"
   ]
  },
  {
   "cell_type": "code",
   "execution_count": 16,
   "id": "2f33f24f",
   "metadata": {},
   "outputs": [],
   "source": [
    "np.random.shuffle(nums)"
   ]
  },
  {
   "cell_type": "code",
   "execution_count": 18,
   "id": "daa4f164",
   "metadata": {},
   "outputs": [
    {
     "data": {
      "text/plain": [
       "array([28, 24, 34, 26, 32, 36, 40, 38, 30, 22])"
      ]
     },
     "execution_count": 18,
     "metadata": {},
     "output_type": "execute_result"
    }
   ],
   "source": [
    "nums"
   ]
  },
  {
   "cell_type": "code",
   "execution_count": 19,
   "id": "771f8964",
   "metadata": {},
   "outputs": [],
   "source": [
    "fruits = np.array(['사과', '오렌지', '바나나', '망고', '멜론'])"
   ]
  },
  {
   "cell_type": "code",
   "execution_count": 20,
   "id": "2b0784ac",
   "metadata": {},
   "outputs": [
    {
     "data": {
      "text/plain": [
       "array(['오렌지', '바나나', '망고'], dtype='<U3')"
      ]
     },
     "execution_count": 20,
     "metadata": {},
     "output_type": "execute_result"
    }
   ],
   "source": [
    "fruits[[1,2,3]]"
   ]
  },
  {
   "cell_type": "code",
   "execution_count": 21,
   "id": "10334ce7",
   "metadata": {},
   "outputs": [
    {
     "data": {
      "text/plain": [
       "array(['오렌지', '망고'], dtype='<U3')"
      ]
     },
     "execution_count": 21,
     "metadata": {},
     "output_type": "execute_result"
    }
   ],
   "source": [
    "fruits[[False, True, False, True, False]] # 불리언 인덱싱"
   ]
  }
 ],
 "metadata": {
  "kernelspec": {
   "display_name": ".venv",
   "language": "python",
   "name": "python3"
  },
  "language_info": {
   "codemirror_mode": {
    "name": "ipython",
    "version": 3
   },
   "file_extension": ".py",
   "mimetype": "text/x-python",
   "name": "python",
   "nbconvert_exporter": "python",
   "pygments_lexer": "ipython3",
   "version": "3.12.10"
  }
 },
 "nbformat": 4,
 "nbformat_minor": 5
}
