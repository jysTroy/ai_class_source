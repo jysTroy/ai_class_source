{
 "cells": [
  {
   "cell_type": "code",
   "execution_count": 14,
   "id": "d7a931ea",
   "metadata": {},
   "outputs": [],
   "source": [
    "from selenium import webdriver\n",
    "from selenium.webdriver.common.by import By\n",
    "import time"
   ]
  },
  {
   "cell_type": "code",
   "execution_count": 15,
   "id": "0df865ce",
   "metadata": {},
   "outputs": [],
   "source": [
    "driver = webdriver.Chrome()\n",
    "driver.get(\"https://news.naver.com/section/105\")\n",
    "time.sleep(3)"
   ]
  },
  {
   "cell_type": "code",
   "execution_count": 16,
   "id": "437029a0",
   "metadata": {},
   "outputs": [
    {
     "data": {
      "text/plain": [
       "<selenium.webdriver.remote.webelement.WebElement (session=\"64911372bf53c790696f7ce06fbed8db\", element=\"f.1D9FB8A111F6C10B7E1B4D784A53D1B8.d.E5766B0B8A46D1521F427F91BAA51B6D.e.77\")>"
      ]
     },
     "execution_count": 16,
     "metadata": {},
     "output_type": "execute_result"
    }
   ],
   "source": [
    "headline_section = driver.find_element(By.CLASS_NAME, 'as_headline')\n",
    "headline_section"
   ]
  },
  {
   "cell_type": "code",
   "execution_count": 17,
   "id": "90248654",
   "metadata": {},
   "outputs": [],
   "source": [
    "items = headline_section\n"
   ]
  },
  {
   "cell_type": "code",
   "execution_count": 18,
   "id": "04901646",
   "metadata": {},
   "outputs": [
    {
     "ename": "TypeError",
     "evalue": "'WebElement' object is not iterable",
     "output_type": "error",
     "traceback": [
      "\u001b[31m---------------------------------------------------------------------------\u001b[39m",
      "\u001b[31mTypeError\u001b[39m                                 Traceback (most recent call last)",
      "\u001b[36mCell\u001b[39m\u001b[36m \u001b[39m\u001b[32mIn[18]\u001b[39m\u001b[32m, line 1\u001b[39m\n\u001b[32m----> \u001b[39m\u001b[32m1\u001b[39m \u001b[38;5;28;43;01mfor\u001b[39;49;00m\u001b[43m \u001b[49m\u001b[43mitem\u001b[49m\u001b[43m \u001b[49m\u001b[38;5;129;43;01min\u001b[39;49;00m\u001b[43m \u001b[49m\u001b[43mitems\u001b[49m\u001b[43m:\u001b[49m\n\u001b[32m      2\u001b[39m \u001b[43m    \u001b[49m\u001b[38;5;28;43mprint\u001b[39;49m\u001b[43m(\u001b[49m\u001b[43mitem\u001b[49m\u001b[43m.\u001b[49m\u001b[43mtext\u001b[49m\u001b[43m)\u001b[49m\n",
      "\u001b[31mTypeError\u001b[39m: 'WebElement' object is not iterable"
     ]
    }
   ],
   "source": [
    "for item in items:\n",
    "    print(item.text)"
   ]
  },
  {
   "cell_type": "code",
   "execution_count": 19,
   "id": "cc26a0e7",
   "metadata": {},
   "outputs": [
    {
     "data": {
      "text/plain": [
       "[<selenium.webdriver.remote.webelement.WebElement (session=\"64911372bf53c790696f7ce06fbed8db\", element=\"f.1D9FB8A111F6C10B7E1B4D784A53D1B8.d.E5766B0B8A46D1521F427F91BAA51B6D.e.16\")>,\n",
       " <selenium.webdriver.remote.webelement.WebElement (session=\"64911372bf53c790696f7ce06fbed8db\", element=\"f.1D9FB8A111F6C10B7E1B4D784A53D1B8.d.E5766B0B8A46D1521F427F91BAA51B6D.e.17\")>,\n",
       " <selenium.webdriver.remote.webelement.WebElement (session=\"64911372bf53c790696f7ce06fbed8db\", element=\"f.1D9FB8A111F6C10B7E1B4D784A53D1B8.d.E5766B0B8A46D1521F427F91BAA51B6D.e.18\")>,\n",
       " <selenium.webdriver.remote.webelement.WebElement (session=\"64911372bf53c790696f7ce06fbed8db\", element=\"f.1D9FB8A111F6C10B7E1B4D784A53D1B8.d.E5766B0B8A46D1521F427F91BAA51B6D.e.19\")>,\n",
       " <selenium.webdriver.remote.webelement.WebElement (session=\"64911372bf53c790696f7ce06fbed8db\", element=\"f.1D9FB8A111F6C10B7E1B4D784A53D1B8.d.E5766B0B8A46D1521F427F91BAA51B6D.e.20\")>,\n",
       " <selenium.webdriver.remote.webelement.WebElement (session=\"64911372bf53c790696f7ce06fbed8db\", element=\"f.1D9FB8A111F6C10B7E1B4D784A53D1B8.d.E5766B0B8A46D1521F427F91BAA51B6D.e.21\")>,\n",
       " <selenium.webdriver.remote.webelement.WebElement (session=\"64911372bf53c790696f7ce06fbed8db\", element=\"f.1D9FB8A111F6C10B7E1B4D784A53D1B8.d.E5766B0B8A46D1521F427F91BAA51B6D.e.22\")>]"
      ]
     },
     "execution_count": 19,
     "metadata": {},
     "output_type": "execute_result"
    }
   ],
   "source": [
    "images = driver.find_elements(By.CSS_SELECTOR, \".as_headline .sa_thumb_link img\")\n",
    "images"
   ]
  },
  {
   "cell_type": "code",
   "execution_count": 20,
   "id": "06c39957",
   "metadata": {},
   "outputs": [],
   "source": [
    "from urllib.request import urlretrieve\n",
    "\n",
    "for i, image in enumerate(images):\n",
    "    image_url = image.get_attribute('src')\n",
    "    urlretrieve(image_url, f\"C:/uploads/{i}.jpg\")"
   ]
  },
  {
   "cell_type": "code",
   "execution_count": 24,
   "id": "6702bb18",
   "metadata": {},
   "outputs": [],
   "source": [
    "from bs4 import BeautifulSoup as bs\n",
    "\n",
    "html = driver.page_source\n",
    "soup = bs(html, 'html.parser')"
   ]
  },
  {
   "cell_type": "code",
   "execution_count": 25,
   "id": "23f6e7d9",
   "metadata": {},
   "outputs": [],
   "source": [
    "# 자바스크립트 실행\n",
    "driver.execute_script(\"alert('자바스크립트 실행');\")"
   ]
  },
  {
   "cell_type": "code",
   "execution_count": null,
   "id": "c8a38879",
   "metadata": {},
   "outputs": [],
   "source": []
  }
 ],
 "metadata": {
  "kernelspec": {
   "display_name": ".venv",
   "language": "python",
   "name": "python3"
  },
  "language_info": {
   "codemirror_mode": {
    "name": "ipython",
    "version": 3
   },
   "file_extension": ".py",
   "mimetype": "text/x-python",
   "name": "python",
   "nbconvert_exporter": "python",
   "pygments_lexer": "ipython3",
   "version": "3.12.10"
  }
 },
 "nbformat": 4,
 "nbformat_minor": 5
}
