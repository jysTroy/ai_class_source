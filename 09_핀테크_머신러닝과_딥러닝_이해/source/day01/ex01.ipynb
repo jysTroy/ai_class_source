{
 "cells": [
  {
   "cell_type": "code",
   "execution_count": 16,
   "id": "a3e658b5",
   "metadata": {},
   "outputs": [],
   "source": [
    "from selenium import webdriver\n",
    "from selenium.webdriver.common.by import By\n",
    "from selenium.webdriver.common.keys import Keys\n",
    "import time\n",
    "\n",
    "driver = webdriver.Chrome()\n",
    "\n",
    "# 브라우저의 주소창을 변경하고 이동\n",
    "driver.get('https://www.naver.com')\n",
    "\n",
    "time.sleep(3)"
   ]
  },
  {
   "cell_type": "code",
   "execution_count": 17,
   "id": "bae7bbe1",
   "metadata": {},
   "outputs": [
    {
     "data": {
      "text/plain": [
       "<selenium.webdriver.remote.webelement.WebElement (session=\"0aec1b0b76b92391ecb0a04f22031fbf\", element=\"f.9CD2307FBAC6010BF7244E9A80A9CEE6.d.C18432C004A45A56B67ED134E20D6525.e.4\")>"
      ]
     },
     "execution_count": 17,
     "metadata": {},
     "output_type": "execute_result"
    }
   ],
   "source": [
    "# search_box = driver.find_element(By.ID, \"query\")\n",
    "search_box = driver.find_element(By.XPATH, \"//form[@id='sform']/fieldset/div/input\")\n",
    "search_box"
   ]
  },
  {
   "cell_type": "code",
   "execution_count": 18,
   "id": "6183ea4e",
   "metadata": {},
   "outputs": [],
   "source": [
    "search_box.send_keys(\"블로그\")\n",
    "search_box.send_keys(Keys.ENTER) # 엔터키"
   ]
  },
  {
   "cell_type": "code",
   "execution_count": 19,
   "id": "0cd78825",
   "metadata": {},
   "outputs": [],
   "source": [
    "# search_btn = driver.find_element(By.CLASS_NAME, 'btn_search')\n",
    "# search_btn.click()"
   ]
  },
  {
   "cell_type": "code",
   "execution_count": null,
   "id": "0e2897f4",
   "metadata": {},
   "outputs": [],
   "source": []
  }
 ],
 "metadata": {
  "kernelspec": {
   "display_name": ".venv",
   "language": "python",
   "name": "python3"
  },
  "language_info": {
   "codemirror_mode": {
    "name": "ipython",
    "version": 3
   },
   "file_extension": ".py",
   "mimetype": "text/x-python",
   "name": "python",
   "nbconvert_exporter": "python",
   "pygments_lexer": "ipython3",
   "version": "3.12.10"
  }
 },
 "nbformat": 4,
 "nbformat_minor": 5
}
