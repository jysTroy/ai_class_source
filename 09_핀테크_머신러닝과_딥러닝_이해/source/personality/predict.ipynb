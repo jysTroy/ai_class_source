{
 "cells": [
  {
   "cell_type": "code",
   "execution_count": 8,
   "id": "75abf4ec",
   "metadata": {},
   "outputs": [],
   "source": [
    "import pickle \n",
    "from sklearn.ensemble import HistGradientBoostingClassifier"
   ]
  },
  {
   "cell_type": "code",
   "execution_count": 9,
   "id": "49bf779b",
   "metadata": {},
   "outputs": [],
   "source": [
    "# 학습한 모델 불러오기\n",
    "with open(\"model.pkl\", \"rb\") as f:\n",
    "    model = pickle.load(f)"
   ]
  },
  {
   "cell_type": "code",
   "execution_count": 10,
   "id": "f300b2ad",
   "metadata": {},
   "outputs": [],
   "source": [
    "# 분류하기\n",
    "import numpy as np\n",
    "test_data = np.array([[10.0, 1.0, 3.0, 3.0, 1.0, 5.0, 3.0],\n",
    " [4.505816002819881, 0.0, 3.963354474982382, 5.0, 0.0, 14.0, 5.0],\n",
    " [5.0, 1.0, 0.0, 0.0, 1.0, 0.0, 2.0],\n",
    " [10.0, 1.0, 2.0, 2.0, 1.0, 2.0, 1.0],\n",
    " [7.0, 1.0, 0.0, 0.0, 1.0, 2.0, 1.0]])"
   ]
  },
  {
   "cell_type": "code",
   "execution_count": 11,
   "id": "b134f7f0",
   "metadata": {},
   "outputs": [
    {
     "data": {
      "text/plain": [
       "array([1, 0, 1, 1, 1])"
      ]
     },
     "execution_count": 11,
     "metadata": {},
     "output_type": "execute_result"
    }
   ],
   "source": [
    "model.predict(test_data)"
   ]
  }
 ],
 "metadata": {
  "kernelspec": {
   "display_name": ".venv",
   "language": "python",
   "name": "python3"
  },
  "language_info": {
   "codemirror_mode": {
    "name": "ipython",
    "version": 3
   },
   "file_extension": ".py",
   "mimetype": "text/x-python",
   "name": "python",
   "nbconvert_exporter": "python",
   "pygments_lexer": "ipython3",
   "version": "3.12.10"
  }
 },
 "nbformat": 4,
 "nbformat_minor": 5
}
