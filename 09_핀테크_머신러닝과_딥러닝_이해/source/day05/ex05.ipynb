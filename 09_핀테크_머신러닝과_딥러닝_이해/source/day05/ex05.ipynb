{
 "cells": [
  {
   "cell_type": "code",
   "execution_count": 1,
   "id": "f38bc94f",
   "metadata": {},
   "outputs": [],
   "source": [
    "from scipy.stats import randint, uniform"
   ]
  },
  {
   "cell_type": "code",
   "execution_count": 4,
   "id": "11a5d27c",
   "metadata": {},
   "outputs": [
    {
     "data": {
      "text/plain": [
       "array([7, 6, 0, 9, 8, 8, 7, 4, 3, 0, 9])"
      ]
     },
     "execution_count": 4,
     "metadata": {},
     "output_type": "execute_result"
    }
   ],
   "source": [
    "ri = randint(0,10) # 0 ~ 9 무작위 수\n",
    "ri.rvs(11) # 0~9사이 무작위 수를 11개 생성"
   ]
  },
  {
   "cell_type": "code",
   "execution_count": 5,
   "id": "84abb7b5",
   "metadata": {},
   "outputs": [
    {
     "data": {
      "text/plain": [
       "(array([0, 1, 2, 3, 4, 5, 6, 7, 8, 9]),\n",
       " array([ 97, 102,  82,  85, 108, 117,  91, 113, 103, 102]))"
      ]
     },
     "execution_count": 5,
     "metadata": {},
     "output_type": "execute_result"
    }
   ],
   "source": [
    "import numpy as np\n",
    "\n",
    "np.unique(ri.rvs(1000), return_counts=True) # 중복된 총 갯수를 함께 반환"
   ]
  },
  {
   "cell_type": "code",
   "execution_count": 6,
   "id": "23af1824",
   "metadata": {},
   "outputs": [
    {
     "data": {
      "text/plain": [
       "array([0.75263657, 0.15610765, 0.23341662, 0.22390733, 0.83885265])"
      ]
     },
     "execution_count": 6,
     "metadata": {},
     "output_type": "execute_result"
    }
   ],
   "source": [
    "ui = uniform(0, 1) # 0~1사이의 무작위 실수\n",
    "ui.rvs(5) # 0~1사이 무작위 실수를 5개 생성"
   ]
  },
  {
   "cell_type": "code",
   "execution_count": null,
   "id": "d3c7dc06",
   "metadata": {},
   "outputs": [],
   "source": []
  }
 ],
 "metadata": {
  "kernelspec": {
   "display_name": ".venv",
   "language": "python",
   "name": "python3"
  },
  "language_info": {
   "codemirror_mode": {
    "name": "ipython",
    "version": 3
   },
   "file_extension": ".py",
   "mimetype": "text/x-python",
   "name": "python",
   "nbconvert_exporter": "python",
   "pygments_lexer": "ipython3",
   "version": "3.12.10"
  }
 },
 "nbformat": 4,
 "nbformat_minor": 5
}
